{
 "cells": [
  {
   "cell_type": "code",
   "execution_count": 1,
   "metadata": {},
   "outputs": [],
   "source": [
    "import pandas as pd\n",
    "import tweepy"
   ]
  },
  {
   "cell_type": "code",
   "execution_count": 12,
   "metadata": {},
   "outputs": [],
   "source": [
    "# Leer llaves\n",
    "keys = pd.read_csv(\"key_demovf_profe.csv\", header=None)\n",
    "keys = dict(zip(keys[0],keys[1]))\n"
   ]
  },
  {
   "cell_type": "code",
   "execution_count": 13,
   "metadata": {},
   "outputs": [],
   "source": [
    "# Autorizar a través API\n",
    "auth = tweepy.OAuthHandler(keys['api_key'], keys['api_key_secret'])\n",
    "auth.set_access_token(keys['access_token'], keys['access_token_secret'])\n",
    "api = tweepy.API(auth, wait_on_rate_limit=True)"
   ]
  },
  {
   "cell_type": "code",
   "execution_count": 14,
   "metadata": {},
   "outputs": [
    {
     "data": {
      "text/plain": [
       "Status(_api=<tweepy.api.API object at 0x00000260D262D310>, _json={'created_at': 'Fri Nov 13 03:30:33 +0000 2020', 'id': 1327091454192340992, 'id_str': '1327091454192340992', 'text': 'FpS FpS Ohhhhh Yeah', 'truncated': False, 'entities': {'hashtags': [], 'symbols': [], 'user_mentions': [], 'urls': []}, 'source': '', 'in_reply_to_status_id': None, 'in_reply_to_status_id_str': None, 'in_reply_to_user_id': None, 'in_reply_to_user_id_str': None, 'in_reply_to_screen_name': None, 'user': {'id': 1295079294239223812, 'id_str': '1295079294239223812', 'name': 'NLP', 'screen_name': 'NLP05980324', 'location': 'En algún rincón del universo', 'description': 'Mi clase es la mejor del mundo.', 'url': None, 'entities': {'description': {'urls': []}}, 'protected': False, 'followers_count': 1, 'friends_count': 5, 'listed_count': 0, 'created_at': 'Sun Aug 16 19:25:55 +0000 2020', 'favourites_count': 4, 'utc_offset': None, 'time_zone': None, 'geo_enabled': False, 'verified': False, 'statuses_count': 12, 'lang': None, 'contributors_enabled': False, 'is_translator': False, 'is_translation_enabled': False, 'profile_background_color': 'F5F8FA', 'profile_background_image_url': None, 'profile_background_image_url_https': None, 'profile_background_tile': False, 'profile_image_url': 'http://abs.twimg.com/sticky/default_profile_images/default_profile_normal.png', 'profile_image_url_https': 'https://abs.twimg.com/sticky/default_profile_images/default_profile_normal.png', 'profile_link_color': '1DA1F2', 'profile_sidebar_border_color': 'C0DEED', 'profile_sidebar_fill_color': 'DDEEF6', 'profile_text_color': '333333', 'profile_use_background_image': True, 'has_extended_profile': True, 'default_profile': True, 'default_profile_image': True, 'following': False, 'follow_request_sent': False, 'notifications': False, 'translator_type': 'none'}, 'geo': None, 'coordinates': None, 'place': None, 'contributors': None, 'is_quote_status': False, 'retweet_count': 0, 'favorite_count': 0, 'favorited': False, 'retweeted': False, 'lang': 'en'}, created_at=datetime.datetime(2020, 11, 13, 3, 30, 33), id=1327091454192340992, id_str='1327091454192340992', text='FpS FpS Ohhhhh Yeah', truncated=False, entities={'hashtags': [], 'symbols': [], 'user_mentions': [], 'urls': []}, source='', source_url=None, in_reply_to_status_id=None, in_reply_to_status_id_str=None, in_reply_to_user_id=None, in_reply_to_user_id_str=None, in_reply_to_screen_name=None, author=User(_api=<tweepy.api.API object at 0x00000260D262D310>, _json={'id': 1295079294239223812, 'id_str': '1295079294239223812', 'name': 'NLP', 'screen_name': 'NLP05980324', 'location': 'En algún rincón del universo', 'description': 'Mi clase es la mejor del mundo.', 'url': None, 'entities': {'description': {'urls': []}}, 'protected': False, 'followers_count': 1, 'friends_count': 5, 'listed_count': 0, 'created_at': 'Sun Aug 16 19:25:55 +0000 2020', 'favourites_count': 4, 'utc_offset': None, 'time_zone': None, 'geo_enabled': False, 'verified': False, 'statuses_count': 12, 'lang': None, 'contributors_enabled': False, 'is_translator': False, 'is_translation_enabled': False, 'profile_background_color': 'F5F8FA', 'profile_background_image_url': None, 'profile_background_image_url_https': None, 'profile_background_tile': False, 'profile_image_url': 'http://abs.twimg.com/sticky/default_profile_images/default_profile_normal.png', 'profile_image_url_https': 'https://abs.twimg.com/sticky/default_profile_images/default_profile_normal.png', 'profile_link_color': '1DA1F2', 'profile_sidebar_border_color': 'C0DEED', 'profile_sidebar_fill_color': 'DDEEF6', 'profile_text_color': '333333', 'profile_use_background_image': True, 'has_extended_profile': True, 'default_profile': True, 'default_profile_image': True, 'following': False, 'follow_request_sent': False, 'notifications': False, 'translator_type': 'none'}, id=1295079294239223812, id_str='1295079294239223812', name='NLP', screen_name='NLP05980324', location='En algún rincón del universo', description='Mi clase es la mejor del mundo.', url=None, entities={'description': {'urls': []}}, protected=False, followers_count=1, friends_count=5, listed_count=0, created_at=datetime.datetime(2020, 8, 16, 19, 25, 55), favourites_count=4, utc_offset=None, time_zone=None, geo_enabled=False, verified=False, statuses_count=12, lang=None, contributors_enabled=False, is_translator=False, is_translation_enabled=False, profile_background_color='F5F8FA', profile_background_image_url=None, profile_background_image_url_https=None, profile_background_tile=False, profile_image_url='http://abs.twimg.com/sticky/default_profile_images/default_profile_normal.png', profile_image_url_https='https://abs.twimg.com/sticky/default_profile_images/default_profile_normal.png', profile_link_color='1DA1F2', profile_sidebar_border_color='C0DEED', profile_sidebar_fill_color='DDEEF6', profile_text_color='333333', profile_use_background_image=True, has_extended_profile=True, default_profile=True, default_profile_image=True, following=False, follow_request_sent=False, notifications=False, translator_type='none'), user=User(_api=<tweepy.api.API object at 0x00000260D262D310>, _json={'id': 1295079294239223812, 'id_str': '1295079294239223812', 'name': 'NLP', 'screen_name': 'NLP05980324', 'location': 'En algún rincón del universo', 'description': 'Mi clase es la mejor del mundo.', 'url': None, 'entities': {'description': {'urls': []}}, 'protected': False, 'followers_count': 1, 'friends_count': 5, 'listed_count': 0, 'created_at': 'Sun Aug 16 19:25:55 +0000 2020', 'favourites_count': 4, 'utc_offset': None, 'time_zone': None, 'geo_enabled': False, 'verified': False, 'statuses_count': 12, 'lang': None, 'contributors_enabled': False, 'is_translator': False, 'is_translation_enabled': False, 'profile_background_color': 'F5F8FA', 'profile_background_image_url': None, 'profile_background_image_url_https': None, 'profile_background_tile': False, 'profile_image_url': 'http://abs.twimg.com/sticky/default_profile_images/default_profile_normal.png', 'profile_image_url_https': 'https://abs.twimg.com/sticky/default_profile_images/default_profile_normal.png', 'profile_link_color': '1DA1F2', 'profile_sidebar_border_color': 'C0DEED', 'profile_sidebar_fill_color': 'DDEEF6', 'profile_text_color': '333333', 'profile_use_background_image': True, 'has_extended_profile': True, 'default_profile': True, 'default_profile_image': True, 'following': False, 'follow_request_sent': False, 'notifications': False, 'translator_type': 'none'}, id=1295079294239223812, id_str='1295079294239223812', name='NLP', screen_name='NLP05980324', location='En algún rincón del universo', description='Mi clase es la mejor del mundo.', url=None, entities={'description': {'urls': []}}, protected=False, followers_count=1, friends_count=5, listed_count=0, created_at=datetime.datetime(2020, 8, 16, 19, 25, 55), favourites_count=4, utc_offset=None, time_zone=None, geo_enabled=False, verified=False, statuses_count=12, lang=None, contributors_enabled=False, is_translator=False, is_translation_enabled=False, profile_background_color='F5F8FA', profile_background_image_url=None, profile_background_image_url_https=None, profile_background_tile=False, profile_image_url='http://abs.twimg.com/sticky/default_profile_images/default_profile_normal.png', profile_image_url_https='https://abs.twimg.com/sticky/default_profile_images/default_profile_normal.png', profile_link_color='1DA1F2', profile_sidebar_border_color='C0DEED', profile_sidebar_fill_color='DDEEF6', profile_text_color='333333', profile_use_background_image=True, has_extended_profile=True, default_profile=True, default_profile_image=True, following=False, follow_request_sent=False, notifications=False, translator_type='none'), geo=None, coordinates=None, place=None, contributors=None, is_quote_status=False, retweet_count=0, favorite_count=0, favorited=False, retweeted=False, lang='en')"
      ]
     },
     "execution_count": 14,
     "metadata": {},
     "output_type": "execute_result"
    }
   ],
   "source": [
    "api.update_status('FpS FpS Ohhhhh Yeah')"
   ]
  },
  {
   "cell_type": "code",
   "execution_count": 15,
   "metadata": {},
   "outputs": [
    {
     "data": {
      "text/plain": [
       "Status(_api=<tweepy.api.API object at 0x00000260D262D310>, _json={'created_at': 'Fri Nov 13 03:33:18 +0000 2020', 'id': 1327092144583139328, 'id_str': '1327092144583139328', 'text': 'Espero que en esta clase me saque una buena nota____________FpS_______________', 'truncated': False, 'entities': {'hashtags': [], 'symbols': [], 'user_mentions': [], 'urls': []}, 'source': '', 'in_reply_to_status_id': None, 'in_reply_to_status_id_str': None, 'in_reply_to_user_id': None, 'in_reply_to_user_id_str': None, 'in_reply_to_screen_name': None, 'user': {'id': 1295079294239223812, 'id_str': '1295079294239223812', 'name': 'NLP', 'screen_name': 'NLP05980324', 'location': 'En algún rincón del universo', 'description': 'Mi clase es la mejor del mundo.', 'url': None, 'entities': {'description': {'urls': []}}, 'protected': False, 'followers_count': 1, 'friends_count': 5, 'listed_count': 0, 'created_at': 'Sun Aug 16 19:25:55 +0000 2020', 'favourites_count': 4, 'utc_offset': None, 'time_zone': None, 'geo_enabled': False, 'verified': False, 'statuses_count': 13, 'lang': None, 'contributors_enabled': False, 'is_translator': False, 'is_translation_enabled': False, 'profile_background_color': 'F5F8FA', 'profile_background_image_url': None, 'profile_background_image_url_https': None, 'profile_background_tile': False, 'profile_image_url': 'http://abs.twimg.com/sticky/default_profile_images/default_profile_normal.png', 'profile_image_url_https': 'https://abs.twimg.com/sticky/default_profile_images/default_profile_normal.png', 'profile_link_color': '1DA1F2', 'profile_sidebar_border_color': 'C0DEED', 'profile_sidebar_fill_color': 'DDEEF6', 'profile_text_color': '333333', 'profile_use_background_image': True, 'has_extended_profile': True, 'default_profile': True, 'default_profile_image': True, 'following': False, 'follow_request_sent': False, 'notifications': False, 'translator_type': 'none'}, 'geo': None, 'coordinates': None, 'place': None, 'contributors': None, 'is_quote_status': False, 'retweet_count': 0, 'favorite_count': 0, 'favorited': False, 'retweeted': False, 'lang': 'es'}, created_at=datetime.datetime(2020, 11, 13, 3, 33, 18), id=1327092144583139328, id_str='1327092144583139328', text='Espero que en esta clase me saque una buena nota____________FpS_______________', truncated=False, entities={'hashtags': [], 'symbols': [], 'user_mentions': [], 'urls': []}, source='', source_url=None, in_reply_to_status_id=None, in_reply_to_status_id_str=None, in_reply_to_user_id=None, in_reply_to_user_id_str=None, in_reply_to_screen_name=None, author=User(_api=<tweepy.api.API object at 0x00000260D262D310>, _json={'id': 1295079294239223812, 'id_str': '1295079294239223812', 'name': 'NLP', 'screen_name': 'NLP05980324', 'location': 'En algún rincón del universo', 'description': 'Mi clase es la mejor del mundo.', 'url': None, 'entities': {'description': {'urls': []}}, 'protected': False, 'followers_count': 1, 'friends_count': 5, 'listed_count': 0, 'created_at': 'Sun Aug 16 19:25:55 +0000 2020', 'favourites_count': 4, 'utc_offset': None, 'time_zone': None, 'geo_enabled': False, 'verified': False, 'statuses_count': 13, 'lang': None, 'contributors_enabled': False, 'is_translator': False, 'is_translation_enabled': False, 'profile_background_color': 'F5F8FA', 'profile_background_image_url': None, 'profile_background_image_url_https': None, 'profile_background_tile': False, 'profile_image_url': 'http://abs.twimg.com/sticky/default_profile_images/default_profile_normal.png', 'profile_image_url_https': 'https://abs.twimg.com/sticky/default_profile_images/default_profile_normal.png', 'profile_link_color': '1DA1F2', 'profile_sidebar_border_color': 'C0DEED', 'profile_sidebar_fill_color': 'DDEEF6', 'profile_text_color': '333333', 'profile_use_background_image': True, 'has_extended_profile': True, 'default_profile': True, 'default_profile_image': True, 'following': False, 'follow_request_sent': False, 'notifications': False, 'translator_type': 'none'}, id=1295079294239223812, id_str='1295079294239223812', name='NLP', screen_name='NLP05980324', location='En algún rincón del universo', description='Mi clase es la mejor del mundo.', url=None, entities={'description': {'urls': []}}, protected=False, followers_count=1, friends_count=5, listed_count=0, created_at=datetime.datetime(2020, 8, 16, 19, 25, 55), favourites_count=4, utc_offset=None, time_zone=None, geo_enabled=False, verified=False, statuses_count=13, lang=None, contributors_enabled=False, is_translator=False, is_translation_enabled=False, profile_background_color='F5F8FA', profile_background_image_url=None, profile_background_image_url_https=None, profile_background_tile=False, profile_image_url='http://abs.twimg.com/sticky/default_profile_images/default_profile_normal.png', profile_image_url_https='https://abs.twimg.com/sticky/default_profile_images/default_profile_normal.png', profile_link_color='1DA1F2', profile_sidebar_border_color='C0DEED', profile_sidebar_fill_color='DDEEF6', profile_text_color='333333', profile_use_background_image=True, has_extended_profile=True, default_profile=True, default_profile_image=True, following=False, follow_request_sent=False, notifications=False, translator_type='none'), user=User(_api=<tweepy.api.API object at 0x00000260D262D310>, _json={'id': 1295079294239223812, 'id_str': '1295079294239223812', 'name': 'NLP', 'screen_name': 'NLP05980324', 'location': 'En algún rincón del universo', 'description': 'Mi clase es la mejor del mundo.', 'url': None, 'entities': {'description': {'urls': []}}, 'protected': False, 'followers_count': 1, 'friends_count': 5, 'listed_count': 0, 'created_at': 'Sun Aug 16 19:25:55 +0000 2020', 'favourites_count': 4, 'utc_offset': None, 'time_zone': None, 'geo_enabled': False, 'verified': False, 'statuses_count': 13, 'lang': None, 'contributors_enabled': False, 'is_translator': False, 'is_translation_enabled': False, 'profile_background_color': 'F5F8FA', 'profile_background_image_url': None, 'profile_background_image_url_https': None, 'profile_background_tile': False, 'profile_image_url': 'http://abs.twimg.com/sticky/default_profile_images/default_profile_normal.png', 'profile_image_url_https': 'https://abs.twimg.com/sticky/default_profile_images/default_profile_normal.png', 'profile_link_color': '1DA1F2', 'profile_sidebar_border_color': 'C0DEED', 'profile_sidebar_fill_color': 'DDEEF6', 'profile_text_color': '333333', 'profile_use_background_image': True, 'has_extended_profile': True, 'default_profile': True, 'default_profile_image': True, 'following': False, 'follow_request_sent': False, 'notifications': False, 'translator_type': 'none'}, id=1295079294239223812, id_str='1295079294239223812', name='NLP', screen_name='NLP05980324', location='En algún rincón del universo', description='Mi clase es la mejor del mundo.', url=None, entities={'description': {'urls': []}}, protected=False, followers_count=1, friends_count=5, listed_count=0, created_at=datetime.datetime(2020, 8, 16, 19, 25, 55), favourites_count=4, utc_offset=None, time_zone=None, geo_enabled=False, verified=False, statuses_count=13, lang=None, contributors_enabled=False, is_translator=False, is_translation_enabled=False, profile_background_color='F5F8FA', profile_background_image_url=None, profile_background_image_url_https=None, profile_background_tile=False, profile_image_url='http://abs.twimg.com/sticky/default_profile_images/default_profile_normal.png', profile_image_url_https='https://abs.twimg.com/sticky/default_profile_images/default_profile_normal.png', profile_link_color='1DA1F2', profile_sidebar_border_color='C0DEED', profile_sidebar_fill_color='DDEEF6', profile_text_color='333333', profile_use_background_image=True, has_extended_profile=True, default_profile=True, default_profile_image=True, following=False, follow_request_sent=False, notifications=False, translator_type='none'), geo=None, coordinates=None, place=None, contributors=None, is_quote_status=False, retweet_count=0, favorite_count=0, favorited=False, retweeted=False, lang='es')"
      ]
     },
     "execution_count": 15,
     "metadata": {},
     "output_type": "execute_result"
    }
   ],
   "source": [
    "api.update_status('Espero que en esta clase me saque una buena nota____________FpS_______________')"
   ]
  },
  {
   "cell_type": "code",
   "execution_count": 16,
   "metadata": {},
   "outputs": [
    {
     "data": {
      "text/plain": [
       "Status(_api=<tweepy.api.API object at 0x00000260D262D310>, _json={'created_at': 'Fri Nov 13 03:50:30 +0000 2020', 'id': 1327096472798515200, 'id_str': '1327096472798515200', 'text': 'No no no https://t.co/WoyKmccqL0', 'truncated': False, 'entities': {'hashtags': [], 'symbols': [], 'user_mentions': [], 'urls': [], 'media': [{'id': 1327096471531884545, 'id_str': '1327096471531884545', 'indices': [9, 32], 'media_url': 'http://pbs.twimg.com/media/EmrLNahVEAEWD5h.jpg', 'media_url_https': 'https://pbs.twimg.com/media/EmrLNahVEAEWD5h.jpg', 'url': 'https://t.co/WoyKmccqL0', 'display_url': 'pic.twitter.com/WoyKmccqL0', 'expanded_url': 'https://twitter.com/NLP05980324/status/1327096472798515200/photo/1', 'type': 'photo', 'sizes': {'thumb': {'w': 150, 'h': 150, 'resize': 'crop'}, 'medium': {'w': 657, 'h': 352, 'resize': 'fit'}, 'large': {'w': 657, 'h': 352, 'resize': 'fit'}, 'small': {'w': 657, 'h': 352, 'resize': 'fit'}}}]}, 'extended_entities': {'media': [{'id': 1327096471531884545, 'id_str': '1327096471531884545', 'indices': [9, 32], 'media_url': 'http://pbs.twimg.com/media/EmrLNahVEAEWD5h.jpg', 'media_url_https': 'https://pbs.twimg.com/media/EmrLNahVEAEWD5h.jpg', 'url': 'https://t.co/WoyKmccqL0', 'display_url': 'pic.twitter.com/WoyKmccqL0', 'expanded_url': 'https://twitter.com/NLP05980324/status/1327096472798515200/photo/1', 'type': 'photo', 'sizes': {'thumb': {'w': 150, 'h': 150, 'resize': 'crop'}, 'medium': {'w': 657, 'h': 352, 'resize': 'fit'}, 'large': {'w': 657, 'h': 352, 'resize': 'fit'}, 'small': {'w': 657, 'h': 352, 'resize': 'fit'}}}]}, 'source': '', 'in_reply_to_status_id': None, 'in_reply_to_status_id_str': None, 'in_reply_to_user_id': None, 'in_reply_to_user_id_str': None, 'in_reply_to_screen_name': None, 'user': {'id': 1295079294239223812, 'id_str': '1295079294239223812', 'name': 'NLP', 'screen_name': 'NLP05980324', 'location': 'En algún rincón del universo', 'description': 'Mi clase es la mejor del mundo.', 'url': None, 'entities': {'description': {'urls': []}}, 'protected': False, 'followers_count': 1, 'friends_count': 5, 'listed_count': 0, 'created_at': 'Sun Aug 16 19:25:55 +0000 2020', 'favourites_count': 4, 'utc_offset': None, 'time_zone': None, 'geo_enabled': False, 'verified': False, 'statuses_count': 13, 'lang': None, 'contributors_enabled': False, 'is_translator': False, 'is_translation_enabled': False, 'profile_background_color': 'F5F8FA', 'profile_background_image_url': None, 'profile_background_image_url_https': None, 'profile_background_tile': False, 'profile_image_url': 'http://abs.twimg.com/sticky/default_profile_images/default_profile_normal.png', 'profile_image_url_https': 'https://abs.twimg.com/sticky/default_profile_images/default_profile_normal.png', 'profile_link_color': '1DA1F2', 'profile_sidebar_border_color': 'C0DEED', 'profile_sidebar_fill_color': 'DDEEF6', 'profile_text_color': '333333', 'profile_use_background_image': True, 'has_extended_profile': True, 'default_profile': True, 'default_profile_image': True, 'following': False, 'follow_request_sent': False, 'notifications': False, 'translator_type': 'none'}, 'geo': None, 'coordinates': None, 'place': None, 'contributors': None, 'is_quote_status': False, 'retweet_count': 0, 'favorite_count': 0, 'favorited': False, 'retweeted': False, 'possibly_sensitive': False, 'lang': 'es'}, created_at=datetime.datetime(2020, 11, 13, 3, 50, 30), id=1327096472798515200, id_str='1327096472798515200', text='No no no https://t.co/WoyKmccqL0', truncated=False, entities={'hashtags': [], 'symbols': [], 'user_mentions': [], 'urls': [], 'media': [{'id': 1327096471531884545, 'id_str': '1327096471531884545', 'indices': [9, 32], 'media_url': 'http://pbs.twimg.com/media/EmrLNahVEAEWD5h.jpg', 'media_url_https': 'https://pbs.twimg.com/media/EmrLNahVEAEWD5h.jpg', 'url': 'https://t.co/WoyKmccqL0', 'display_url': 'pic.twitter.com/WoyKmccqL0', 'expanded_url': 'https://twitter.com/NLP05980324/status/1327096472798515200/photo/1', 'type': 'photo', 'sizes': {'thumb': {'w': 150, 'h': 150, 'resize': 'crop'}, 'medium': {'w': 657, 'h': 352, 'resize': 'fit'}, 'large': {'w': 657, 'h': 352, 'resize': 'fit'}, 'small': {'w': 657, 'h': 352, 'resize': 'fit'}}}]}, extended_entities={'media': [{'id': 1327096471531884545, 'id_str': '1327096471531884545', 'indices': [9, 32], 'media_url': 'http://pbs.twimg.com/media/EmrLNahVEAEWD5h.jpg', 'media_url_https': 'https://pbs.twimg.com/media/EmrLNahVEAEWD5h.jpg', 'url': 'https://t.co/WoyKmccqL0', 'display_url': 'pic.twitter.com/WoyKmccqL0', 'expanded_url': 'https://twitter.com/NLP05980324/status/1327096472798515200/photo/1', 'type': 'photo', 'sizes': {'thumb': {'w': 150, 'h': 150, 'resize': 'crop'}, 'medium': {'w': 657, 'h': 352, 'resize': 'fit'}, 'large': {'w': 657, 'h': 352, 'resize': 'fit'}, 'small': {'w': 657, 'h': 352, 'resize': 'fit'}}}]}, source='', source_url=None, in_reply_to_status_id=None, in_reply_to_status_id_str=None, in_reply_to_user_id=None, in_reply_to_user_id_str=None, in_reply_to_screen_name=None, author=User(_api=<tweepy.api.API object at 0x00000260D262D310>, _json={'id': 1295079294239223812, 'id_str': '1295079294239223812', 'name': 'NLP', 'screen_name': 'NLP05980324', 'location': 'En algún rincón del universo', 'description': 'Mi clase es la mejor del mundo.', 'url': None, 'entities': {'description': {'urls': []}}, 'protected': False, 'followers_count': 1, 'friends_count': 5, 'listed_count': 0, 'created_at': 'Sun Aug 16 19:25:55 +0000 2020', 'favourites_count': 4, 'utc_offset': None, 'time_zone': None, 'geo_enabled': False, 'verified': False, 'statuses_count': 13, 'lang': None, 'contributors_enabled': False, 'is_translator': False, 'is_translation_enabled': False, 'profile_background_color': 'F5F8FA', 'profile_background_image_url': None, 'profile_background_image_url_https': None, 'profile_background_tile': False, 'profile_image_url': 'http://abs.twimg.com/sticky/default_profile_images/default_profile_normal.png', 'profile_image_url_https': 'https://abs.twimg.com/sticky/default_profile_images/default_profile_normal.png', 'profile_link_color': '1DA1F2', 'profile_sidebar_border_color': 'C0DEED', 'profile_sidebar_fill_color': 'DDEEF6', 'profile_text_color': '333333', 'profile_use_background_image': True, 'has_extended_profile': True, 'default_profile': True, 'default_profile_image': True, 'following': False, 'follow_request_sent': False, 'notifications': False, 'translator_type': 'none'}, id=1295079294239223812, id_str='1295079294239223812', name='NLP', screen_name='NLP05980324', location='En algún rincón del universo', description='Mi clase es la mejor del mundo.', url=None, entities={'description': {'urls': []}}, protected=False, followers_count=1, friends_count=5, listed_count=0, created_at=datetime.datetime(2020, 8, 16, 19, 25, 55), favourites_count=4, utc_offset=None, time_zone=None, geo_enabled=False, verified=False, statuses_count=13, lang=None, contributors_enabled=False, is_translator=False, is_translation_enabled=False, profile_background_color='F5F8FA', profile_background_image_url=None, profile_background_image_url_https=None, profile_background_tile=False, profile_image_url='http://abs.twimg.com/sticky/default_profile_images/default_profile_normal.png', profile_image_url_https='https://abs.twimg.com/sticky/default_profile_images/default_profile_normal.png', profile_link_color='1DA1F2', profile_sidebar_border_color='C0DEED', profile_sidebar_fill_color='DDEEF6', profile_text_color='333333', profile_use_background_image=True, has_extended_profile=True, default_profile=True, default_profile_image=True, following=False, follow_request_sent=False, notifications=False, translator_type='none'), user=User(_api=<tweepy.api.API object at 0x00000260D262D310>, _json={'id': 1295079294239223812, 'id_str': '1295079294239223812', 'name': 'NLP', 'screen_name': 'NLP05980324', 'location': 'En algún rincón del universo', 'description': 'Mi clase es la mejor del mundo.', 'url': None, 'entities': {'description': {'urls': []}}, 'protected': False, 'followers_count': 1, 'friends_count': 5, 'listed_count': 0, 'created_at': 'Sun Aug 16 19:25:55 +0000 2020', 'favourites_count': 4, 'utc_offset': None, 'time_zone': None, 'geo_enabled': False, 'verified': False, 'statuses_count': 13, 'lang': None, 'contributors_enabled': False, 'is_translator': False, 'is_translation_enabled': False, 'profile_background_color': 'F5F8FA', 'profile_background_image_url': None, 'profile_background_image_url_https': None, 'profile_background_tile': False, 'profile_image_url': 'http://abs.twimg.com/sticky/default_profile_images/default_profile_normal.png', 'profile_image_url_https': 'https://abs.twimg.com/sticky/default_profile_images/default_profile_normal.png', 'profile_link_color': '1DA1F2', 'profile_sidebar_border_color': 'C0DEED', 'profile_sidebar_fill_color': 'DDEEF6', 'profile_text_color': '333333', 'profile_use_background_image': True, 'has_extended_profile': True, 'default_profile': True, 'default_profile_image': True, 'following': False, 'follow_request_sent': False, 'notifications': False, 'translator_type': 'none'}, id=1295079294239223812, id_str='1295079294239223812', name='NLP', screen_name='NLP05980324', location='En algún rincón del universo', description='Mi clase es la mejor del mundo.', url=None, entities={'description': {'urls': []}}, protected=False, followers_count=1, friends_count=5, listed_count=0, created_at=datetime.datetime(2020, 8, 16, 19, 25, 55), favourites_count=4, utc_offset=None, time_zone=None, geo_enabled=False, verified=False, statuses_count=13, lang=None, contributors_enabled=False, is_translator=False, is_translation_enabled=False, profile_background_color='F5F8FA', profile_background_image_url=None, profile_background_image_url_https=None, profile_background_tile=False, profile_image_url='http://abs.twimg.com/sticky/default_profile_images/default_profile_normal.png', profile_image_url_https='https://abs.twimg.com/sticky/default_profile_images/default_profile_normal.png', profile_link_color='1DA1F2', profile_sidebar_border_color='C0DEED', profile_sidebar_fill_color='DDEEF6', profile_text_color='333333', profile_use_background_image=True, has_extended_profile=True, default_profile=True, default_profile_image=True, following=False, follow_request_sent=False, notifications=False, translator_type='none'), geo=None, coordinates=None, place=None, contributors=None, is_quote_status=False, retweet_count=0, favorite_count=0, favorited=False, retweeted=False, possibly_sensitive=False, lang='es')"
      ]
     },
     "execution_count": 16,
     "metadata": {},
     "output_type": "execute_result"
    }
   ],
   "source": [
    "# load image\n",
    "imagePath = \"bart_profe.jpg\"\n",
    "status = \"No no no\"\n",
    "\n",
    "# Send the tweet.\n",
    "api.update_with_media(imagePath, status)"
   ]
  },
  {
   "cell_type": "code",
   "execution_count": 17,
   "metadata": {},
   "outputs": [
    {
     "data": {
      "text/plain": [
       "Status(_api=<tweepy.api.API object at 0x00000260D262D310>, _json={'created_at': 'Fri Nov 13 03:59:41 +0000 2020', 'id': 1327098785567301632, 'id_str': '1327098785567301632', 'text': 'PRAY FOR MOJO @vivmarquez https://t.co/HCCBdWOI4x', 'truncated': False, 'entities': {'hashtags': [], 'symbols': [], 'user_mentions': [{'screen_name': 'vivmarquez', 'name': 'Viviana Márquez', 'id': 256037354, 'id_str': '256037354', 'indices': [14, 25]}], 'urls': [], 'media': [{'id': 1327098784581607425, 'id_str': '1327098784581607425', 'indices': [26, 49], 'media_url': 'http://pbs.twimg.com/media/EmrNUDTW4AE4HyJ.jpg', 'media_url_https': 'https://pbs.twimg.com/media/EmrNUDTW4AE4HyJ.jpg', 'url': 'https://t.co/HCCBdWOI4x', 'display_url': 'pic.twitter.com/HCCBdWOI4x', 'expanded_url': 'https://twitter.com/NLP05980324/status/1327098785567301632/photo/1', 'type': 'photo', 'sizes': {'thumb': {'w': 150, 'h': 150, 'resize': 'crop'}, 'medium': {'w': 500, 'h': 243, 'resize': 'fit'}, 'small': {'w': 500, 'h': 243, 'resize': 'fit'}, 'large': {'w': 500, 'h': 243, 'resize': 'fit'}}}]}, 'extended_entities': {'media': [{'id': 1327098784581607425, 'id_str': '1327098784581607425', 'indices': [26, 49], 'media_url': 'http://pbs.twimg.com/media/EmrNUDTW4AE4HyJ.jpg', 'media_url_https': 'https://pbs.twimg.com/media/EmrNUDTW4AE4HyJ.jpg', 'url': 'https://t.co/HCCBdWOI4x', 'display_url': 'pic.twitter.com/HCCBdWOI4x', 'expanded_url': 'https://twitter.com/NLP05980324/status/1327098785567301632/photo/1', 'type': 'photo', 'sizes': {'thumb': {'w': 150, 'h': 150, 'resize': 'crop'}, 'medium': {'w': 500, 'h': 243, 'resize': 'fit'}, 'small': {'w': 500, 'h': 243, 'resize': 'fit'}, 'large': {'w': 500, 'h': 243, 'resize': 'fit'}}}]}, 'source': '', 'in_reply_to_status_id': None, 'in_reply_to_status_id_str': None, 'in_reply_to_user_id': None, 'in_reply_to_user_id_str': None, 'in_reply_to_screen_name': None, 'user': {'id': 1295079294239223812, 'id_str': '1295079294239223812', 'name': 'NLP', 'screen_name': 'NLP05980324', 'location': 'En algún rincón del universo', 'description': 'Mi clase es la mejor del mundo.', 'url': None, 'entities': {'description': {'urls': []}}, 'protected': False, 'followers_count': 1, 'friends_count': 5, 'listed_count': 0, 'created_at': 'Sun Aug 16 19:25:55 +0000 2020', 'favourites_count': 4, 'utc_offset': None, 'time_zone': None, 'geo_enabled': False, 'verified': False, 'statuses_count': 15, 'lang': None, 'contributors_enabled': False, 'is_translator': False, 'is_translation_enabled': False, 'profile_background_color': 'F5F8FA', 'profile_background_image_url': None, 'profile_background_image_url_https': None, 'profile_background_tile': False, 'profile_image_url': 'http://abs.twimg.com/sticky/default_profile_images/default_profile_normal.png', 'profile_image_url_https': 'https://abs.twimg.com/sticky/default_profile_images/default_profile_normal.png', 'profile_link_color': '1DA1F2', 'profile_sidebar_border_color': 'C0DEED', 'profile_sidebar_fill_color': 'DDEEF6', 'profile_text_color': '333333', 'profile_use_background_image': True, 'has_extended_profile': True, 'default_profile': True, 'default_profile_image': True, 'following': False, 'follow_request_sent': False, 'notifications': False, 'translator_type': 'none'}, 'geo': None, 'coordinates': None, 'place': None, 'contributors': None, 'is_quote_status': False, 'retweet_count': 0, 'favorite_count': 0, 'favorited': False, 'retweeted': False, 'possibly_sensitive': False, 'lang': 'en'}, created_at=datetime.datetime(2020, 11, 13, 3, 59, 41), id=1327098785567301632, id_str='1327098785567301632', text='PRAY FOR MOJO @vivmarquez https://t.co/HCCBdWOI4x', truncated=False, entities={'hashtags': [], 'symbols': [], 'user_mentions': [{'screen_name': 'vivmarquez', 'name': 'Viviana Márquez', 'id': 256037354, 'id_str': '256037354', 'indices': [14, 25]}], 'urls': [], 'media': [{'id': 1327098784581607425, 'id_str': '1327098784581607425', 'indices': [26, 49], 'media_url': 'http://pbs.twimg.com/media/EmrNUDTW4AE4HyJ.jpg', 'media_url_https': 'https://pbs.twimg.com/media/EmrNUDTW4AE4HyJ.jpg', 'url': 'https://t.co/HCCBdWOI4x', 'display_url': 'pic.twitter.com/HCCBdWOI4x', 'expanded_url': 'https://twitter.com/NLP05980324/status/1327098785567301632/photo/1', 'type': 'photo', 'sizes': {'thumb': {'w': 150, 'h': 150, 'resize': 'crop'}, 'medium': {'w': 500, 'h': 243, 'resize': 'fit'}, 'small': {'w': 500, 'h': 243, 'resize': 'fit'}, 'large': {'w': 500, 'h': 243, 'resize': 'fit'}}}]}, extended_entities={'media': [{'id': 1327098784581607425, 'id_str': '1327098784581607425', 'indices': [26, 49], 'media_url': 'http://pbs.twimg.com/media/EmrNUDTW4AE4HyJ.jpg', 'media_url_https': 'https://pbs.twimg.com/media/EmrNUDTW4AE4HyJ.jpg', 'url': 'https://t.co/HCCBdWOI4x', 'display_url': 'pic.twitter.com/HCCBdWOI4x', 'expanded_url': 'https://twitter.com/NLP05980324/status/1327098785567301632/photo/1', 'type': 'photo', 'sizes': {'thumb': {'w': 150, 'h': 150, 'resize': 'crop'}, 'medium': {'w': 500, 'h': 243, 'resize': 'fit'}, 'small': {'w': 500, 'h': 243, 'resize': 'fit'}, 'large': {'w': 500, 'h': 243, 'resize': 'fit'}}}]}, source='', source_url=None, in_reply_to_status_id=None, in_reply_to_status_id_str=None, in_reply_to_user_id=None, in_reply_to_user_id_str=None, in_reply_to_screen_name=None, author=User(_api=<tweepy.api.API object at 0x00000260D262D310>, _json={'id': 1295079294239223812, 'id_str': '1295079294239223812', 'name': 'NLP', 'screen_name': 'NLP05980324', 'location': 'En algún rincón del universo', 'description': 'Mi clase es la mejor del mundo.', 'url': None, 'entities': {'description': {'urls': []}}, 'protected': False, 'followers_count': 1, 'friends_count': 5, 'listed_count': 0, 'created_at': 'Sun Aug 16 19:25:55 +0000 2020', 'favourites_count': 4, 'utc_offset': None, 'time_zone': None, 'geo_enabled': False, 'verified': False, 'statuses_count': 15, 'lang': None, 'contributors_enabled': False, 'is_translator': False, 'is_translation_enabled': False, 'profile_background_color': 'F5F8FA', 'profile_background_image_url': None, 'profile_background_image_url_https': None, 'profile_background_tile': False, 'profile_image_url': 'http://abs.twimg.com/sticky/default_profile_images/default_profile_normal.png', 'profile_image_url_https': 'https://abs.twimg.com/sticky/default_profile_images/default_profile_normal.png', 'profile_link_color': '1DA1F2', 'profile_sidebar_border_color': 'C0DEED', 'profile_sidebar_fill_color': 'DDEEF6', 'profile_text_color': '333333', 'profile_use_background_image': True, 'has_extended_profile': True, 'default_profile': True, 'default_profile_image': True, 'following': False, 'follow_request_sent': False, 'notifications': False, 'translator_type': 'none'}, id=1295079294239223812, id_str='1295079294239223812', name='NLP', screen_name='NLP05980324', location='En algún rincón del universo', description='Mi clase es la mejor del mundo.', url=None, entities={'description': {'urls': []}}, protected=False, followers_count=1, friends_count=5, listed_count=0, created_at=datetime.datetime(2020, 8, 16, 19, 25, 55), favourites_count=4, utc_offset=None, time_zone=None, geo_enabled=False, verified=False, statuses_count=15, lang=None, contributors_enabled=False, is_translator=False, is_translation_enabled=False, profile_background_color='F5F8FA', profile_background_image_url=None, profile_background_image_url_https=None, profile_background_tile=False, profile_image_url='http://abs.twimg.com/sticky/default_profile_images/default_profile_normal.png', profile_image_url_https='https://abs.twimg.com/sticky/default_profile_images/default_profile_normal.png', profile_link_color='1DA1F2', profile_sidebar_border_color='C0DEED', profile_sidebar_fill_color='DDEEF6', profile_text_color='333333', profile_use_background_image=True, has_extended_profile=True, default_profile=True, default_profile_image=True, following=False, follow_request_sent=False, notifications=False, translator_type='none'), user=User(_api=<tweepy.api.API object at 0x00000260D262D310>, _json={'id': 1295079294239223812, 'id_str': '1295079294239223812', 'name': 'NLP', 'screen_name': 'NLP05980324', 'location': 'En algún rincón del universo', 'description': 'Mi clase es la mejor del mundo.', 'url': None, 'entities': {'description': {'urls': []}}, 'protected': False, 'followers_count': 1, 'friends_count': 5, 'listed_count': 0, 'created_at': 'Sun Aug 16 19:25:55 +0000 2020', 'favourites_count': 4, 'utc_offset': None, 'time_zone': None, 'geo_enabled': False, 'verified': False, 'statuses_count': 15, 'lang': None, 'contributors_enabled': False, 'is_translator': False, 'is_translation_enabled': False, 'profile_background_color': 'F5F8FA', 'profile_background_image_url': None, 'profile_background_image_url_https': None, 'profile_background_tile': False, 'profile_image_url': 'http://abs.twimg.com/sticky/default_profile_images/default_profile_normal.png', 'profile_image_url_https': 'https://abs.twimg.com/sticky/default_profile_images/default_profile_normal.png', 'profile_link_color': '1DA1F2', 'profile_sidebar_border_color': 'C0DEED', 'profile_sidebar_fill_color': 'DDEEF6', 'profile_text_color': '333333', 'profile_use_background_image': True, 'has_extended_profile': True, 'default_profile': True, 'default_profile_image': True, 'following': False, 'follow_request_sent': False, 'notifications': False, 'translator_type': 'none'}, id=1295079294239223812, id_str='1295079294239223812', name='NLP', screen_name='NLP05980324', location='En algún rincón del universo', description='Mi clase es la mejor del mundo.', url=None, entities={'description': {'urls': []}}, protected=False, followers_count=1, friends_count=5, listed_count=0, created_at=datetime.datetime(2020, 8, 16, 19, 25, 55), favourites_count=4, utc_offset=None, time_zone=None, geo_enabled=False, verified=False, statuses_count=15, lang=None, contributors_enabled=False, is_translator=False, is_translation_enabled=False, profile_background_color='F5F8FA', profile_background_image_url=None, profile_background_image_url_https=None, profile_background_tile=False, profile_image_url='http://abs.twimg.com/sticky/default_profile_images/default_profile_normal.png', profile_image_url_https='https://abs.twimg.com/sticky/default_profile_images/default_profile_normal.png', profile_link_color='1DA1F2', profile_sidebar_border_color='C0DEED', profile_sidebar_fill_color='DDEEF6', profile_text_color='333333', profile_use_background_image=True, has_extended_profile=True, default_profile=True, default_profile_image=True, following=False, follow_request_sent=False, notifications=False, translator_type='none'), geo=None, coordinates=None, place=None, contributors=None, is_quote_status=False, retweet_count=0, favorite_count=0, favorited=False, retweeted=False, possibly_sensitive=False, lang='en')"
      ]
     },
     "execution_count": 17,
     "metadata": {},
     "output_type": "execute_result"
    }
   ],
   "source": [
    "# load image\n",
    "imagePath = \"Mojo_profe.jpg\"\n",
    "status = \"PRAY FOR MOJO @vivmarquez\"\n",
    "\n",
    "# Send the tweet.\n",
    "api.update_with_media(imagePath, status)"
   ]
  },
  {
   "cell_type": "code",
   "execution_count": 18,
   "metadata": {},
   "outputs": [
    {
     "data": {
      "text/plain": [
       "Status(_api=<tweepy.api.API object at 0x00000260D262D310>, _json={'created_at': 'Fri Nov 13 04:09:30 +0000 2020', 'id': 1327101254724694016, 'id_str': '1327101254724694016', 'text': 'Aprendiendo sabado 7:30 Am @vivmarquez https://t.co/tO0liApN0R', 'truncated': False, 'entities': {'hashtags': [], 'symbols': [], 'user_mentions': [{'screen_name': 'vivmarquez', 'name': 'Viviana Márquez', 'id': 256037354, 'id_str': '256037354', 'indices': [27, 38]}], 'urls': [], 'media': [{'id': 1327101253525123078, 'id_str': '1327101253525123078', 'indices': [39, 62], 'media_url': 'http://pbs.twimg.com/media/EmrPjw1XMAYG3IU.jpg', 'media_url_https': 'https://pbs.twimg.com/media/EmrPjw1XMAYG3IU.jpg', 'url': 'https://t.co/tO0liApN0R', 'display_url': 'pic.twitter.com/tO0liApN0R', 'expanded_url': 'https://twitter.com/NLP05980324/status/1327101254724694016/photo/1', 'type': 'photo', 'sizes': {'thumb': {'w': 150, 'h': 150, 'resize': 'crop'}, 'large': {'w': 1200, 'h': 845, 'resize': 'fit'}, 'medium': {'w': 1200, 'h': 845, 'resize': 'fit'}, 'small': {'w': 680, 'h': 479, 'resize': 'fit'}}}]}, 'extended_entities': {'media': [{'id': 1327101253525123078, 'id_str': '1327101253525123078', 'indices': [39, 62], 'media_url': 'http://pbs.twimg.com/media/EmrPjw1XMAYG3IU.jpg', 'media_url_https': 'https://pbs.twimg.com/media/EmrPjw1XMAYG3IU.jpg', 'url': 'https://t.co/tO0liApN0R', 'display_url': 'pic.twitter.com/tO0liApN0R', 'expanded_url': 'https://twitter.com/NLP05980324/status/1327101254724694016/photo/1', 'type': 'photo', 'sizes': {'thumb': {'w': 150, 'h': 150, 'resize': 'crop'}, 'large': {'w': 1200, 'h': 845, 'resize': 'fit'}, 'medium': {'w': 1200, 'h': 845, 'resize': 'fit'}, 'small': {'w': 680, 'h': 479, 'resize': 'fit'}}}]}, 'source': '', 'in_reply_to_status_id': None, 'in_reply_to_status_id_str': None, 'in_reply_to_user_id': None, 'in_reply_to_user_id_str': None, 'in_reply_to_screen_name': None, 'user': {'id': 1295079294239223812, 'id_str': '1295079294239223812', 'name': 'NLP', 'screen_name': 'NLP05980324', 'location': 'En algún rincón del universo', 'description': 'Mi clase es la mejor del mundo.', 'url': None, 'entities': {'description': {'urls': []}}, 'protected': False, 'followers_count': 1, 'friends_count': 5, 'listed_count': 0, 'created_at': 'Sun Aug 16 19:25:55 +0000 2020', 'favourites_count': 4, 'utc_offset': None, 'time_zone': None, 'geo_enabled': False, 'verified': False, 'statuses_count': 15, 'lang': None, 'contributors_enabled': False, 'is_translator': False, 'is_translation_enabled': False, 'profile_background_color': 'F5F8FA', 'profile_background_image_url': None, 'profile_background_image_url_https': None, 'profile_background_tile': False, 'profile_image_url': 'http://abs.twimg.com/sticky/default_profile_images/default_profile_normal.png', 'profile_image_url_https': 'https://abs.twimg.com/sticky/default_profile_images/default_profile_normal.png', 'profile_link_color': '1DA1F2', 'profile_sidebar_border_color': 'C0DEED', 'profile_sidebar_fill_color': 'DDEEF6', 'profile_text_color': '333333', 'profile_use_background_image': True, 'has_extended_profile': True, 'default_profile': True, 'default_profile_image': True, 'following': False, 'follow_request_sent': False, 'notifications': False, 'translator_type': 'none'}, 'geo': None, 'coordinates': None, 'place': None, 'contributors': None, 'is_quote_status': False, 'retweet_count': 0, 'favorite_count': 0, 'favorited': False, 'retweeted': False, 'possibly_sensitive': False, 'lang': 'es'}, created_at=datetime.datetime(2020, 11, 13, 4, 9, 30), id=1327101254724694016, id_str='1327101254724694016', text='Aprendiendo sabado 7:30 Am @vivmarquez https://t.co/tO0liApN0R', truncated=False, entities={'hashtags': [], 'symbols': [], 'user_mentions': [{'screen_name': 'vivmarquez', 'name': 'Viviana Márquez', 'id': 256037354, 'id_str': '256037354', 'indices': [27, 38]}], 'urls': [], 'media': [{'id': 1327101253525123078, 'id_str': '1327101253525123078', 'indices': [39, 62], 'media_url': 'http://pbs.twimg.com/media/EmrPjw1XMAYG3IU.jpg', 'media_url_https': 'https://pbs.twimg.com/media/EmrPjw1XMAYG3IU.jpg', 'url': 'https://t.co/tO0liApN0R', 'display_url': 'pic.twitter.com/tO0liApN0R', 'expanded_url': 'https://twitter.com/NLP05980324/status/1327101254724694016/photo/1', 'type': 'photo', 'sizes': {'thumb': {'w': 150, 'h': 150, 'resize': 'crop'}, 'large': {'w': 1200, 'h': 845, 'resize': 'fit'}, 'medium': {'w': 1200, 'h': 845, 'resize': 'fit'}, 'small': {'w': 680, 'h': 479, 'resize': 'fit'}}}]}, extended_entities={'media': [{'id': 1327101253525123078, 'id_str': '1327101253525123078', 'indices': [39, 62], 'media_url': 'http://pbs.twimg.com/media/EmrPjw1XMAYG3IU.jpg', 'media_url_https': 'https://pbs.twimg.com/media/EmrPjw1XMAYG3IU.jpg', 'url': 'https://t.co/tO0liApN0R', 'display_url': 'pic.twitter.com/tO0liApN0R', 'expanded_url': 'https://twitter.com/NLP05980324/status/1327101254724694016/photo/1', 'type': 'photo', 'sizes': {'thumb': {'w': 150, 'h': 150, 'resize': 'crop'}, 'large': {'w': 1200, 'h': 845, 'resize': 'fit'}, 'medium': {'w': 1200, 'h': 845, 'resize': 'fit'}, 'small': {'w': 680, 'h': 479, 'resize': 'fit'}}}]}, source='', source_url=None, in_reply_to_status_id=None, in_reply_to_status_id_str=None, in_reply_to_user_id=None, in_reply_to_user_id_str=None, in_reply_to_screen_name=None, author=User(_api=<tweepy.api.API object at 0x00000260D262D310>, _json={'id': 1295079294239223812, 'id_str': '1295079294239223812', 'name': 'NLP', 'screen_name': 'NLP05980324', 'location': 'En algún rincón del universo', 'description': 'Mi clase es la mejor del mundo.', 'url': None, 'entities': {'description': {'urls': []}}, 'protected': False, 'followers_count': 1, 'friends_count': 5, 'listed_count': 0, 'created_at': 'Sun Aug 16 19:25:55 +0000 2020', 'favourites_count': 4, 'utc_offset': None, 'time_zone': None, 'geo_enabled': False, 'verified': False, 'statuses_count': 15, 'lang': None, 'contributors_enabled': False, 'is_translator': False, 'is_translation_enabled': False, 'profile_background_color': 'F5F8FA', 'profile_background_image_url': None, 'profile_background_image_url_https': None, 'profile_background_tile': False, 'profile_image_url': 'http://abs.twimg.com/sticky/default_profile_images/default_profile_normal.png', 'profile_image_url_https': 'https://abs.twimg.com/sticky/default_profile_images/default_profile_normal.png', 'profile_link_color': '1DA1F2', 'profile_sidebar_border_color': 'C0DEED', 'profile_sidebar_fill_color': 'DDEEF6', 'profile_text_color': '333333', 'profile_use_background_image': True, 'has_extended_profile': True, 'default_profile': True, 'default_profile_image': True, 'following': False, 'follow_request_sent': False, 'notifications': False, 'translator_type': 'none'}, id=1295079294239223812, id_str='1295079294239223812', name='NLP', screen_name='NLP05980324', location='En algún rincón del universo', description='Mi clase es la mejor del mundo.', url=None, entities={'description': {'urls': []}}, protected=False, followers_count=1, friends_count=5, listed_count=0, created_at=datetime.datetime(2020, 8, 16, 19, 25, 55), favourites_count=4, utc_offset=None, time_zone=None, geo_enabled=False, verified=False, statuses_count=15, lang=None, contributors_enabled=False, is_translator=False, is_translation_enabled=False, profile_background_color='F5F8FA', profile_background_image_url=None, profile_background_image_url_https=None, profile_background_tile=False, profile_image_url='http://abs.twimg.com/sticky/default_profile_images/default_profile_normal.png', profile_image_url_https='https://abs.twimg.com/sticky/default_profile_images/default_profile_normal.png', profile_link_color='1DA1F2', profile_sidebar_border_color='C0DEED', profile_sidebar_fill_color='DDEEF6', profile_text_color='333333', profile_use_background_image=True, has_extended_profile=True, default_profile=True, default_profile_image=True, following=False, follow_request_sent=False, notifications=False, translator_type='none'), user=User(_api=<tweepy.api.API object at 0x00000260D262D310>, _json={'id': 1295079294239223812, 'id_str': '1295079294239223812', 'name': 'NLP', 'screen_name': 'NLP05980324', 'location': 'En algún rincón del universo', 'description': 'Mi clase es la mejor del mundo.', 'url': None, 'entities': {'description': {'urls': []}}, 'protected': False, 'followers_count': 1, 'friends_count': 5, 'listed_count': 0, 'created_at': 'Sun Aug 16 19:25:55 +0000 2020', 'favourites_count': 4, 'utc_offset': None, 'time_zone': None, 'geo_enabled': False, 'verified': False, 'statuses_count': 15, 'lang': None, 'contributors_enabled': False, 'is_translator': False, 'is_translation_enabled': False, 'profile_background_color': 'F5F8FA', 'profile_background_image_url': None, 'profile_background_image_url_https': None, 'profile_background_tile': False, 'profile_image_url': 'http://abs.twimg.com/sticky/default_profile_images/default_profile_normal.png', 'profile_image_url_https': 'https://abs.twimg.com/sticky/default_profile_images/default_profile_normal.png', 'profile_link_color': '1DA1F2', 'profile_sidebar_border_color': 'C0DEED', 'profile_sidebar_fill_color': 'DDEEF6', 'profile_text_color': '333333', 'profile_use_background_image': True, 'has_extended_profile': True, 'default_profile': True, 'default_profile_image': True, 'following': False, 'follow_request_sent': False, 'notifications': False, 'translator_type': 'none'}, id=1295079294239223812, id_str='1295079294239223812', name='NLP', screen_name='NLP05980324', location='En algún rincón del universo', description='Mi clase es la mejor del mundo.', url=None, entities={'description': {'urls': []}}, protected=False, followers_count=1, friends_count=5, listed_count=0, created_at=datetime.datetime(2020, 8, 16, 19, 25, 55), favourites_count=4, utc_offset=None, time_zone=None, geo_enabled=False, verified=False, statuses_count=15, lang=None, contributors_enabled=False, is_translator=False, is_translation_enabled=False, profile_background_color='F5F8FA', profile_background_image_url=None, profile_background_image_url_https=None, profile_background_tile=False, profile_image_url='http://abs.twimg.com/sticky/default_profile_images/default_profile_normal.png', profile_image_url_https='https://abs.twimg.com/sticky/default_profile_images/default_profile_normal.png', profile_link_color='1DA1F2', profile_sidebar_border_color='C0DEED', profile_sidebar_fill_color='DDEEF6', profile_text_color='333333', profile_use_background_image=True, has_extended_profile=True, default_profile=True, default_profile_image=True, following=False, follow_request_sent=False, notifications=False, translator_type='none'), geo=None, coordinates=None, place=None, contributors=None, is_quote_status=False, retweet_count=0, favorite_count=0, favorited=False, retweeted=False, possibly_sensitive=False, lang='es')"
      ]
     },
     "execution_count": 18,
     "metadata": {},
     "output_type": "execute_result"
    }
   ],
   "source": [
    "# load image\n",
    "imagePath = \"snape.jpg\"\n",
    "status = \"Aprendiendo sabado 7:30 Am @vivmarquez\"\n",
    "\n",
    "# Send the tweet.\n",
    "api.update_with_media(imagePath, status)"
   ]
  },
  {
   "cell_type": "code",
   "execution_count": 19,
   "metadata": {},
   "outputs": [
    {
     "data": {
      "text/plain": [
       "Status(_api=<tweepy.api.API object at 0x00000260D262D310>, _json={'created_at': 'Fri Nov 13 05:01:16 +0000 2020', 'id': 1327114285634482176, 'id_str': '1327114285634482176', 'text': 'Buenas Noches, zzzzzz https://t.co/2k50nTrvKM', 'truncated': False, 'entities': {'hashtags': [], 'symbols': [], 'user_mentions': [], 'urls': [], 'media': [{'id': 1327114284522999809, 'id_str': '1327114284522999809', 'indices': [22, 45], 'media_url': 'http://pbs.twimg.com/tweet_video_thumb/EmrbaRFXEAEsL_L.jpg', 'media_url_https': 'https://pbs.twimg.com/tweet_video_thumb/EmrbaRFXEAEsL_L.jpg', 'url': 'https://t.co/2k50nTrvKM', 'display_url': 'pic.twitter.com/2k50nTrvKM', 'expanded_url': 'https://twitter.com/NLP05980324/status/1327114285634482176/photo/1', 'type': 'photo', 'sizes': {'thumb': {'w': 150, 'h': 150, 'resize': 'crop'}, 'medium': {'w': 496, 'h': 286, 'resize': 'fit'}, 'small': {'w': 496, 'h': 286, 'resize': 'fit'}, 'large': {'w': 496, 'h': 286, 'resize': 'fit'}}}]}, 'extended_entities': {'media': [{'id': 1327114284522999809, 'id_str': '1327114284522999809', 'indices': [22, 45], 'media_url': 'http://pbs.twimg.com/tweet_video_thumb/EmrbaRFXEAEsL_L.jpg', 'media_url_https': 'https://pbs.twimg.com/tweet_video_thumb/EmrbaRFXEAEsL_L.jpg', 'url': 'https://t.co/2k50nTrvKM', 'display_url': 'pic.twitter.com/2k50nTrvKM', 'expanded_url': 'https://twitter.com/NLP05980324/status/1327114285634482176/photo/1', 'type': 'animated_gif', 'sizes': {'thumb': {'w': 150, 'h': 150, 'resize': 'crop'}, 'medium': {'w': 496, 'h': 286, 'resize': 'fit'}, 'small': {'w': 496, 'h': 286, 'resize': 'fit'}, 'large': {'w': 496, 'h': 286, 'resize': 'fit'}}, 'video_info': {'aspect_ratio': [248, 143], 'variants': [{'bitrate': 0, 'content_type': 'video/mp4', 'url': 'https://video.twimg.com/tweet_video/EmrbaRFXEAEsL_L.mp4'}]}}]}, 'source': '', 'in_reply_to_status_id': None, 'in_reply_to_status_id_str': None, 'in_reply_to_user_id': None, 'in_reply_to_user_id_str': None, 'in_reply_to_screen_name': None, 'user': {'id': 1295079294239223812, 'id_str': '1295079294239223812', 'name': 'NLP', 'screen_name': 'NLP05980324', 'location': 'En algún rincón del universo', 'description': 'Mi clase es la mejor del mundo.', 'url': None, 'entities': {'description': {'urls': []}}, 'protected': False, 'followers_count': 1, 'friends_count': 5, 'listed_count': 0, 'created_at': 'Sun Aug 16 19:25:55 +0000 2020', 'favourites_count': 4, 'utc_offset': None, 'time_zone': None, 'geo_enabled': False, 'verified': False, 'statuses_count': 16, 'lang': None, 'contributors_enabled': False, 'is_translator': False, 'is_translation_enabled': False, 'profile_background_color': 'F5F8FA', 'profile_background_image_url': None, 'profile_background_image_url_https': None, 'profile_background_tile': False, 'profile_image_url': 'http://abs.twimg.com/sticky/default_profile_images/default_profile_normal.png', 'profile_image_url_https': 'https://abs.twimg.com/sticky/default_profile_images/default_profile_normal.png', 'profile_link_color': '1DA1F2', 'profile_sidebar_border_color': 'C0DEED', 'profile_sidebar_fill_color': 'DDEEF6', 'profile_text_color': '333333', 'profile_use_background_image': True, 'has_extended_profile': True, 'default_profile': True, 'default_profile_image': True, 'following': False, 'follow_request_sent': False, 'notifications': False, 'translator_type': 'none'}, 'geo': None, 'coordinates': None, 'place': None, 'contributors': None, 'is_quote_status': False, 'retweet_count': 0, 'favorite_count': 0, 'favorited': False, 'retweeted': False, 'possibly_sensitive': False, 'lang': 'es'}, created_at=datetime.datetime(2020, 11, 13, 5, 1, 16), id=1327114285634482176, id_str='1327114285634482176', text='Buenas Noches, zzzzzz https://t.co/2k50nTrvKM', truncated=False, entities={'hashtags': [], 'symbols': [], 'user_mentions': [], 'urls': [], 'media': [{'id': 1327114284522999809, 'id_str': '1327114284522999809', 'indices': [22, 45], 'media_url': 'http://pbs.twimg.com/tweet_video_thumb/EmrbaRFXEAEsL_L.jpg', 'media_url_https': 'https://pbs.twimg.com/tweet_video_thumb/EmrbaRFXEAEsL_L.jpg', 'url': 'https://t.co/2k50nTrvKM', 'display_url': 'pic.twitter.com/2k50nTrvKM', 'expanded_url': 'https://twitter.com/NLP05980324/status/1327114285634482176/photo/1', 'type': 'photo', 'sizes': {'thumb': {'w': 150, 'h': 150, 'resize': 'crop'}, 'medium': {'w': 496, 'h': 286, 'resize': 'fit'}, 'small': {'w': 496, 'h': 286, 'resize': 'fit'}, 'large': {'w': 496, 'h': 286, 'resize': 'fit'}}}]}, extended_entities={'media': [{'id': 1327114284522999809, 'id_str': '1327114284522999809', 'indices': [22, 45], 'media_url': 'http://pbs.twimg.com/tweet_video_thumb/EmrbaRFXEAEsL_L.jpg', 'media_url_https': 'https://pbs.twimg.com/tweet_video_thumb/EmrbaRFXEAEsL_L.jpg', 'url': 'https://t.co/2k50nTrvKM', 'display_url': 'pic.twitter.com/2k50nTrvKM', 'expanded_url': 'https://twitter.com/NLP05980324/status/1327114285634482176/photo/1', 'type': 'animated_gif', 'sizes': {'thumb': {'w': 150, 'h': 150, 'resize': 'crop'}, 'medium': {'w': 496, 'h': 286, 'resize': 'fit'}, 'small': {'w': 496, 'h': 286, 'resize': 'fit'}, 'large': {'w': 496, 'h': 286, 'resize': 'fit'}}, 'video_info': {'aspect_ratio': [248, 143], 'variants': [{'bitrate': 0, 'content_type': 'video/mp4', 'url': 'https://video.twimg.com/tweet_video/EmrbaRFXEAEsL_L.mp4'}]}}]}, source='', source_url=None, in_reply_to_status_id=None, in_reply_to_status_id_str=None, in_reply_to_user_id=None, in_reply_to_user_id_str=None, in_reply_to_screen_name=None, author=User(_api=<tweepy.api.API object at 0x00000260D262D310>, _json={'id': 1295079294239223812, 'id_str': '1295079294239223812', 'name': 'NLP', 'screen_name': 'NLP05980324', 'location': 'En algún rincón del universo', 'description': 'Mi clase es la mejor del mundo.', 'url': None, 'entities': {'description': {'urls': []}}, 'protected': False, 'followers_count': 1, 'friends_count': 5, 'listed_count': 0, 'created_at': 'Sun Aug 16 19:25:55 +0000 2020', 'favourites_count': 4, 'utc_offset': None, 'time_zone': None, 'geo_enabled': False, 'verified': False, 'statuses_count': 16, 'lang': None, 'contributors_enabled': False, 'is_translator': False, 'is_translation_enabled': False, 'profile_background_color': 'F5F8FA', 'profile_background_image_url': None, 'profile_background_image_url_https': None, 'profile_background_tile': False, 'profile_image_url': 'http://abs.twimg.com/sticky/default_profile_images/default_profile_normal.png', 'profile_image_url_https': 'https://abs.twimg.com/sticky/default_profile_images/default_profile_normal.png', 'profile_link_color': '1DA1F2', 'profile_sidebar_border_color': 'C0DEED', 'profile_sidebar_fill_color': 'DDEEF6', 'profile_text_color': '333333', 'profile_use_background_image': True, 'has_extended_profile': True, 'default_profile': True, 'default_profile_image': True, 'following': False, 'follow_request_sent': False, 'notifications': False, 'translator_type': 'none'}, id=1295079294239223812, id_str='1295079294239223812', name='NLP', screen_name='NLP05980324', location='En algún rincón del universo', description='Mi clase es la mejor del mundo.', url=None, entities={'description': {'urls': []}}, protected=False, followers_count=1, friends_count=5, listed_count=0, created_at=datetime.datetime(2020, 8, 16, 19, 25, 55), favourites_count=4, utc_offset=None, time_zone=None, geo_enabled=False, verified=False, statuses_count=16, lang=None, contributors_enabled=False, is_translator=False, is_translation_enabled=False, profile_background_color='F5F8FA', profile_background_image_url=None, profile_background_image_url_https=None, profile_background_tile=False, profile_image_url='http://abs.twimg.com/sticky/default_profile_images/default_profile_normal.png', profile_image_url_https='https://abs.twimg.com/sticky/default_profile_images/default_profile_normal.png', profile_link_color='1DA1F2', profile_sidebar_border_color='C0DEED', profile_sidebar_fill_color='DDEEF6', profile_text_color='333333', profile_use_background_image=True, has_extended_profile=True, default_profile=True, default_profile_image=True, following=False, follow_request_sent=False, notifications=False, translator_type='none'), user=User(_api=<tweepy.api.API object at 0x00000260D262D310>, _json={'id': 1295079294239223812, 'id_str': '1295079294239223812', 'name': 'NLP', 'screen_name': 'NLP05980324', 'location': 'En algún rincón del universo', 'description': 'Mi clase es la mejor del mundo.', 'url': None, 'entities': {'description': {'urls': []}}, 'protected': False, 'followers_count': 1, 'friends_count': 5, 'listed_count': 0, 'created_at': 'Sun Aug 16 19:25:55 +0000 2020', 'favourites_count': 4, 'utc_offset': None, 'time_zone': None, 'geo_enabled': False, 'verified': False, 'statuses_count': 16, 'lang': None, 'contributors_enabled': False, 'is_translator': False, 'is_translation_enabled': False, 'profile_background_color': 'F5F8FA', 'profile_background_image_url': None, 'profile_background_image_url_https': None, 'profile_background_tile': False, 'profile_image_url': 'http://abs.twimg.com/sticky/default_profile_images/default_profile_normal.png', 'profile_image_url_https': 'https://abs.twimg.com/sticky/default_profile_images/default_profile_normal.png', 'profile_link_color': '1DA1F2', 'profile_sidebar_border_color': 'C0DEED', 'profile_sidebar_fill_color': 'DDEEF6', 'profile_text_color': '333333', 'profile_use_background_image': True, 'has_extended_profile': True, 'default_profile': True, 'default_profile_image': True, 'following': False, 'follow_request_sent': False, 'notifications': False, 'translator_type': 'none'}, id=1295079294239223812, id_str='1295079294239223812', name='NLP', screen_name='NLP05980324', location='En algún rincón del universo', description='Mi clase es la mejor del mundo.', url=None, entities={'description': {'urls': []}}, protected=False, followers_count=1, friends_count=5, listed_count=0, created_at=datetime.datetime(2020, 8, 16, 19, 25, 55), favourites_count=4, utc_offset=None, time_zone=None, geo_enabled=False, verified=False, statuses_count=16, lang=None, contributors_enabled=False, is_translator=False, is_translation_enabled=False, profile_background_color='F5F8FA', profile_background_image_url=None, profile_background_image_url_https=None, profile_background_tile=False, profile_image_url='http://abs.twimg.com/sticky/default_profile_images/default_profile_normal.png', profile_image_url_https='https://abs.twimg.com/sticky/default_profile_images/default_profile_normal.png', profile_link_color='1DA1F2', profile_sidebar_border_color='C0DEED', profile_sidebar_fill_color='DDEEF6', profile_text_color='333333', profile_use_background_image=True, has_extended_profile=True, default_profile=True, default_profile_image=True, following=False, follow_request_sent=False, notifications=False, translator_type='none'), geo=None, coordinates=None, place=None, contributors=None, is_quote_status=False, retweet_count=0, favorite_count=0, favorited=False, retweeted=False, possibly_sensitive=False, lang='es')"
      ]
     },
     "execution_count": 19,
     "metadata": {},
     "output_type": "execute_result"
    }
   ],
   "source": [
    "# load image\n",
    "imagePath = \"work.gif\"\n",
    "status = \"Buenas Noches, zzzzzz\"\n",
    "\n",
    "# Send the tweet.\n",
    "api.update_with_media(imagePath, status)"
   ]
  },
  {
   "cell_type": "code",
   "execution_count": 41,
   "metadata": {},
   "outputs": [],
   "source": [
    "tweets = tweepy.Cursor(api.search,\n",
    "                       q=['halloween -RT'],\n",
    "                       lang='es',\n",
    "                       geocode=f'9.304744,-75.397778,45mi',\n",
    "                       tweet_mode='extended',\n",
    "                       include_rts=False).items(100)"
   ]
  },
  {
   "cell_type": "code",
   "execution_count": 42,
   "metadata": {},
   "outputs": [
    {
     "ename": "SyntaxError",
     "evalue": "invalid character in identifier (<fstring>, line 1)",
     "output_type": "error",
     "traceback": [
      "\u001b[1;36m  File \u001b[1;32m\"<fstring>\"\u001b[1;36m, line \u001b[1;32m1\u001b[0m\n\u001b[1;33m    (​​​​tweet.id)\u001b[0m\n\u001b[1;37m             ^\u001b[0m\n\u001b[1;31mSyntaxError\u001b[0m\u001b[1;31m:\u001b[0m invalid character in identifier\n"
     ]
    }
   ],
   "source": [
    "t = []\n",
    " \n",
    "for tweet in tweets:\n",
    "    temp = []\n",
    "    temp.append(tweet.full_text)\n",
    "    temp.append(tweet.created_at)\n",
    "    temp.append(\"Sincelejo\")\n",
    "    temp.append(tweet.user.location)\n",
    "    temp.append(tweet.id)\n",
    "    temp.append(f\"https://twitter.com/i/web/status/{​​​​tweet.id}​​​​\")\n",
    "\n",
    "    t.append(temp)\n"
   ]
  },
  {
   "cell_type": "code",
   "execution_count": 43,
   "metadata": {},
   "outputs": [],
   "source": [
    "tweets = tweepy.Cursor(api.search,\n",
    "                       q=['halloween -RT'],\n",
    "                       lang='es',\n",
    "                       geocode=f'9.304744,-75.397778,45mi',\n",
    "                       tweet_mode='extended',\n",
    "                       include_rts=False).items(10)"
   ]
  },
  {
   "cell_type": "code",
   "execution_count": 44,
   "metadata": {},
   "outputs": [
    {
     "ename": "SyntaxError",
     "evalue": "invalid character in identifier (<fstring>, line 1)",
     "output_type": "error",
     "traceback": [
      "\u001b[1;36m  File \u001b[1;32m\"<fstring>\"\u001b[1;36m, line \u001b[1;32m1\u001b[0m\n\u001b[1;33m    (​​​​tweet.id)\u001b[0m\n\u001b[1;37m             ^\u001b[0m\n\u001b[1;31mSyntaxError\u001b[0m\u001b[1;31m:\u001b[0m invalid character in identifier\n"
     ]
    }
   ],
   "source": [
    "t = []\n",
    " \n",
    "for tweet in tweets:\n",
    "    temp = []\n",
    "    temp.append(tweet.full_text)\n",
    "    temp.append(tweet.created_at)\n",
    "    temp.append(\"Sincelejo\")\n",
    "    temp.append(tweet.user.location)\n",
    "    temp.append(tweet.place)\n",
    "    temp.append(tweet.coordinates)\n",
    "    temp.append(tweet.id)\n",
    "    temp.append(f\"https://twitter.com/i/web/status/{​​​​tweet.id}​​​​\")\n",
    "\n",
    "    t.append(temp)\n"
   ]
  },
  {
   "cell_type": "code",
   "execution_count": 45,
   "metadata": {},
   "outputs": [
    {
     "ename": "NameError",
     "evalue": "name 't' is not defined",
     "output_type": "error",
     "traceback": [
      "\u001b[1;31m---------------------------------------------------------------------------\u001b[0m",
      "\u001b[1;31mNameError\u001b[0m                                 Traceback (most recent call last)",
      "\u001b[1;32m<ipython-input-45-864e14ef9b00>\u001b[0m in \u001b[0;36m<module>\u001b[1;34m\u001b[0m\n\u001b[1;32m----> 1\u001b[1;33m \u001b[0mdata\u001b[0m \u001b[1;33m=\u001b[0m \u001b[0mpd\u001b[0m\u001b[1;33m.\u001b[0m\u001b[0mDataFrame\u001b[0m\u001b[1;33m(\u001b[0m\u001b[0mt\u001b[0m\u001b[1;33m)\u001b[0m\u001b[1;33m\u001b[0m\u001b[1;33m\u001b[0m\u001b[0m\n\u001b[0m\u001b[0;32m      2\u001b[0m \u001b[0mdata\u001b[0m\u001b[1;33m.\u001b[0m\u001b[0mcolumns\u001b[0m \u001b[1;33m=\u001b[0m \u001b[1;33m[\u001b[0m\u001b[1;34m'tweet'\u001b[0m\u001b[1;33m,\u001b[0m \u001b[1;34m'date'\u001b[0m\u001b[1;33m,\u001b[0m \u001b[1;34m'city'\u001b[0m\u001b[1;33m,\u001b[0m \u001b[1;34m'user_location'\u001b[0m\u001b[1;33m,\u001b[0m \u001b[1;34m'place'\u001b[0m\u001b[1;33m,\u001b[0m \u001b[1;34m'coordinates'\u001b[0m\u001b[1;33m,\u001b[0m \u001b[1;34m'id'\u001b[0m\u001b[1;33m,\u001b[0m \u001b[1;34m'link'\u001b[0m\u001b[1;33m]\u001b[0m\u001b[1;33m\u001b[0m\u001b[1;33m\u001b[0m\u001b[0m\n\u001b[0;32m      3\u001b[0m \u001b[0mdata\u001b[0m\u001b[1;33m\u001b[0m\u001b[1;33m\u001b[0m\u001b[0m\n",
      "\u001b[1;31mNameError\u001b[0m: name 't' is not defined"
     ]
    }
   ],
   "source": [
    "data = pd.DataFrame(t)\n",
    "data.columns = ['tweet', 'date', 'city', 'user_location', 'place', 'coordinates', 'id', 'link']\n",
    "data"
   ]
  },
  {
   "cell_type": "code",
   "execution_count": 46,
   "metadata": {},
   "outputs": [
    {
     "ename": "SyntaxError",
     "evalue": "invalid character in identifier (<fstring>, line 1)",
     "output_type": "error",
     "traceback": [
      "\u001b[1;36m  File \u001b[1;32m\"<fstring>\"\u001b[1;36m, line \u001b[1;32m1\u001b[0m\n\u001b[1;33m    (​​​​c.lat)\u001b[0m\n\u001b[1;37m         ^\u001b[0m\n\u001b[1;31mSyntaxError\u001b[0m\u001b[1;31m:\u001b[0m invalid character in identifier\n"
     ]
    }
   ],
   "source": [
    "all_tweets = [] \n",
    " \n",
    "for ciudad in ciudades.iterrows():\n",
    "    c = ciudad[1]\n",
    "    gc = f\"{​​​​c.lat}​​​​,{​​​​c.lng}​​​​,70km\"\n",
    "    c_name = c.city\n",
    "\n",
    "    tweets = tweepy.Cursor(api.search,\n",
    "                       q=['halloween -RT'],\n",
    "                       lang='es',\n",
    "                       geocode=gc,\n",
    "                       tweet_mode='extended',\n",
    "                       include_rts=False).items(20)\n",
    "\n",
    "    t = []\n",
    " \n",
    "    for tweet in tweets:\n",
    "        temp = []\n",
    "        temp.append(tweet.full_text)\n",
    "        temp.append(tweet.created_at)\n",
    "        temp.append(c_name)\n",
    "        temp.append(tweet.user.location)\n",
    "        temp.append(tweet.id)\n",
    "        temp.append(f\"https://twitter.com/i/web/status/{​​​​tweet.id}​​​​\")\n",
    " \n",
    "        t.append(temp)\n",
    "\n",
    "    all_tweets.extend(t)\n",
    "    print(c_name)"
   ]
  },
  {
   "cell_type": "code",
   "execution_count": 47,
   "metadata": {},
   "outputs": [
    {
     "ename": "NameError",
     "evalue": "name 'all_tweets' is not defined",
     "output_type": "error",
     "traceback": [
      "\u001b[1;31m---------------------------------------------------------------------------\u001b[0m",
      "\u001b[1;31mNameError\u001b[0m                                 Traceback (most recent call last)",
      "\u001b[1;32m<ipython-input-47-0929bf5a1108>\u001b[0m in \u001b[0;36m<module>\u001b[1;34m\u001b[0m\n\u001b[1;32m----> 1\u001b[1;33m \u001b[0mdata\u001b[0m \u001b[1;33m=\u001b[0m \u001b[0mpd\u001b[0m\u001b[1;33m.\u001b[0m\u001b[0mDataFrame\u001b[0m\u001b[1;33m(\u001b[0m\u001b[0mall_tweets\u001b[0m\u001b[1;33m)\u001b[0m\u001b[1;33m\u001b[0m\u001b[1;33m\u001b[0m\u001b[0m\n\u001b[0m\u001b[0;32m      2\u001b[0m \u001b[0mdata\u001b[0m\u001b[1;33m.\u001b[0m\u001b[0mcolumns\u001b[0m \u001b[1;33m=\u001b[0m \u001b[1;33m[\u001b[0m\u001b[1;34m'tweet'\u001b[0m\u001b[1;33m,\u001b[0m \u001b[1;34m'date'\u001b[0m\u001b[1;33m,\u001b[0m \u001b[1;34m'city'\u001b[0m\u001b[1;33m,\u001b[0m \u001b[1;34m'user_location'\u001b[0m\u001b[1;33m,\u001b[0m \u001b[1;34m'id'\u001b[0m\u001b[1;33m,\u001b[0m \u001b[1;34m'link'\u001b[0m\u001b[1;33m]\u001b[0m\u001b[1;33m\u001b[0m\u001b[1;33m\u001b[0m\u001b[0m\n\u001b[0;32m      3\u001b[0m \u001b[0mdata\u001b[0m\u001b[1;33m.\u001b[0m\u001b[0mhead\u001b[0m\u001b[1;33m(\u001b[0m\u001b[1;33m)\u001b[0m\u001b[1;33m\u001b[0m\u001b[1;33m\u001b[0m\u001b[0m\n",
      "\u001b[1;31mNameError\u001b[0m: name 'all_tweets' is not defined"
     ]
    }
   ],
   "source": [
    "data = pd.DataFrame(all_tweets)\n",
    "data.columns = ['tweet', 'date', 'city', 'user_location', 'id', 'link']\n",
    "data.head()"
   ]
  },
  {
   "cell_type": "code",
   "execution_count": 48,
   "metadata": {},
   "outputs": [
    {
     "ename": "NameError",
     "evalue": "name 'data' is not defined",
     "output_type": "error",
     "traceback": [
      "\u001b[1;31m---------------------------------------------------------------------------\u001b[0m",
      "\u001b[1;31mNameError\u001b[0m                                 Traceback (most recent call last)",
      "\u001b[1;32m<ipython-input-48-b21dad17bb03>\u001b[0m in \u001b[0;36m<module>\u001b[1;34m\u001b[0m\n\u001b[0;32m     11\u001b[0m     \u001b[1;32mreturn\u001b[0m \u001b[0memoji_list\u001b[0m\u001b[1;33m\u001b[0m\u001b[1;33m\u001b[0m\u001b[0m\n\u001b[0;32m     12\u001b[0m \u001b[1;33m\u001b[0m\u001b[0m\n\u001b[1;32m---> 13\u001b[1;33m \u001b[0mdata\u001b[0m\u001b[1;33m[\u001b[0m\u001b[1;34m'emojis'\u001b[0m\u001b[1;33m]\u001b[0m \u001b[1;33m=\u001b[0m \u001b[0mdata\u001b[0m\u001b[1;33m[\u001b[0m\u001b[1;34m'clean'\u001b[0m\u001b[1;33m]\u001b[0m\u001b[1;33m.\u001b[0m\u001b[0mapply\u001b[0m\u001b[1;33m(\u001b[0m\u001b[1;32mlambda\u001b[0m \u001b[0mtext\u001b[0m\u001b[1;33m:\u001b[0m \u001b[0mget_emojis\u001b[0m\u001b[1;33m(\u001b[0m\u001b[0mtext\u001b[0m\u001b[1;33m)\u001b[0m\u001b[1;33m)\u001b[0m\u001b[1;33m\u001b[0m\u001b[1;33m\u001b[0m\u001b[0m\n\u001b[0m",
      "\u001b[1;31mNameError\u001b[0m: name 'data' is not defined"
     ]
    }
   ],
   "source": [
    "import regex\n",
    "import emoji\n",
    " \n",
    "def get_emojis(text):\n",
    "    emoji_list = []\n",
    "    data = regex.findall(r'\\X', text)\n",
    "    for word in data:\n",
    "        if any(char in emoji.UNICODE_EMOJI for char in word):\n",
    "            emoji_list.append(word)\n",
    " \n",
    "    return emoji_list\n",
    " \n",
    "data['emojis'] = data['clean'].apply(lambda text: get_emojis(text))"
   ]
  },
  {
   "cell_type": "code",
   "execution_count": null,
   "metadata": {},
   "outputs": [],
   "source": []
  }
 ],
 "metadata": {
  "kernelspec": {
   "display_name": "Python 3",
   "language": "python",
   "name": "python3"
  },
  "language_info": {
   "codemirror_mode": {
    "name": "ipython",
    "version": 3
   },
   "file_extension": ".py",
   "mimetype": "text/x-python",
   "name": "python",
   "nbconvert_exporter": "python",
   "pygments_lexer": "ipython3",
   "version": "3.8.3"
  }
 },
 "nbformat": 4,
 "nbformat_minor": 4
}
