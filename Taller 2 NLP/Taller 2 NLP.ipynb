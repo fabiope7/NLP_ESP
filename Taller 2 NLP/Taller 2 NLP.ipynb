{
 "cells": [
  {
   "cell_type": "markdown",
   "metadata": {},
   "source": [
    "## Primer Punto"
   ]
  },
  {
   "cell_type": "code",
   "execution_count": 1,
   "metadata": {},
   "outputs": [],
   "source": [
    "import os \n",
    "os.chdir(\"C:/Users/fps/Desktop/NLP/Clase 2/archivos\")"
   ]
  },
  {
   "cell_type": "code",
   "execution_count": 2,
   "metadata": {},
   "outputs": [],
   "source": [
    "from zipfile import ZipFile"
   ]
  },
  {
   "cell_type": "code",
   "execution_count": 3,
   "metadata": {},
   "outputs": [],
   "source": [
    "direccion = \"poemas.zip\"\n",
    "\n",
    "#Descomprimir el archivo Zip\n",
    "\n",
    "with ZipFile(direccion) as archivo: \n",
    "    archivo.extractall()"
   ]
  },
  {
   "cell_type": "code",
   "execution_count": 6,
   "metadata": {},
   "outputs": [
    {
     "data": {
      "text/plain": [
       "['A un general (Julio Corta╠üzar).txt',\n",
       " 'Aqui╠ü (Octavio Paz).txt',\n",
       " 'Si╠ündrome (Mario Benedetti).txt']"
      ]
     },
     "execution_count": 6,
     "metadata": {},
     "output_type": "execute_result"
    }
   ],
   "source": [
    "os.chdir(\"C:/Users/fps/Desktop/NLP/Clase 2/archivos/poemas\")\n",
    "os.listdir()"
   ]
  },
  {
   "cell_type": "code",
   "execution_count": 8,
   "metadata": {},
   "outputs": [
    {
     "data": {
      "text/plain": [
       "46"
      ]
     },
     "execution_count": 8,
     "metadata": {},
     "output_type": "execute_result"
    }
   ],
   "source": [
    "with open(\"A un general (Julio Corta╠üzar).txt\") as archivo:\n",
    "    data = archivo.read()\n",
    "\n",
    "len(data.split())"
   ]
  },
  {
   "cell_type": "code",
   "execution_count": 9,
   "metadata": {},
   "outputs": [
    {
     "data": {
      "text/plain": [
       "53"
      ]
     },
     "execution_count": 9,
     "metadata": {},
     "output_type": "execute_result"
    }
   ],
   "source": [
    "\n",
    "with open(\"Si╠ündrome (Mario Benedetti).txt\") as archivo:\n",
    "    data = archivo.read()\n",
    "\n",
    "len(data.split())"
   ]
  },
  {
   "cell_type": "code",
   "execution_count": 10,
   "metadata": {},
   "outputs": [
    {
     "data": {
      "text/plain": [
       "23"
      ]
     },
     "execution_count": 10,
     "metadata": {},
     "output_type": "execute_result"
    }
   ],
   "source": [
    "with open(\"Aqui╠ü (Octavio Paz).txt\") as archivo:\n",
    "    data = archivo.read()\n",
    "\n",
    "len(data.split())"
   ]
  },
  {
   "cell_type": "code",
   "execution_count": 66,
   "metadata": {},
   "outputs": [
    {
     "data": {
      "text/plain": [
       "23"
      ]
     },
     "execution_count": 66,
     "metadata": {},
     "output_type": "execute_result"
    }
   ],
   "source": [
    "for file in os.walk(\"poemas\"):\n",
    "    with open (file+'.txt') as archivo: \n",
    "        data = archivo.read()\n",
    "\n",
    "len(data.split())"
   ]
  },
  {
   "cell_type": "raw",
   "metadata": {},
   "source": [
    "El poema que Contiene mayor Numero de palabras es el de Mario Bennedetti con  53 Palabras"
   ]
  },
  {
   "cell_type": "markdown",
   "metadata": {},
   "source": [
    "## 10 Links Cientificos (Punto2)"
   ]
  },
  {
   "cell_type": "code",
   "execution_count": 40,
   "metadata": {},
   "outputs": [],
   "source": [
    "import bs4 as bs\n",
    "import urllib.request"
   ]
  },
  {
   "cell_type": "code",
   "execution_count": 41,
   "metadata": {},
   "outputs": [],
   "source": [
    "import requests"
   ]
  },
  {
   "cell_type": "code",
   "execution_count": 63,
   "metadata": {},
   "outputs": [],
   "source": [
    "Cientificos = [\"https://es.wikipedia.org/wiki/Isaac_Newton\",\"https://es.wikipedia.org/wiki/Albert_Einstein\",\"https://es.wikipedia.org/wiki/Louis_Pasteur\",\"https://es.wikipedia.org/wiki/Marie_Curie\",\"https://es.wikipedia.org/wiki/Stephen_Hawking\",\"https://es.wikipedia.org/wiki/Nikola_Tesla\",\"https://es.wikipedia.org/wiki/Charles_Darwin\",\"https://es.wikipedia.org/wiki/Nicol%C3%A1s_Cop%C3%A9rnico\",\"https://es.wikipedia.org/wiki/Michael_Faraday\",\"https://es.wikipedia.org/wiki/Carl_Friedrich_Gauss\"]"
   ]
  },
  {
   "cell_type": "code",
   "execution_count": 64,
   "metadata": {},
   "outputs": [
    {
     "name": "stdout",
     "output_type": "stream",
     "text": [
      "\n",
      "\n",
      "Cientifico:Isaac Newton\n",
      "\n",
      "\n",
      "\n",
      "[<a href=\"/wiki/Woolsthorpe-by-Colsterworth\" title=\"Woolsthorpe-by-Colsterworth\">Woolsthorpe</a>, <a href=\"/wiki/Lincolnshire\" title=\"Lincolnshire\">Lincolnshire</a>, <a href=\"/wiki/Calendario_juliano\" title=\"Calendario juliano\">jul.</a>, <a href=\"/wiki/4_de_enero\" title=\"4 de enero\">4 de enero</a>, <a href=\"/wiki/1643\" title=\"1643\">1643</a>, <a href=\"/wiki/Calendario_gregoriano\" title=\"Calendario gregoriano\">greg.</a>, <a href=\"/wiki/Kensington\" title=\"Kensington\">Kensington</a>, <a href=\"/wiki/Londres\" title=\"Londres\">Londres</a>, <a href=\"/wiki/Calendario_juliano\" title=\"Calendario juliano\">jul.</a>, <a href=\"/wiki/Calendario_gregoriano\" title=\"Calendario gregoriano\">greg.</a>, <a href=\"/wiki/F%C3%ADsico\" title=\"Físico\">físico</a>, <a class=\"mw-redirect\" href=\"/wiki/Te%C3%B3logo\" title=\"Teólogo\">teólogo</a>, <a href=\"/wiki/Inventor\" title=\"Inventor\">inventor</a>, <a class=\"mw-redirect\" href=\"/wiki/Alquimista\" title=\"Alquimista\">alquimista</a>, <a href=\"/wiki/Matem%C3%A1ticas\" title=\"Matemáticas\">matemático</a>, <a href=\"/wiki/Inglaterra\" title=\"Inglaterra\">inglés</a>, <a href=\"/wiki/Philosophi%C3%A6_naturalis_principia_mathematica\" title=\"Philosophiæ naturalis principia mathematica\">Philosophiæ naturalis principia mathematica</a>, <a href=\"/wiki/Ley_de_gravitaci%C3%B3n_universal\" title=\"Ley de gravitación universal\">ley de la gravitación universal</a>, <a href=\"/wiki/Mec%C3%A1nica_cl%C3%A1sica\" title=\"Mecánica clásica\">mecánica clásica</a>, <a href=\"/wiki/Leyes_de_Newton\" title=\"Leyes de Newton\">leyes</a>, <a href=\"/wiki/Luz\" title=\"Luz\">luz</a>, <a href=\"/wiki/%C3%93ptica\" title=\"Óptica\">óptica</a>, <a href=\"/wiki/Opticks\" title=\"Opticks\">Opticks</a>, <a href=\"/wiki/C%C3%A1lculo_infinitesimal\" title=\"Cálculo infinitesimal\">cálculo infinitesimal</a>]\n",
      "/wiki/Woolsthorpe-by-Colsterworth\n",
      "/wiki/Lincolnshire\n",
      "/wiki/Calendario_juliano\n",
      "/wiki/4_de_enero\n",
      "/wiki/1643\n",
      "/wiki/Calendario_gregoriano\n",
      "/wiki/Kensington\n",
      "/wiki/Londres\n",
      "/wiki/Calendario_juliano\n",
      "/wiki/Calendario_gregoriano\n",
      "/wiki/F%C3%ADsico\n",
      "/wiki/Te%C3%B3logo\n",
      "/wiki/Inventor\n",
      "/wiki/Alquimista\n",
      "/wiki/Matem%C3%A1ticas\n",
      "/wiki/Inglaterra\n",
      "/wiki/Philosophi%C3%A6_naturalis_principia_mathematica\n",
      "/wiki/Ley_de_gravitaci%C3%B3n_universal\n",
      "/wiki/Mec%C3%A1nica_cl%C3%A1sica\n",
      "/wiki/Leyes_de_Newton\n",
      "/wiki/Luz\n",
      "/wiki/%C3%93ptica\n",
      "/wiki/Opticks\n",
      "/wiki/C%C3%A1lculo_infinitesimal\n",
      "\n",
      "\n",
      "Cientifico:Albert Einstein\n",
      "\n",
      "\n",
      "\n",
      "[<a href=\"/wiki/Ayuda:AFI/Alem%C3%A1n\" title=\"Ayuda:AFI/Alemán\">/ˈalbɛɐ̯t ˈʔaɪnʃtaɪn/</a>, <a href=\"/wiki/Ulm\" title=\"Ulm\">Ulm</a>, <a href=\"/wiki/Imperio_alem%C3%A1n\" title=\"Imperio alemán\">Imperio alemán</a>, <a href=\"/wiki/14_de_marzo\" title=\"14 de marzo\">14 de marzo</a>, <a href=\"/wiki/1879\" title=\"1879\">1879</a>, <a href=\"/wiki/Princeton_(Nueva_Jersey)\" title=\"Princeton (Nueva Jersey)\">Princeton</a>, <a href=\"/wiki/Estados_Unidos\" title=\"Estados Unidos\">Estados Unidos</a>, <a href=\"/wiki/18_de_abril\" title=\"18 de abril\">18 de abril</a>, <a href=\"/wiki/1955\" title=\"1955\">1955</a>, <a href=\"/wiki/F%C3%ADsico\" title=\"Físico\">físico</a>, <a href=\"/wiki/Imperio_alem%C3%A1n\" title=\"Imperio alemán\">alemán</a>, <a href=\"/wiki/Pueblo_jud%C3%ADo\" title=\"Pueblo judío\">judío</a>, <a href=\"/wiki/Suiza\" title=\"Suiza\">suizo</a>, <a href=\"/wiki/Austria\" title=\"Austria\">austriaco</a>, <a href=\"/wiki/Nacionalidad_estadounidense\" title=\"Nacionalidad estadounidense\">estadounidense</a>, <a href=\"/wiki/Cient%C3%ADfico\" title=\"Científico\">científico</a>, <a href=\"/wiki/Siglo_XX\" title=\"Siglo XX\">siglo XX</a>, <a href=\"#cite_note-1\"><span class=\"corchete-llamada\">[</span>1<span class=\"corchete-llamada\">]</span></a>, <a href=\"#cite_note-2\"><span class=\"corchete-llamada\">[</span>2<span class=\"corchete-llamada\">]</span></a>]\n",
      "/wiki/Ayuda:AFI/Alem%C3%A1n\n",
      "/wiki/Ulm\n",
      "/wiki/Imperio_alem%C3%A1n\n",
      "/wiki/14_de_marzo\n",
      "/wiki/1879\n",
      "/wiki/Princeton_(Nueva_Jersey)\n",
      "/wiki/Estados_Unidos\n",
      "/wiki/18_de_abril\n",
      "/wiki/1955\n",
      "/wiki/F%C3%ADsico\n",
      "/wiki/Imperio_alem%C3%A1n\n",
      "/wiki/Pueblo_jud%C3%ADo\n",
      "/wiki/Suiza\n",
      "/wiki/Austria\n",
      "/wiki/Nacionalidad_estadounidense\n",
      "/wiki/Cient%C3%ADfico\n",
      "/wiki/Siglo_XX\n",
      "#cite_note-1\n",
      "#cite_note-2\n",
      "\n",
      "\n",
      "Cientifico:Louis Pasteur\n",
      "\n",
      "\n",
      "\n",
      "[<a href=\"/wiki/Ayuda:AFI/Franc%C3%A9s\" title=\"Ayuda:AFI/Francés\">/lwi pastœʁ/</a>, <a href=\"/wiki/Dole_(Jura)\" title=\"Dole (Jura)\">Dole</a>, <a href=\"/wiki/Francia\" title=\"Francia\">Francia</a>, <a href=\"/wiki/27_de_diciembre\" title=\"27 de diciembre\">27 de diciembre</a>, <a href=\"/wiki/1822\" title=\"1822\">1822</a>, <a href=\"/wiki/Marnes-la-Coquette\" title=\"Marnes-la-Coquette\">Marnes-la-Coquette</a>, <a href=\"/wiki/Francia\" title=\"Francia\">Francia</a>, <a href=\"/wiki/28_de_septiembre\" title=\"28 de septiembre\">28 de septiembre</a>, <a href=\"/wiki/1895\" title=\"1895\">1895</a>, <a href=\"/wiki/Qu%C3%ADmica\" title=\"Química\">químico</a>, <a href=\"/wiki/F%C3%ADsico\" title=\"Físico\">físico</a>, <a href=\"#cite_note-Tesis-1\"><span class=\"corchete-llamada\">[</span>1<span class=\"corchete-llamada\">]</span></a>, <a href=\"/wiki/Matem%C3%A1tico\" title=\"Matemático\">matemático</a>, <a href=\"#cite_note-Math-2\"><span class=\"corchete-llamada\">[</span>2<span class=\"corchete-llamada\">]</span></a>, <a href=\"/wiki/Francia\" title=\"Francia\">francés</a>, <a href=\"/wiki/Ciencias_naturales\" title=\"Ciencias naturales\">ciencias naturales</a>, <a href=\"/wiki/Qu%C3%ADmica\" title=\"Química\">química</a>, <a href=\"/wiki/Microbiolog%C3%ADa\" title=\"Microbiología\">microbiología</a>, <a href=\"/wiki/Pasteurizaci%C3%B3n\" title=\"Pasteurización\">pasteurización</a>, <a href=\"/wiki/Autoclave\" title=\"Autoclave\">autoclave</a>, <a href=\"/wiki/Experimento\" title=\"Experimento\">experimentos</a>, <a href=\"/wiki/Generaci%C3%B3n_espont%C3%A1nea\" title=\"Generación espontánea\">generación espontánea</a>, <a class=\"mw-redirect\" href=\"/wiki/Teor%C3%ADa_germinal_de_las_enfermedades_infecciosas\" title=\"Teoría germinal de las enfermedades infecciosas\">teoría germinal de las enfermedades infecciosas</a>, <a href=\"/wiki/Microbiolog%C3%ADa\" title=\"Microbiología\">microbiología</a>, <a class=\"new\" href=\"/w/index.php?title=Edad_de_Oro_de_la_Microbiolog%C3%ADa&amp;action=edit&amp;redlink=1\" title=\"Edad de Oro de la Microbiología (aún no redactado)\">Edad de Oro de la Microbiología</a>, <a href=\"/wiki/Wikipedia:Verificabilidad\" title=\"Wikipedia:Verificabilidad\">cita requerida</a>]\n",
      "/wiki/Ayuda:AFI/Franc%C3%A9s\n",
      "/wiki/Dole_(Jura)\n",
      "/wiki/Francia\n",
      "/wiki/27_de_diciembre\n",
      "/wiki/1822\n",
      "/wiki/Marnes-la-Coquette\n",
      "/wiki/Francia\n",
      "/wiki/28_de_septiembre\n",
      "/wiki/1895\n",
      "/wiki/Qu%C3%ADmica\n",
      "/wiki/F%C3%ADsico\n",
      "#cite_note-Tesis-1\n",
      "/wiki/Matem%C3%A1tico\n",
      "#cite_note-Math-2\n",
      "/wiki/Francia\n",
      "/wiki/Ciencias_naturales\n",
      "/wiki/Qu%C3%ADmica\n",
      "/wiki/Microbiolog%C3%ADa\n",
      "/wiki/Pasteurizaci%C3%B3n\n",
      "/wiki/Autoclave\n",
      "/wiki/Experimento\n",
      "/wiki/Generaci%C3%B3n_espont%C3%A1nea\n",
      "/wiki/Teor%C3%ADa_germinal_de_las_enfermedades_infecciosas\n",
      "/wiki/Microbiolog%C3%ADa\n",
      "/w/index.php?title=Edad_de_Oro_de_la_Microbiolog%C3%ADa&action=edit&redlink=1\n",
      "/wiki/Wikipedia:Verificabilidad\n",
      "\n",
      "\n",
      "Cientifico:Marie Curie\n",
      "\n",
      "\n",
      "\n",
      "[<a href=\"#cite_note-3\"><span class=\"corchete-llamada\">[</span>A<span class=\"corchete-llamada\">]</span></a>, <a href=\"#cite_note-pron-4\"><span class=\"corchete-llamada\">[</span>B<span class=\"corchete-llamada\">]</span></a>, <a href=\"#cite_note-7\"><span class=\"corchete-llamada\">[</span>C<span class=\"corchete-llamada\">]</span></a>, <a href=\"#cite_note-pron-4\"><span class=\"corchete-llamada\">[</span>B<span class=\"corchete-llamada\">]</span></a>, <a href=\"/wiki/Varsovia\" title=\"Varsovia\">Varsovia</a>, <a href=\"/wiki/7_de_noviembre\" title=\"7 de noviembre\">7 de noviembre</a>, <a href=\"/wiki/1867\" title=\"1867\">1867</a>, <a href=\"/wiki/Passy_(Alta_Saboya)\" title=\"Passy (Alta Saboya)\">Passy</a>, <a href=\"/wiki/4_de_julio\" title=\"4 de julio\">4 de julio</a>, <a href=\"/wiki/1934\" title=\"1934\">1934</a>, <a href=\"/wiki/Cient%C3%ADfico\" title=\"Científico\">científica</a>, <a href=\"/wiki/Polonia\" title=\"Polonia\">polaca</a>, <a href=\"/wiki/Naturalizaci%C3%B3n\" title=\"Naturalización\">nacionalizada</a>, <a href=\"/wiki/Francia\" title=\"Francia\">francesa</a>, <a href=\"/wiki/Radiactividad\" title=\"Radiactividad\">radiactividad</a>, <a href=\"/wiki/Premio_Nobel\" title=\"Premio Nobel\">premios Nobel</a>, <a href=\"/wiki/Anexo:Ganadores_del_Premio_Nobel_de_F%C3%ADsica\" title=\"Anexo:Ganadores del Premio Nobel de Física\">Física</a>, <a href=\"/wiki/Anexo:Ganadores_del_Premio_Nobel_de_Qu%C3%ADmica\" title=\"Anexo:Ganadores del Premio Nobel de Química\">Química</a>, <a href=\"#cite_note-dos-9\"><span class=\"corchete-llamada\">[</span>D<span class=\"corchete-llamada\">]</span></a>, <a href=\"/wiki/Universidad_de_Par%C3%ADs\" title=\"Universidad de París\">Universidad de París</a>, <a href=\"/wiki/Pante%C3%B3n_de_Par%C3%ADs\" title=\"Panteón de París\">Panteón de París</a>, <a href=\"#cite_note-tumba-10\"><span class=\"corchete-llamada\">[</span>E<span class=\"corchete-llamada\">]</span></a>]\n",
      "#cite_note-3\n",
      "#cite_note-pron-4\n",
      "#cite_note-7\n",
      "#cite_note-pron-4\n",
      "/wiki/Varsovia\n",
      "/wiki/7_de_noviembre\n",
      "/wiki/1867\n",
      "/wiki/Passy_(Alta_Saboya)\n",
      "/wiki/4_de_julio\n",
      "/wiki/1934\n",
      "/wiki/Cient%C3%ADfico\n",
      "/wiki/Polonia\n",
      "/wiki/Naturalizaci%C3%B3n\n",
      "/wiki/Francia\n",
      "/wiki/Radiactividad\n",
      "/wiki/Premio_Nobel\n",
      "/wiki/Anexo:Ganadores_del_Premio_Nobel_de_F%C3%ADsica\n",
      "/wiki/Anexo:Ganadores_del_Premio_Nobel_de_Qu%C3%ADmica\n",
      "#cite_note-dos-9\n",
      "/wiki/Universidad_de_Par%C3%ADs\n",
      "/wiki/Pante%C3%B3n_de_Par%C3%ADs\n",
      "#cite_note-tumba-10\n",
      "\n",
      "\n"
     ]
    },
    {
     "name": "stdout",
     "output_type": "stream",
     "text": [
      "Cientifico:Stephen Hawking\n",
      "\n",
      "\n",
      "\n",
      "[<a href=\"/wiki/Ayuda:AFI/Ingl%C3%A9s\" title=\"Ayuda:AFI/Inglés\">/stiːvən_ˈhɔːkɪŋ/</a>, <a class=\"internal\" href=\"//upload.wikimedia.org/wikipedia/commons/a/ad/Stephen_Hawking_Pronunciation.ogg\" title=\"Stephen Hawking Pronunciation.ogg\">escuchar</a>, <a href=\"/wiki/Oxford\" title=\"Oxford\">Oxford</a>, <a href=\"/wiki/8_de_enero\" title=\"8 de enero\">8 de enero</a>, <a href=\"/wiki/1942\" title=\"1942\">1942</a>, <a href=\"/wiki/Cambridge\" title=\"Cambridge\">Cambridge</a>, <a href=\"/wiki/14_de_marzo\" title=\"14 de marzo\">14 de marzo</a>, <a href=\"/wiki/2018\" title=\"2018\">2018</a>, <a href=\"#cite_note-3\"><span class=\"corchete-llamada\">[</span>3<span class=\"corchete-llamada\">]</span></a>, <a href=\"#cite_note-4\"><span class=\"corchete-llamada\">[</span>4<span class=\"corchete-llamada\">]</span></a>, <a href=\"/wiki/F%C3%ADsica_te%C3%B3rica\" title=\"Física teórica\">físico teórico</a>, <a href=\"/wiki/Astrof%C3%ADsica\" title=\"Astrofísica\">astrofísico</a>, <a href=\"/wiki/Cosmolog%C3%ADa\" title=\"Cosmología\">cosmólogo</a>, <a href=\"/wiki/Divulgaci%C3%B3n_cient%C3%ADfica\" title=\"Divulgación científica\">divulgador científico</a>, <a href=\"/wiki/Reino_Unido\" title=\"Reino Unido\">británico</a>, <a href=\"/wiki/Roger_Penrose\" title=\"Roger Penrose\">Roger Penrose</a>, <a href=\"/wiki/Singularidad_gravitacional\" title=\"Singularidad gravitacional\">singularidades espaciotemporales</a>, <a href=\"/wiki/Relatividad_general\" title=\"Relatividad general\">relatividad general</a>, <a href=\"/wiki/Agujero_negro\" title=\"Agujero negro\">agujeros negros</a>, <a href=\"#cite_note-KakImp-5\"><span class=\"corchete-llamada\">[</span>5<span class=\"corchete-llamada\">]</span></a>, <a href=\"/wiki/Radiaci%C3%B3n_de_Hawking\" title=\"Radiación de Hawking\">radiación de Hawking</a>, <a href=\"#cite_note-6\"><span class=\"corchete-llamada\">[</span>6<span class=\"corchete-llamada\">]</span></a>]\n",
      "/wiki/Ayuda:AFI/Ingl%C3%A9s\n",
      "//upload.wikimedia.org/wikipedia/commons/a/ad/Stephen_Hawking_Pronunciation.ogg\n",
      "/wiki/Oxford\n",
      "/wiki/8_de_enero\n",
      "/wiki/1942\n",
      "/wiki/Cambridge\n",
      "/wiki/14_de_marzo\n",
      "/wiki/2018\n",
      "#cite_note-3\n",
      "#cite_note-4\n",
      "/wiki/F%C3%ADsica_te%C3%B3rica\n",
      "/wiki/Astrof%C3%ADsica\n",
      "/wiki/Cosmolog%C3%ADa\n",
      "/wiki/Divulgaci%C3%B3n_cient%C3%ADfica\n",
      "/wiki/Reino_Unido\n",
      "/wiki/Roger_Penrose\n",
      "/wiki/Singularidad_gravitacional\n",
      "/wiki/Relatividad_general\n",
      "/wiki/Agujero_negro\n",
      "#cite_note-KakImp-5\n",
      "/wiki/Radiaci%C3%B3n_de_Hawking\n",
      "#cite_note-6\n",
      "\n",
      "\n",
      "Cientifico:Nikola Tesla\n",
      "\n",
      "\n",
      "\n",
      "[]\n",
      "\n",
      "\n",
      "Cientifico:Charles Darwin\n",
      "\n",
      "\n",
      "\n",
      "[<a href=\"/wiki/Shrewsbury\" title=\"Shrewsbury\">Shrewsbury</a>, <a href=\"/wiki/12_de_febrero\" title=\"12 de febrero\">12 de febrero</a>, <a href=\"/wiki/1809\" title=\"1809\">1809</a>, <a href=\"/wiki/Down_House\" title=\"Down House\">Down House</a>, <a href=\"/wiki/19_de_abril\" title=\"19 de abril\">19 de abril</a>, <a href=\"/wiki/1882\" title=\"1882\">1882</a>, <a href=\"/wiki/Naturalista\" title=\"Naturalista\">naturalista</a>, <a href=\"/wiki/Inglaterra\" title=\"Inglaterra\">inglés</a>, <a href=\"/wiki/Alfred_Russel_Wallace\" title=\"Alfred Russel Wallace\">Alfred Russel Wallace</a>, <a href=\"/wiki/Evoluci%C3%B3n_biol%C3%B3gica\" title=\"Evolución biológica\">evolución biológica</a>, <a href=\"/wiki/Selecci%C3%B3n_natural\" title=\"Selección natural\">selección natural</a>, <a href=\"/wiki/El_origen_de_las_especies\" title=\"El origen de las especies\">El origen de las especies</a>, <a href=\"/wiki/Especie\" title=\"Especie\">especies</a>, <a href=\"/wiki/Ser_vivo\" title=\"Ser vivo\">seres vivos</a>, <a href=\"/wiki/Evoluci%C3%B3n_biol%C3%B3gica\" title=\"Evolución biológica\">evolucionado</a>, <a href=\"/wiki/Antepasado_com%C3%BAn\" title=\"Antepasado común\">antepasado común</a>, <a href=\"/wiki/Selecci%C3%B3n_natural\" title=\"Selección natural\">selección natural</a>, <a href=\"/wiki/Comunidad_cient%C3%ADfica\" title=\"Comunidad científica\">comunidad científica</a>, <a href=\"/wiki/Teor%C3%ADa\" title=\"Teoría\">teoría</a>, <a href=\"#cite_note-JvW-1\"><span class=\"corchete-llamada\">[</span>1<span class=\"corchete-llamada\">]</span></a>, <a href=\"/wiki/S%C3%ADntesis_evolutiva_moderna\" title=\"Síntesis evolutiva moderna\">síntesis evolutiva moderna</a>, <a href=\"/wiki/Biolog%C3%ADa\" title=\"Biología\">biología</a>, <a href=\"/wiki/L%C3%B3gica\" title=\"Lógica\">lógica</a>, <a href=\"/wiki/Biodiversidad\" title=\"Biodiversidad\">diversidad de la vida</a>, <a href=\"#cite_note-2\"><span class=\"corchete-llamada\">[</span>2<span class=\"corchete-llamada\">]</span></a>]\n",
      "/wiki/Shrewsbury\n",
      "/wiki/12_de_febrero\n",
      "/wiki/1809\n",
      "/wiki/Down_House\n",
      "/wiki/19_de_abril\n",
      "/wiki/1882\n",
      "/wiki/Naturalista\n",
      "/wiki/Inglaterra\n",
      "/wiki/Alfred_Russel_Wallace\n",
      "/wiki/Evoluci%C3%B3n_biol%C3%B3gica\n",
      "/wiki/Selecci%C3%B3n_natural\n",
      "/wiki/El_origen_de_las_especies\n",
      "/wiki/Especie\n",
      "/wiki/Ser_vivo\n",
      "/wiki/Evoluci%C3%B3n_biol%C3%B3gica\n",
      "/wiki/Antepasado_com%C3%BAn\n",
      "/wiki/Selecci%C3%B3n_natural\n",
      "/wiki/Comunidad_cient%C3%ADfica\n",
      "/wiki/Teor%C3%ADa\n",
      "#cite_note-JvW-1\n",
      "/wiki/S%C3%ADntesis_evolutiva_moderna\n",
      "/wiki/Biolog%C3%ADa\n",
      "/wiki/L%C3%B3gica\n",
      "/wiki/Biodiversidad\n",
      "#cite_note-2\n",
      "\n",
      "\n",
      "Cientifico:Nicolás Copérnico\n",
      "\n",
      "\n",
      "\n",
      "[]\n",
      "\n",
      "\n",
      "Cientifico:Michael Faraday\n",
      "\n",
      "\n",
      "\n",
      "[<a href=\"/wiki/Miembro_de_la_Royal_Society\" title=\"Miembro de la Royal Society\">FRS</a>, <a href=\"/wiki/Ayuda:AFI/Ingl%C3%A9s\" title=\"Ayuda:AFI/Inglés\">/ˈmaɪkəl ˈfæɹəˌdeɪ/</a>, <a href=\"/wiki/Newington_(Londres)\" title=\"Newington (Londres)\">Newington Butt</a>, <a href=\"/wiki/Hampton_Court\" title=\"Hampton Court\">Hampton Court</a>, <a href=\"/wiki/F%C3%ADsico\" title=\"Físico\">físico</a>, <a href=\"/wiki/Qu%C3%ADmico\" title=\"Químico\">químico</a>, <a href=\"/wiki/Reino_Unido\" title=\"Reino Unido\">británico</a>, <a href=\"/wiki/Electromagnetismo\" title=\"Electromagnetismo\">electromagnetismo</a>, <a href=\"/wiki/Electroqu%C3%ADmica\" title=\"Electroquímica\">electroquímica</a>, <a href=\"/wiki/Inducci%C3%B3n_electromagn%C3%A9tica\" title=\"Inducción electromagnética\">inducción electromagnética</a>, <a href=\"/wiki/Diamagnetismo\" title=\"Diamagnetismo\">diamagnetismo</a>, <a href=\"/wiki/Electr%C3%B3lisis\" title=\"Electrólisis\">electrólisis</a>]\n",
      "/wiki/Miembro_de_la_Royal_Society\n",
      "/wiki/Ayuda:AFI/Ingl%C3%A9s\n",
      "/wiki/Newington_(Londres)\n",
      "/wiki/Hampton_Court\n",
      "/wiki/F%C3%ADsico\n",
      "/wiki/Qu%C3%ADmico\n",
      "/wiki/Reino_Unido\n",
      "/wiki/Electromagnetismo\n",
      "/wiki/Electroqu%C3%ADmica\n",
      "/wiki/Inducci%C3%B3n_electromagn%C3%A9tica\n",
      "/wiki/Diamagnetismo\n",
      "/wiki/Electr%C3%B3lisis\n",
      "\n",
      "\n",
      "Cientifico:Carl Friedrich Gauss\n",
      "\n",
      "\n",
      "\n",
      "[<a href=\"/wiki/Teor%C3%ADa_de_n%C3%BAmeros\" title=\"Teoría de números\">Teoría de números</a>, <a href=\"/wiki/Magnetismo\" title=\"Magnetismo\">Magnetismo</a>, <a href=\"/wiki/Funci%C3%B3n_gaussiana\" title=\"Función gaussiana\">Función gaussiana</a>]\n",
      "/wiki/Teor%C3%ADa_de_n%C3%BAmeros\n",
      "/wiki/Magnetismo\n",
      "/wiki/Funci%C3%B3n_gaussiana\n"
     ]
    }
   ],
   "source": [
    "for link in Cientificos:        \n",
    "    print(\"\\n\")\n",
    "    request = urllib.request.urlopen(link) #requerimiento\n",
    "    wiki = request.read() \n",
    "    request.close() \n",
    "    wiki_tex = bs.BeautifulSoup(wiki,'html.parser')   \n",
    "    wiki_tex.find('h1',attrs={'class':'firstHeading'}) # busqueda etiq h1     \n",
    "    titulo= wiki_tex.h1.get_text()#titulo Cientifico\n",
    "    print(\"Cientifico:\" + titulo + \"\\n\")\n",
    "    \n",
    "    print(\"\\n\")\n",
    "    url_list= wiki_tex.find('p').find_all('a') #todos etiquetas\n",
    "    print(url_list)\n",
    "   \n",
    "    for item_lista in url_list:\n",
    "        parrafo=item_lista.get('href') # 1 parrafo\n",
    "        print(parrafo)"
   ]
  },
  {
   "cell_type": "code",
   "execution_count": null,
   "metadata": {},
   "outputs": [],
   "source": []
  }
 ],
 "metadata": {
  "kernelspec": {
   "display_name": "Python 3",
   "language": "python",
   "name": "python3"
  },
  "language_info": {
   "codemirror_mode": {
    "name": "ipython",
    "version": 3
   },
   "file_extension": ".py",
   "mimetype": "text/x-python",
   "name": "python",
   "nbconvert_exporter": "python",
   "pygments_lexer": "ipython3",
   "version": "3.8.3"
  }
 },
 "nbformat": 4,
 "nbformat_minor": 4
}
