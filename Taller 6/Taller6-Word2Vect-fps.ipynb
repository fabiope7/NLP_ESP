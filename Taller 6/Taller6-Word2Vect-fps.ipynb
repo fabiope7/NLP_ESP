{
 "cells": [
  {
   "cell_type": "markdown",
   "metadata": {},
   "source": [
    "<img src='https://encrypted-tbn0.gstatic.com/images?q=tbn%3AANd9GcQ-VfNtOyJbsaxu43Kztf_cv1mgBG6ZIQZEVw&usqp=CAU'>\n",
    "\n",
    "# Procesamiento de Lenguage Natural\n",
    "\n",
    "# Fabio Peña Santiago\n",
    "\n",
    "## Taller #6: Word2Vec\n",
    "`Fecha de entrega: Septiembre 19, 2020. (Antes del inicio de la próxima clase).`\n",
    "\n",
    "`Modo de entrega: Subir link de GitHub al aula virtual.`\n",
    "\n",
    "\n",
    "\n",
    "## Libre elección\n",
    "\n",
    "Expectativas:\n",
    "- Uso de Word2Vec \n",
    "- Responder:\n",
    "    - ¿Su modelo da buenos resultados? ¿Por qué sí o por qué no?\n",
    "    - ¿Qué problemas encontró al realizar este taller?\n",
    "    "
   ]
  },
  {
   "cell_type": "code",
   "execution_count": 1,
   "metadata": {},
   "outputs": [],
   "source": [
    "import pandas as pd\n",
    "import numpy as np\n",
    "import re\n",
    "from tqdm import tqdm\n",
    "from nltk.corpus import stopwords\n",
    "\n",
    "from gensim.models import Word2Vec\n",
    "from gensim.models import Phrases\n",
    "from gensim.models.phrases import Phraser\n",
    "\n",
    "from sklearn.manifold import TSNE\n",
    "import matplotlib.pyplot as plt\n",
    "\n",
    "import logging\n",
    "logging.basicConfig(format='%(asctime)s : %(levelname)s : %(message)s', level=logging.INFO)\n",
    "\n",
    "%matplotlib inline"
   ]
  },
  {
   "cell_type": "markdown",
   "metadata": {},
   "source": [
    "## Data"
   ]
  },
  {
   "cell_type": "code",
   "execution_count": 2,
   "metadata": {},
   "outputs": [],
   "source": [
    "data = pd.read_csv('C:/Users/ITHELATH/Documents/Laptop Col/dektop/NLP/Taller 6/hotel-reviews.csv')"
   ]
  },
  {
   "cell_type": "code",
   "execution_count": 3,
   "metadata": {},
   "outputs": [
    {
     "data": {
      "text/html": [
       "<div>\n",
       "<style scoped>\n",
       "    .dataframe tbody tr th:only-of-type {\n",
       "        vertical-align: middle;\n",
       "    }\n",
       "\n",
       "    .dataframe tbody tr th {\n",
       "        vertical-align: top;\n",
       "    }\n",
       "\n",
       "    .dataframe thead th {\n",
       "        text-align: right;\n",
       "    }\n",
       "</style>\n",
       "<table border=\"1\" class=\"dataframe\">\n",
       "  <thead>\n",
       "    <tr style=\"text-align: right;\">\n",
       "      <th></th>\n",
       "      <th>User_ID</th>\n",
       "      <th>Description</th>\n",
       "      <th>Browser_Used</th>\n",
       "      <th>Device_Used</th>\n",
       "      <th>Is_Response</th>\n",
       "    </tr>\n",
       "  </thead>\n",
       "  <tbody>\n",
       "    <tr>\n",
       "      <th>0</th>\n",
       "      <td>id10326</td>\n",
       "      <td>The room was kind of clean but had a VERY stro...</td>\n",
       "      <td>Edge</td>\n",
       "      <td>Mobile</td>\n",
       "      <td>not happy</td>\n",
       "    </tr>\n",
       "    <tr>\n",
       "      <th>1</th>\n",
       "      <td>id10327</td>\n",
       "      <td>I stayed at the Crown Plaza April -- - April -...</td>\n",
       "      <td>Internet Explorer</td>\n",
       "      <td>Mobile</td>\n",
       "      <td>not happy</td>\n",
       "    </tr>\n",
       "    <tr>\n",
       "      <th>2</th>\n",
       "      <td>id10328</td>\n",
       "      <td>I booked this hotel through Hotwire at the low...</td>\n",
       "      <td>Mozilla</td>\n",
       "      <td>Tablet</td>\n",
       "      <td>not happy</td>\n",
       "    </tr>\n",
       "    <tr>\n",
       "      <th>3</th>\n",
       "      <td>id10329</td>\n",
       "      <td>Stayed here with husband and sons on the way t...</td>\n",
       "      <td>InternetExplorer</td>\n",
       "      <td>Desktop</td>\n",
       "      <td>happy</td>\n",
       "    </tr>\n",
       "    <tr>\n",
       "      <th>4</th>\n",
       "      <td>id10330</td>\n",
       "      <td>My girlfriends and I stayed here to celebrate ...</td>\n",
       "      <td>Edge</td>\n",
       "      <td>Tablet</td>\n",
       "      <td>not happy</td>\n",
       "    </tr>\n",
       "  </tbody>\n",
       "</table>\n",
       "</div>"
      ],
      "text/plain": [
       "   User_ID                                        Description  \\\n",
       "0  id10326  The room was kind of clean but had a VERY stro...   \n",
       "1  id10327  I stayed at the Crown Plaza April -- - April -...   \n",
       "2  id10328  I booked this hotel through Hotwire at the low...   \n",
       "3  id10329  Stayed here with husband and sons on the way t...   \n",
       "4  id10330  My girlfriends and I stayed here to celebrate ...   \n",
       "\n",
       "        Browser_Used Device_Used Is_Response  \n",
       "0               Edge      Mobile   not happy  \n",
       "1  Internet Explorer      Mobile   not happy  \n",
       "2            Mozilla      Tablet   not happy  \n",
       "3   InternetExplorer     Desktop       happy  \n",
       "4               Edge      Tablet   not happy  "
      ]
     },
     "execution_count": 3,
     "metadata": {},
     "output_type": "execute_result"
    }
   ],
   "source": [
    "data.head()"
   ]
  },
  {
   "cell_type": "code",
   "execution_count": 4,
   "metadata": {},
   "outputs": [
    {
     "data": {
      "text/html": [
       "<div>\n",
       "<style scoped>\n",
       "    .dataframe tbody tr th:only-of-type {\n",
       "        vertical-align: middle;\n",
       "    }\n",
       "\n",
       "    .dataframe tbody tr th {\n",
       "        vertical-align: top;\n",
       "    }\n",
       "\n",
       "    .dataframe thead th {\n",
       "        text-align: right;\n",
       "    }\n",
       "</style>\n",
       "<table border=\"1\" class=\"dataframe\">\n",
       "  <thead>\n",
       "    <tr style=\"text-align: right;\">\n",
       "      <th></th>\n",
       "      <th>User_ID</th>\n",
       "      <th>Description</th>\n",
       "      <th>Browser_Used</th>\n",
       "      <th>Device_Used</th>\n",
       "      <th>Is_Response</th>\n",
       "    </tr>\n",
       "  </thead>\n",
       "  <tbody>\n",
       "    <tr>\n",
       "      <th>count</th>\n",
       "      <td>38932</td>\n",
       "      <td>38932</td>\n",
       "      <td>38932</td>\n",
       "      <td>38932</td>\n",
       "      <td>38932</td>\n",
       "    </tr>\n",
       "    <tr>\n",
       "      <th>unique</th>\n",
       "      <td>38932</td>\n",
       "      <td>38932</td>\n",
       "      <td>11</td>\n",
       "      <td>3</td>\n",
       "      <td>2</td>\n",
       "    </tr>\n",
       "    <tr>\n",
       "      <th>top</th>\n",
       "      <td>id30082</td>\n",
       "      <td>I recently had the pleasure of staying at the ...</td>\n",
       "      <td>Firefox</td>\n",
       "      <td>Desktop</td>\n",
       "      <td>happy</td>\n",
       "    </tr>\n",
       "    <tr>\n",
       "      <th>freq</th>\n",
       "      <td>1</td>\n",
       "      <td>1</td>\n",
       "      <td>7367</td>\n",
       "      <td>15026</td>\n",
       "      <td>26521</td>\n",
       "    </tr>\n",
       "  </tbody>\n",
       "</table>\n",
       "</div>"
      ],
      "text/plain": [
       "        User_ID                                        Description  \\\n",
       "count     38932                                              38932   \n",
       "unique    38932                                              38932   \n",
       "top     id30082  I recently had the pleasure of staying at the ...   \n",
       "freq          1                                                  1   \n",
       "\n",
       "       Browser_Used Device_Used Is_Response  \n",
       "count         38932       38932       38932  \n",
       "unique           11           3           2  \n",
       "top         Firefox     Desktop       happy  \n",
       "freq           7367       15026       26521  "
      ]
     },
     "execution_count": 4,
     "metadata": {},
     "output_type": "execute_result"
    }
   ],
   "source": [
    "data.describe()"
   ]
  },
  {
   "cell_type": "code",
   "execution_count": 5,
   "metadata": {},
   "outputs": [
    {
     "name": "stdout",
     "output_type": "stream",
     "text": [
      "<class 'pandas.core.frame.DataFrame'>\n",
      "RangeIndex: 38932 entries, 0 to 38931\n",
      "Data columns (total 5 columns):\n",
      "User_ID         38932 non-null object\n",
      "Description     38932 non-null object\n",
      "Browser_Used    38932 non-null object\n",
      "Device_Used     38932 non-null object\n",
      "Is_Response     38932 non-null object\n",
      "dtypes: object(5)\n",
      "memory usage: 1.5+ MB\n"
     ]
    }
   ],
   "source": [
    "data.info()"
   ]
  },
  {
   "cell_type": "code",
   "execution_count": 86,
   "metadata": {},
   "outputs": [],
   "source": [
    "stopWords = stopwords.words('english')\n",
    "def cleanData(sentence):\n",
    "    processedList = \"\"\n",
    "    sentence = re.sub(r'[^A-Za-z0-9\\s.]',r'',str(sentence).lower()) #convert a minúsculas,ignorar todos los caracteres especiales \n",
    "    sentence = re.sub(r'\\n',r' ',sentence)\n",
    "    sentence = \" \".join([word for word in sentence.split() if word not in stopWords]) # Palabras vacias\n",
    "    return sentence"
   ]
  },
  {
   "cell_type": "code",
   "execution_count": 87,
   "metadata": {},
   "outputs": [
    {
     "data": {
      "text/plain": [
       "'rooms. one nice clearly updated recently other. clean bed comfy needed updating carpet old wrinkled example. great location visiting inner harbor getting fells point orioles games etc. supershuttle bwi worked great ways. tv remotes rooms terrible didnt watch much tv big deal. wireless sketchy th th floors didnt need much vacation didnt really matter. breakfast good morning. would stay town.'"
      ]
     },
     "execution_count": 87,
     "metadata": {},
     "output_type": "execute_result"
    }
   ],
   "source": [
    "cleanData(data['Description'][5])"
   ]
  },
  {
   "cell_type": "code",
   "execution_count": 88,
   "metadata": {},
   "outputs": [],
   "source": [
    "# clean data \n",
    "data['Description'] = data['Description'].map(lambda x: cleanData(x))"
   ]
  },
  {
   "cell_type": "code",
   "execution_count": 89,
   "metadata": {},
   "outputs": [
    {
     "data": {
      "text/html": [
       "<div>\n",
       "<style scoped>\n",
       "    .dataframe tbody tr th:only-of-type {\n",
       "        vertical-align: middle;\n",
       "    }\n",
       "\n",
       "    .dataframe tbody tr th {\n",
       "        vertical-align: top;\n",
       "    }\n",
       "\n",
       "    .dataframe thead th {\n",
       "        text-align: right;\n",
       "    }\n",
       "</style>\n",
       "<table border=\"1\" class=\"dataframe\">\n",
       "  <thead>\n",
       "    <tr style=\"text-align: right;\">\n",
       "      <th></th>\n",
       "      <th>User_ID</th>\n",
       "      <th>Description</th>\n",
       "      <th>Browser_Used</th>\n",
       "      <th>Device_Used</th>\n",
       "      <th>Is_Response</th>\n",
       "    </tr>\n",
       "  </thead>\n",
       "  <tbody>\n",
       "    <tr>\n",
       "      <th>0</th>\n",
       "      <td>id10326</td>\n",
       "      <td>room kind clean strong smell dogs. generally a...</td>\n",
       "      <td>Edge</td>\n",
       "      <td>Mobile</td>\n",
       "      <td>not happy</td>\n",
       "    </tr>\n",
       "    <tr>\n",
       "      <th>1</th>\n",
       "      <td>id10327</td>\n",
       "      <td>stayed crown plaza april april . staff friendl...</td>\n",
       "      <td>Internet Explorer</td>\n",
       "      <td>Mobile</td>\n",
       "      <td>not happy</td>\n",
       "    </tr>\n",
       "    <tr>\n",
       "      <th>2</th>\n",
       "      <td>id10328</td>\n",
       "      <td>booked hotel hotwire lowest price could find. ...</td>\n",
       "      <td>Mozilla</td>\n",
       "      <td>Tablet</td>\n",
       "      <td>not happy</td>\n",
       "    </tr>\n",
       "    <tr>\n",
       "      <th>3</th>\n",
       "      <td>id10329</td>\n",
       "      <td>stayed husband sons way alaska cruise. loved h...</td>\n",
       "      <td>InternetExplorer</td>\n",
       "      <td>Desktop</td>\n",
       "      <td>happy</td>\n",
       "    </tr>\n",
       "    <tr>\n",
       "      <th>4</th>\n",
       "      <td>id10330</td>\n",
       "      <td>girlfriends stayed celebrate th birthdays. pla...</td>\n",
       "      <td>Edge</td>\n",
       "      <td>Tablet</td>\n",
       "      <td>not happy</td>\n",
       "    </tr>\n",
       "  </tbody>\n",
       "</table>\n",
       "</div>"
      ],
      "text/plain": [
       "   User_ID                                        Description  \\\n",
       "0  id10326  room kind clean strong smell dogs. generally a...   \n",
       "1  id10327  stayed crown plaza april april . staff friendl...   \n",
       "2  id10328  booked hotel hotwire lowest price could find. ...   \n",
       "3  id10329  stayed husband sons way alaska cruise. loved h...   \n",
       "4  id10330  girlfriends stayed celebrate th birthdays. pla...   \n",
       "\n",
       "        Browser_Used Device_Used Is_Response  \n",
       "0               Edge      Mobile   not happy  \n",
       "1  Internet Explorer      Mobile   not happy  \n",
       "2            Mozilla      Tablet   not happy  \n",
       "3   InternetExplorer     Desktop       happy  \n",
       "4               Edge      Tablet   not happy  "
      ]
     },
     "execution_count": 89,
     "metadata": {},
     "output_type": "execute_result"
    }
   ],
   "source": [
    "data.head()"
   ]
  },
  {
   "cell_type": "markdown",
   "metadata": {},
   "source": [
    "# Word2Vec"
   ]
  },
  {
   "cell_type": "code",
   "execution_count": 90,
   "metadata": {},
   "outputs": [],
   "source": [
    "tmp_corpus = data['Description'].map(lambda x: x.split('.'))"
   ]
  },
  {
   "cell_type": "code",
   "execution_count": 91,
   "metadata": {},
   "outputs": [
    {
     "name": "stderr",
     "output_type": "stream",
     "text": [
      "100%|█████████████████████████████████████████████████████████████████████████| 38932/38932 [00:02<00:00, 16362.06it/s]\n"
     ]
    }
   ],
   "source": [
    "# corpus [[w1,w2,w3..],[..]]\n",
    "corpus = []\n",
    "for i in tqdm(range(len(tmp_corpus))):\n",
    "    for line in tmp_corpus[i]:\n",
    "        words = [x for x in line.split()]\n",
    "        corpus.append(words)"
   ]
  },
  {
   "cell_type": "code",
   "execution_count": 92,
   "metadata": {},
   "outputs": [
    {
     "name": "stdout",
     "output_type": "stream",
     "text": [
      "Numero de frases - 444271\n",
      "Numero de palabras - 3111121\n"
     ]
    }
   ],
   "source": [
    "num_of_sentences = len(corpus)\n",
    "num_of_words = 0\n",
    "for line in corpus:\n",
    "    num_of_words += len(line)\n",
    "\n",
    "print('Numero de frases - %s'%(num_of_sentences))\n",
    "print('Numero de palabras - %s'%(num_of_words))"
   ]
  },
  {
   "cell_type": "markdown",
   "metadata": {},
   "source": [
    "Extrayendo frases del corpus Limitado por bigrama"
   ]
  },
  {
   "cell_type": "code",
   "execution_count": 95,
   "metadata": {
    "scrolled": true
   },
   "outputs": [
    {
     "name": "stderr",
     "output_type": "stream",
     "text": [
      "2020-09-25 22:05:24,429 : INFO : collecting all words and their counts\n",
      "2020-09-25 22:05:24,430 : INFO : PROGRESS: at sentence #0, processed 0 words and 0 word types\n",
      "2020-09-25 22:05:24,581 : INFO : PROGRESS: at sentence #10000, processed 70801 words and 55905 word types\n",
      "2020-09-25 22:05:24,726 : INFO : PROGRESS: at sentence #20000, processed 141274 words and 98827 word types\n",
      "2020-09-25 22:05:24,873 : INFO : PROGRESS: at sentence #30000, processed 212516 words and 137942 word types\n",
      "2020-09-25 22:05:25,022 : INFO : PROGRESS: at sentence #40000, processed 282042 words and 173306 word types\n",
      "2020-09-25 22:05:25,178 : INFO : PROGRESS: at sentence #50000, processed 351277 words and 206238 word types\n",
      "2020-09-25 22:05:25,317 : INFO : PROGRESS: at sentence #60000, processed 421236 words and 238626 word types\n",
      "2020-09-25 22:05:25,497 : INFO : PROGRESS: at sentence #70000, processed 491663 words and 270170 word types\n",
      "2020-09-25 22:05:25,649 : INFO : PROGRESS: at sentence #80000, processed 563363 words and 301134 word types\n",
      "2020-09-25 22:05:25,796 : INFO : PROGRESS: at sentence #90000, processed 632424 words and 329645 word types\n",
      "2020-09-25 22:05:25,982 : INFO : PROGRESS: at sentence #100000, processed 701322 words and 357247 word types\n",
      "2020-09-25 22:05:26,143 : INFO : PROGRESS: at sentence #110000, processed 771797 words and 384971 word types\n",
      "2020-09-25 22:05:26,314 : INFO : PROGRESS: at sentence #120000, processed 841968 words and 411336 word types\n",
      "2020-09-25 22:05:26,465 : INFO : PROGRESS: at sentence #130000, processed 911798 words and 437236 word types\n",
      "2020-09-25 22:05:26,628 : INFO : PROGRESS: at sentence #140000, processed 981259 words and 463070 word types\n",
      "2020-09-25 22:05:26,782 : INFO : PROGRESS: at sentence #150000, processed 1051377 words and 487966 word types\n",
      "2020-09-25 22:05:26,943 : INFO : PROGRESS: at sentence #160000, processed 1121048 words and 512366 word types\n",
      "2020-09-25 22:05:27,098 : INFO : PROGRESS: at sentence #170000, processed 1190603 words and 536565 word types\n",
      "2020-09-25 22:05:27,267 : INFO : PROGRESS: at sentence #180000, processed 1262158 words and 561564 word types\n",
      "2020-09-25 22:05:27,413 : INFO : PROGRESS: at sentence #190000, processed 1333229 words and 585559 word types\n",
      "2020-09-25 22:05:27,580 : INFO : PROGRESS: at sentence #200000, processed 1400838 words and 607301 word types\n",
      "2020-09-25 22:05:27,740 : INFO : PROGRESS: at sentence #210000, processed 1472074 words and 630496 word types\n",
      "2020-09-25 22:05:27,912 : INFO : PROGRESS: at sentence #220000, processed 1540938 words and 652697 word types\n",
      "2020-09-25 22:05:28,079 : INFO : PROGRESS: at sentence #230000, processed 1611243 words and 674667 word types\n",
      "2020-09-25 22:05:28,245 : INFO : PROGRESS: at sentence #240000, processed 1680573 words and 696182 word types\n",
      "2020-09-25 22:05:28,457 : INFO : PROGRESS: at sentence #250000, processed 1751906 words and 718355 word types\n",
      "2020-09-25 22:05:28,612 : INFO : PROGRESS: at sentence #260000, processed 1824412 words and 741600 word types\n",
      "2020-09-25 22:05:28,762 : INFO : PROGRESS: at sentence #270000, processed 1895296 words and 763035 word types\n",
      "2020-09-25 22:05:28,910 : INFO : PROGRESS: at sentence #280000, processed 1963989 words and 783818 word types\n",
      "2020-09-25 22:05:29,060 : INFO : PROGRESS: at sentence #290000, processed 2033170 words and 804316 word types\n",
      "2020-09-25 22:05:29,214 : INFO : PROGRESS: at sentence #300000, processed 2101031 words and 824124 word types\n",
      "2020-09-25 22:05:29,362 : INFO : PROGRESS: at sentence #310000, processed 2169839 words and 844477 word types\n",
      "2020-09-25 22:05:29,516 : INFO : PROGRESS: at sentence #320000, processed 2237865 words and 864110 word types\n",
      "2020-09-25 22:05:29,658 : INFO : PROGRESS: at sentence #330000, processed 2307637 words and 884143 word types\n",
      "2020-09-25 22:05:29,827 : INFO : PROGRESS: at sentence #340000, processed 2376912 words and 904075 word types\n",
      "2020-09-25 22:05:29,986 : INFO : PROGRESS: at sentence #350000, processed 2448877 words and 924355 word types\n",
      "2020-09-25 22:05:30,156 : INFO : PROGRESS: at sentence #360000, processed 2520343 words and 944141 word types\n",
      "2020-09-25 22:05:30,327 : INFO : PROGRESS: at sentence #370000, processed 2589871 words and 963486 word types\n",
      "2020-09-25 22:05:30,494 : INFO : PROGRESS: at sentence #380000, processed 2658891 words and 981972 word types\n",
      "2020-09-25 22:05:30,672 : INFO : PROGRESS: at sentence #390000, processed 2729534 words and 1001172 word types\n",
      "2020-09-25 22:05:30,820 : INFO : PROGRESS: at sentence #400000, processed 2800708 words and 1020788 word types\n",
      "2020-09-25 22:05:30,988 : INFO : PROGRESS: at sentence #410000, processed 2871167 words and 1039786 word types\n",
      "2020-09-25 22:05:31,135 : INFO : PROGRESS: at sentence #420000, processed 2942687 words and 1059235 word types\n",
      "2020-09-25 22:05:31,309 : INFO : PROGRESS: at sentence #430000, processed 3012383 words and 1077848 word types\n",
      "2020-09-25 22:05:31,473 : INFO : PROGRESS: at sentence #440000, processed 3080926 words and 1095525 word types\n",
      "2020-09-25 22:05:31,551 : INFO : collected 1103927 word types from a corpus of 3111121 words (unigram + bigrams) and 444271 sentences\n",
      "2020-09-25 22:05:31,551 : INFO : using 1103927 counts as vocab in Phrases<0 vocab, min_count=25, threshold=50, max_vocab_size=40000000>\n",
      "2020-09-25 22:05:31,607 : INFO : source_vocab length 1103927\n",
      "2020-09-25 22:05:43,665 : INFO : Phraser built with 761 phrasegrams\n"
     ]
    }
   ],
   "source": [
    "phrases = Phrases(sentences=corpus,min_count=25,threshold=50)\n",
    "bigram = Phraser(phrases)"
   ]
  },
  {
   "cell_type": "code",
   "execution_count": 96,
   "metadata": {},
   "outputs": [],
   "source": [
    "for index,sentence in enumerate(corpus):\n",
    "    corpus[index] = bigram[sentence]"
   ]
  },
  {
   "cell_type": "markdown",
   "metadata": {},
   "source": [
    "Entrenamiento de modelo con Gensim"
   ]
  },
  {
   "cell_type": "code",
   "execution_count": 99,
   "metadata": {
    "scrolled": true
   },
   "outputs": [
    {
     "name": "stderr",
     "output_type": "stream",
     "text": [
      "2020-09-25 22:19:25,690 : INFO : collecting all words and their counts\n",
      "2020-09-25 22:19:25,691 : INFO : PROGRESS: at sentence #0, processed 0 words, keeping 0 word types\n",
      "2020-09-25 22:19:25,721 : INFO : PROGRESS: at sentence #10000, processed 68251 words, keeping 8812 word types\n",
      "2020-09-25 22:19:25,748 : INFO : PROGRESS: at sentence #20000, processed 136136 words, keeping 12451 word types\n",
      "2020-09-25 22:19:25,771 : INFO : PROGRESS: at sentence #30000, processed 204641 words, keeping 15230 word types\n",
      "2020-09-25 22:19:25,795 : INFO : PROGRESS: at sentence #40000, processed 271576 words, keeping 17587 word types\n",
      "2020-09-25 22:19:25,818 : INFO : PROGRESS: at sentence #50000, processed 338157 words, keeping 19539 word types\n",
      "2020-09-25 22:19:25,845 : INFO : PROGRESS: at sentence #60000, processed 405603 words, keeping 21363 word types\n",
      "2020-09-25 22:19:25,870 : INFO : PROGRESS: at sentence #70000, processed 473392 words, keeping 23191 word types\n",
      "2020-09-25 22:19:25,900 : INFO : PROGRESS: at sentence #80000, processed 542497 words, keeping 24845 word types\n",
      "2020-09-25 22:19:25,924 : INFO : PROGRESS: at sentence #90000, processed 608985 words, keeping 26270 word types\n",
      "2020-09-25 22:19:25,948 : INFO : PROGRESS: at sentence #100000, processed 675304 words, keeping 27626 word types\n",
      "2020-09-25 22:19:25,973 : INFO : PROGRESS: at sentence #110000, processed 743073 words, keeping 29052 word types\n",
      "2020-09-25 22:19:26,001 : INFO : PROGRESS: at sentence #120000, processed 810694 words, keeping 30231 word types\n",
      "2020-09-25 22:19:26,030 : INFO : PROGRESS: at sentence #130000, processed 877962 words, keeping 31448 word types\n",
      "2020-09-25 22:19:26,060 : INFO : PROGRESS: at sentence #140000, processed 945001 words, keeping 32759 word types\n",
      "2020-09-25 22:19:26,087 : INFO : PROGRESS: at sentence #150000, processed 1012582 words, keeping 33903 word types\n",
      "2020-09-25 22:19:26,111 : INFO : PROGRESS: at sentence #160000, processed 1079600 words, keeping 35051 word types\n",
      "2020-09-25 22:19:26,139 : INFO : PROGRESS: at sentence #170000, processed 1146528 words, keeping 36143 word types\n",
      "2020-09-25 22:19:26,163 : INFO : PROGRESS: at sentence #180000, processed 1215466 words, keeping 37326 word types\n",
      "2020-09-25 22:19:26,191 : INFO : PROGRESS: at sentence #190000, processed 1283952 words, keeping 38431 word types\n",
      "2020-09-25 22:19:26,218 : INFO : PROGRESS: at sentence #200000, processed 1349036 words, keeping 39337 word types\n",
      "2020-09-25 22:19:26,250 : INFO : PROGRESS: at sentence #210000, processed 1417671 words, keeping 40366 word types\n",
      "2020-09-25 22:19:26,279 : INFO : PROGRESS: at sentence #220000, processed 1483959 words, keeping 41345 word types\n",
      "2020-09-25 22:19:26,305 : INFO : PROGRESS: at sentence #230000, processed 1551640 words, keeping 42329 word types\n",
      "2020-09-25 22:19:26,336 : INFO : PROGRESS: at sentence #240000, processed 1618320 words, keeping 43190 word types\n",
      "2020-09-25 22:19:26,363 : INFO : PROGRESS: at sentence #250000, processed 1687050 words, keeping 44114 word types\n",
      "2020-09-25 22:19:26,388 : INFO : PROGRESS: at sentence #260000, processed 1756920 words, keeping 45140 word types\n",
      "2020-09-25 22:19:26,418 : INFO : PROGRESS: at sentence #270000, processed 1825252 words, keeping 46057 word types\n",
      "2020-09-25 22:19:26,449 : INFO : PROGRESS: at sentence #280000, processed 1891376 words, keeping 46910 word types\n",
      "2020-09-25 22:19:26,476 : INFO : PROGRESS: at sentence #290000, processed 1957985 words, keeping 47775 word types\n",
      "2020-09-25 22:19:26,500 : INFO : PROGRESS: at sentence #300000, processed 2023346 words, keeping 48608 word types\n",
      "2020-09-25 22:19:26,525 : INFO : PROGRESS: at sentence #310000, processed 2089665 words, keeping 49507 word types\n",
      "2020-09-25 22:19:26,552 : INFO : PROGRESS: at sentence #320000, processed 2155219 words, keeping 50380 word types\n",
      "2020-09-25 22:19:26,582 : INFO : PROGRESS: at sentence #330000, processed 2222389 words, keeping 51197 word types\n",
      "2020-09-25 22:19:26,611 : INFO : PROGRESS: at sentence #340000, processed 2289095 words, keeping 52071 word types\n",
      "2020-09-25 22:19:26,637 : INFO : PROGRESS: at sentence #350000, processed 2358346 words, keeping 52889 word types\n",
      "2020-09-25 22:19:26,665 : INFO : PROGRESS: at sentence #360000, processed 2427133 words, keeping 53625 word types\n",
      "2020-09-25 22:19:26,688 : INFO : PROGRESS: at sentence #370000, processed 2494088 words, keeping 54468 word types\n",
      "2020-09-25 22:19:26,714 : INFO : PROGRESS: at sentence #380000, processed 2560576 words, keeping 55179 word types\n",
      "2020-09-25 22:19:26,742 : INFO : PROGRESS: at sentence #390000, processed 2628575 words, keeping 55922 word types\n",
      "2020-09-25 22:19:26,769 : INFO : PROGRESS: at sentence #400000, processed 2697075 words, keeping 56756 word types\n",
      "2020-09-25 22:19:26,794 : INFO : PROGRESS: at sentence #410000, processed 2764846 words, keeping 57527 word types\n",
      "2020-09-25 22:19:26,817 : INFO : PROGRESS: at sentence #420000, processed 2833711 words, keeping 58311 word types\n",
      "2020-09-25 22:19:26,850 : INFO : PROGRESS: at sentence #430000, processed 2900750 words, keeping 59023 word types\n",
      "2020-09-25 22:19:26,877 : INFO : PROGRESS: at sentence #440000, processed 2966718 words, keeping 59708 word types\n",
      "2020-09-25 22:19:26,892 : INFO : collected 60036 word types from a corpus of 2995867 raw words and 444271 sentences\n",
      "2020-09-25 22:19:26,893 : INFO : Loading a fresh vocabulary\n",
      "2020-09-25 22:19:27,663 : INFO : effective_min_count=2 retains 28072 unique words (46% of original 60036, drops 31964)\n",
      "2020-09-25 22:19:27,664 : INFO : effective_min_count=2 leaves 2963903 word corpus (98% of original 2995867, drops 31964)\n",
      "2020-09-25 22:19:27,765 : INFO : deleting the raw counts dictionary of 60036 items\n",
      "2020-09-25 22:19:27,768 : INFO : sample=0.01 downsamples 0 most-common words\n",
      "2020-09-25 22:19:27,768 : INFO : downsampling leaves estimated 2963903 word corpus (100.0% of prior 2963903)\n",
      "2020-09-25 22:19:27,878 : INFO : estimated required memory for 28072 words and 100 dimensions: 36493600 bytes\n",
      "2020-09-25 22:19:27,879 : INFO : resetting layer weights\n",
      "2020-09-25 22:19:34,106 : INFO : training model with 4 workers on 28072 vocabulary and 100 features, using sg=1 hs=0 sample=0.01 negative=5 window=2\n",
      "2020-09-25 22:19:35,126 : INFO : EPOCH 1 - PROGRESS: at 21.64% examples, 638282 words/s, in_qsize 8, out_qsize 0\n",
      "2020-09-25 22:19:36,143 : INFO : EPOCH 1 - PROGRESS: at 45.69% examples, 669333 words/s, in_qsize 8, out_qsize 0\n",
      "2020-09-25 22:19:37,156 : INFO : EPOCH 1 - PROGRESS: at 68.03% examples, 664520 words/s, in_qsize 8, out_qsize 0\n",
      "2020-09-25 22:19:38,187 : INFO : EPOCH 1 - PROGRESS: at 91.77% examples, 668627 words/s, in_qsize 8, out_qsize 1\n",
      "2020-09-25 22:19:38,466 : INFO : worker thread finished; awaiting finish of 3 more threads\n",
      "2020-09-25 22:19:38,479 : INFO : worker thread finished; awaiting finish of 2 more threads\n",
      "2020-09-25 22:19:38,481 : INFO : worker thread finished; awaiting finish of 1 more threads\n",
      "2020-09-25 22:19:38,486 : INFO : worker thread finished; awaiting finish of 0 more threads\n",
      "2020-09-25 22:19:38,487 : INFO : EPOCH - 1 : training on 2995867 raw words (2963903 effective words) took 4.4s, 678616 effective words/s\n",
      "2020-09-25 22:19:39,497 : INFO : EPOCH 2 - PROGRESS: at 24.65% examples, 724862 words/s, in_qsize 7, out_qsize 0\n",
      "2020-09-25 22:19:40,529 : INFO : EPOCH 2 - PROGRESS: at 48.36% examples, 706740 words/s, in_qsize 7, out_qsize 0\n",
      "2020-09-25 22:19:41,535 : INFO : EPOCH 2 - PROGRESS: at 70.46% examples, 687445 words/s, in_qsize 8, out_qsize 0\n",
      "2020-09-25 22:19:42,550 : INFO : EPOCH 2 - PROGRESS: at 95.35% examples, 698317 words/s, in_qsize 6, out_qsize 1\n",
      "2020-09-25 22:19:42,679 : INFO : worker thread finished; awaiting finish of 3 more threads\n",
      "2020-09-25 22:19:42,701 : INFO : worker thread finished; awaiting finish of 2 more threads\n",
      "2020-09-25 22:19:42,704 : INFO : worker thread finished; awaiting finish of 1 more threads\n",
      "2020-09-25 22:19:42,707 : INFO : worker thread finished; awaiting finish of 0 more threads\n",
      "2020-09-25 22:19:42,708 : INFO : EPOCH - 2 : training on 2995867 raw words (2963903 effective words) took 4.2s, 704390 effective words/s\n",
      "2020-09-25 22:19:43,721 : INFO : EPOCH 3 - PROGRESS: at 24.99% examples, 739886 words/s, in_qsize 7, out_qsize 0\n",
      "2020-09-25 22:19:44,737 : INFO : EPOCH 3 - PROGRESS: at 50.68% examples, 743098 words/s, in_qsize 8, out_qsize 0\n"
     ]
    },
    {
     "name": "stderr",
     "output_type": "stream",
     "text": [
      "2020-09-25 22:19:45,749 : INFO : EPOCH 3 - PROGRESS: at 77.50% examples, 757567 words/s, in_qsize 7, out_qsize 0\n",
      "2020-09-25 22:19:46,528 : INFO : worker thread finished; awaiting finish of 3 more threads\n",
      "2020-09-25 22:19:46,528 : INFO : worker thread finished; awaiting finish of 2 more threads\n",
      "2020-09-25 22:19:46,551 : INFO : worker thread finished; awaiting finish of 1 more threads\n",
      "2020-09-25 22:19:46,559 : INFO : worker thread finished; awaiting finish of 0 more threads\n",
      "2020-09-25 22:19:46,561 : INFO : EPOCH - 3 : training on 2995867 raw words (2963903 effective words) took 3.8s, 771744 effective words/s\n",
      "2020-09-25 22:19:47,572 : INFO : EPOCH 4 - PROGRESS: at 25.32% examples, 749299 words/s, in_qsize 7, out_qsize 0\n",
      "2020-09-25 22:19:48,581 : INFO : EPOCH 4 - PROGRESS: at 52.02% examples, 768789 words/s, in_qsize 7, out_qsize 0\n",
      "2020-09-25 22:19:49,595 : INFO : EPOCH 4 - PROGRESS: at 81.08% examples, 794960 words/s, in_qsize 7, out_qsize 0\n",
      "2020-09-25 22:19:50,270 : INFO : worker thread finished; awaiting finish of 3 more threads\n",
      "2020-09-25 22:19:50,288 : INFO : worker thread finished; awaiting finish of 2 more threads\n",
      "2020-09-25 22:19:50,295 : INFO : worker thread finished; awaiting finish of 1 more threads\n",
      "2020-09-25 22:19:50,300 : INFO : worker thread finished; awaiting finish of 0 more threads\n",
      "2020-09-25 22:19:50,301 : INFO : EPOCH - 4 : training on 2995867 raw words (2963903 effective words) took 3.7s, 795473 effective words/s\n",
      "2020-09-25 22:19:51,312 : INFO : EPOCH 5 - PROGRESS: at 27.32% examples, 809661 words/s, in_qsize 7, out_qsize 0\n",
      "2020-09-25 22:19:52,320 : INFO : EPOCH 5 - PROGRESS: at 53.68% examples, 791679 words/s, in_qsize 7, out_qsize 0\n",
      "2020-09-25 22:19:53,325 : INFO : EPOCH 5 - PROGRESS: at 80.44% examples, 790948 words/s, in_qsize 7, out_qsize 0\n",
      "2020-09-25 22:19:53,972 : INFO : worker thread finished; awaiting finish of 3 more threads\n",
      "2020-09-25 22:19:54,004 : INFO : worker thread finished; awaiting finish of 2 more threads\n",
      "2020-09-25 22:19:54,005 : INFO : worker thread finished; awaiting finish of 1 more threads\n",
      "2020-09-25 22:19:54,020 : INFO : worker thread finished; awaiting finish of 0 more threads\n",
      "2020-09-25 22:19:54,021 : INFO : EPOCH - 5 : training on 2995867 raw words (2963903 effective words) took 3.7s, 799092 effective words/s\n",
      "2020-09-25 22:19:55,036 : INFO : EPOCH 6 - PROGRESS: at 27.65% examples, 818378 words/s, in_qsize 7, out_qsize 0\n",
      "2020-09-25 22:19:56,033 : INFO : EPOCH 6 - PROGRESS: at 55.38% examples, 819422 words/s, in_qsize 7, out_qsize 0\n",
      "2020-09-25 22:19:57,041 : INFO : EPOCH 6 - PROGRESS: at 82.39% examples, 812128 words/s, in_qsize 7, out_qsize 0\n",
      "2020-09-25 22:19:57,643 : INFO : worker thread finished; awaiting finish of 3 more threads\n",
      "2020-09-25 22:19:57,655 : INFO : worker thread finished; awaiting finish of 2 more threads\n",
      "2020-09-25 22:19:57,667 : INFO : worker thread finished; awaiting finish of 1 more threads\n",
      "2020-09-25 22:19:57,670 : INFO : worker thread finished; awaiting finish of 0 more threads\n",
      "2020-09-25 22:19:57,672 : INFO : EPOCH - 6 : training on 2995867 raw words (2963903 effective words) took 3.6s, 814808 effective words/s\n",
      "2020-09-25 22:19:58,688 : INFO : EPOCH 7 - PROGRESS: at 25.65% examples, 759271 words/s, in_qsize 7, out_qsize 0\n",
      "2020-09-25 22:19:59,694 : INFO : EPOCH 7 - PROGRESS: at 47.68% examples, 703921 words/s, in_qsize 8, out_qsize 0\n",
      "2020-09-25 22:20:00,688 : INFO : EPOCH 7 - PROGRESS: at 70.46% examples, 693404 words/s, in_qsize 7, out_qsize 0\n",
      "2020-09-25 22:20:01,691 : INFO : EPOCH 7 - PROGRESS: at 93.05% examples, 687592 words/s, in_qsize 7, out_qsize 0\n",
      "2020-09-25 22:20:01,944 : INFO : worker thread finished; awaiting finish of 3 more threads\n",
      "2020-09-25 22:20:01,956 : INFO : worker thread finished; awaiting finish of 2 more threads\n",
      "2020-09-25 22:20:01,980 : INFO : worker thread finished; awaiting finish of 1 more threads\n",
      "2020-09-25 22:20:01,986 : INFO : worker thread finished; awaiting finish of 0 more threads\n",
      "2020-09-25 22:20:01,987 : INFO : EPOCH - 7 : training on 2995867 raw words (2963903 effective words) took 4.3s, 689020 effective words/s\n",
      "2020-09-25 22:20:02,999 : INFO : EPOCH 8 - PROGRESS: at 21.64% examples, 641194 words/s, in_qsize 6, out_qsize 0\n",
      "2020-09-25 22:20:04,019 : INFO : EPOCH 8 - PROGRESS: at 44.33% examples, 651004 words/s, in_qsize 7, out_qsize 0\n",
      "2020-09-25 22:20:05,034 : INFO : EPOCH 8 - PROGRESS: at 67.01% examples, 654729 words/s, in_qsize 7, out_qsize 0\n",
      "2020-09-25 22:20:06,060 : INFO : EPOCH 8 - PROGRESS: at 88.78% examples, 647549 words/s, in_qsize 6, out_qsize 1\n",
      "2020-09-25 22:20:06,544 : INFO : worker thread finished; awaiting finish of 3 more threads\n",
      "2020-09-25 22:20:06,554 : INFO : worker thread finished; awaiting finish of 2 more threads\n",
      "2020-09-25 22:20:06,564 : INFO : worker thread finished; awaiting finish of 1 more threads\n",
      "2020-09-25 22:20:06,586 : INFO : worker thread finished; awaiting finish of 0 more threads\n",
      "2020-09-25 22:20:06,587 : INFO : EPOCH - 8 : training on 2995867 raw words (2963903 effective words) took 4.6s, 645939 effective words/s\n",
      "2020-09-25 22:20:07,644 : INFO : EPOCH 9 - PROGRESS: at 18.58% examples, 530915 words/s, in_qsize 8, out_qsize 0\n",
      "2020-09-25 22:20:08,668 : INFO : EPOCH 9 - PROGRESS: at 38.71% examples, 555201 words/s, in_qsize 7, out_qsize 0\n",
      "2020-09-25 22:20:09,700 : INFO : EPOCH 9 - PROGRESS: at 63.60% examples, 609444 words/s, in_qsize 7, out_qsize 0\n",
      "2020-09-25 22:20:10,701 : INFO : EPOCH 9 - PROGRESS: at 87.78% examples, 634280 words/s, in_qsize 8, out_qsize 0\n",
      "2020-09-25 22:20:11,136 : INFO : worker thread finished; awaiting finish of 3 more threads\n",
      "2020-09-25 22:20:11,143 : INFO : worker thread finished; awaiting finish of 2 more threads\n",
      "2020-09-25 22:20:11,154 : INFO : worker thread finished; awaiting finish of 1 more threads\n",
      "2020-09-25 22:20:11,155 : INFO : worker thread finished; awaiting finish of 0 more threads\n",
      "2020-09-25 22:20:11,157 : INFO : EPOCH - 9 : training on 2995867 raw words (2963903 effective words) took 4.6s, 650715 effective words/s\n",
      "2020-09-25 22:20:12,174 : INFO : EPOCH 10 - PROGRESS: at 25.97% examples, 760243 words/s, in_qsize 7, out_qsize 0\n",
      "2020-09-25 22:20:13,183 : INFO : EPOCH 10 - PROGRESS: at 52.35% examples, 767065 words/s, in_qsize 7, out_qsize 0\n",
      "2020-09-25 22:20:14,198 : INFO : EPOCH 10 - PROGRESS: at 81.08% examples, 793048 words/s, in_qsize 7, out_qsize 0\n",
      "2020-09-25 22:20:14,812 : INFO : worker thread finished; awaiting finish of 3 more threads\n",
      "2020-09-25 22:20:14,838 : INFO : worker thread finished; awaiting finish of 2 more threads\n",
      "2020-09-25 22:20:14,844 : INFO : worker thread finished; awaiting finish of 1 more threads\n",
      "2020-09-25 22:20:14,845 : INFO : worker thread finished; awaiting finish of 0 more threads\n",
      "2020-09-25 22:20:14,846 : INFO : EPOCH - 10 : training on 2995867 raw words (2963903 effective words) took 3.7s, 805897 effective words/s\n",
      "2020-09-25 22:20:15,846 : INFO : EPOCH 11 - PROGRESS: at 26.29% examples, 780517 words/s, in_qsize 7, out_qsize 0\n",
      "2020-09-25 22:20:16,848 : INFO : EPOCH 11 - PROGRESS: at 53.03% examples, 785786 words/s, in_qsize 7, out_qsize 0\n",
      "2020-09-25 22:20:17,850 : INFO : EPOCH 11 - PROGRESS: at 79.78% examples, 787025 words/s, in_qsize 7, out_qsize 0\n",
      "2020-09-25 22:20:18,568 : INFO : worker thread finished; awaiting finish of 3 more threads\n",
      "2020-09-25 22:20:18,581 : INFO : worker thread finished; awaiting finish of 2 more threads\n",
      "2020-09-25 22:20:18,589 : INFO : worker thread finished; awaiting finish of 1 more threads\n",
      "2020-09-25 22:20:18,598 : INFO : worker thread finished; awaiting finish of 0 more threads\n",
      "2020-09-25 22:20:18,600 : INFO : EPOCH - 11 : training on 2995867 raw words (2963903 effective words) took 3.7s, 792586 effective words/s\n",
      "2020-09-25 22:20:19,617 : INFO : EPOCH 12 - PROGRESS: at 26.29% examples, 778707 words/s, in_qsize 8, out_qsize 1\n",
      "2020-09-25 22:20:20,622 : INFO : EPOCH 12 - PROGRESS: at 54.39% examples, 801535 words/s, in_qsize 7, out_qsize 0\n",
      "2020-09-25 22:20:21,629 : INFO : EPOCH 12 - PROGRESS: at 81.41% examples, 798783 words/s, in_qsize 7, out_qsize 0\n",
      "2020-09-25 22:20:22,273 : INFO : worker thread finished; awaiting finish of 3 more threads\n",
      "2020-09-25 22:20:22,288 : INFO : worker thread finished; awaiting finish of 2 more threads\n"
     ]
    },
    {
     "name": "stderr",
     "output_type": "stream",
     "text": [
      "2020-09-25 22:20:22,298 : INFO : worker thread finished; awaiting finish of 1 more threads\n",
      "2020-09-25 22:20:22,300 : INFO : worker thread finished; awaiting finish of 0 more threads\n",
      "2020-09-25 22:20:22,302 : INFO : EPOCH - 12 : training on 2995867 raw words (2963903 effective words) took 3.7s, 803698 effective words/s\n",
      "2020-09-25 22:20:23,331 : INFO : EPOCH 13 - PROGRESS: at 25.32% examples, 739978 words/s, in_qsize 8, out_qsize 0\n",
      "2020-09-25 22:20:24,331 : INFO : EPOCH 13 - PROGRESS: at 52.69% examples, 771642 words/s, in_qsize 7, out_qsize 0\n",
      "2020-09-25 22:20:25,352 : INFO : EPOCH 13 - PROGRESS: at 80.11% examples, 781405 words/s, in_qsize 8, out_qsize 0\n",
      "2020-09-25 22:20:26,019 : INFO : worker thread finished; awaiting finish of 3 more threads\n",
      "2020-09-25 22:20:26,047 : INFO : worker thread finished; awaiting finish of 2 more threads\n",
      "2020-09-25 22:20:26,053 : INFO : worker thread finished; awaiting finish of 1 more threads\n",
      "2020-09-25 22:20:26,062 : INFO : worker thread finished; awaiting finish of 0 more threads\n",
      "2020-09-25 22:20:26,064 : INFO : EPOCH - 13 : training on 2995867 raw words (2963903 effective words) took 3.7s, 790625 effective words/s\n",
      "2020-09-25 22:20:27,085 : INFO : EPOCH 14 - PROGRESS: at 25.97% examples, 761923 words/s, in_qsize 7, out_qsize 0\n",
      "2020-09-25 22:20:28,092 : INFO : EPOCH 14 - PROGRESS: at 52.36% examples, 768475 words/s, in_qsize 6, out_qsize 1\n",
      "2020-09-25 22:20:29,100 : INFO : EPOCH 14 - PROGRESS: at 79.13% examples, 774531 words/s, in_qsize 7, out_qsize 0\n",
      "2020-09-25 22:20:29,853 : INFO : worker thread finished; awaiting finish of 3 more threads\n",
      "2020-09-25 22:20:29,862 : INFO : worker thread finished; awaiting finish of 2 more threads\n",
      "2020-09-25 22:20:29,865 : INFO : worker thread finished; awaiting finish of 1 more threads\n",
      "2020-09-25 22:20:29,871 : INFO : worker thread finished; awaiting finish of 0 more threads\n",
      "2020-09-25 22:20:29,873 : INFO : EPOCH - 14 : training on 2995867 raw words (2963903 effective words) took 3.8s, 780820 effective words/s\n",
      "2020-09-25 22:20:30,892 : INFO : EPOCH 15 - PROGRESS: at 25.64% examples, 756432 words/s, in_qsize 7, out_qsize 0\n",
      "2020-09-25 22:20:31,895 : INFO : EPOCH 15 - PROGRESS: at 54.39% examples, 802486 words/s, in_qsize 7, out_qsize 0\n",
      "2020-09-25 22:20:32,895 : INFO : EPOCH 15 - PROGRESS: at 82.77% examples, 814504 words/s, in_qsize 8, out_qsize 0\n",
      "2020-09-25 22:20:33,473 : INFO : worker thread finished; awaiting finish of 3 more threads\n",
      "2020-09-25 22:20:33,488 : INFO : worker thread finished; awaiting finish of 2 more threads\n",
      "2020-09-25 22:20:33,498 : INFO : worker thread finished; awaiting finish of 1 more threads\n",
      "2020-09-25 22:20:33,504 : INFO : worker thread finished; awaiting finish of 0 more threads\n",
      "2020-09-25 22:20:33,505 : INFO : EPOCH - 15 : training on 2995867 raw words (2963903 effective words) took 3.6s, 818985 effective words/s\n",
      "2020-09-25 22:20:34,514 : INFO : EPOCH 16 - PROGRESS: at 27.32% examples, 810676 words/s, in_qsize 7, out_qsize 0\n",
      "2020-09-25 22:20:35,522 : INFO : EPOCH 16 - PROGRESS: at 54.39% examples, 802644 words/s, in_qsize 7, out_qsize 0\n",
      "2020-09-25 22:20:36,530 : INFO : EPOCH 16 - PROGRESS: at 81.08% examples, 796493 words/s, in_qsize 7, out_qsize 0\n",
      "2020-09-25 22:20:37,204 : INFO : worker thread finished; awaiting finish of 3 more threads\n",
      "2020-09-25 22:20:37,206 : INFO : worker thread finished; awaiting finish of 2 more threads\n",
      "2020-09-25 22:20:37,216 : INFO : worker thread finished; awaiting finish of 1 more threads\n",
      "2020-09-25 22:20:37,230 : INFO : worker thread finished; awaiting finish of 0 more threads\n",
      "2020-09-25 22:20:37,232 : INFO : EPOCH - 16 : training on 2995867 raw words (2963903 effective words) took 3.7s, 797956 effective words/s\n",
      "2020-09-25 22:20:38,266 : INFO : EPOCH 17 - PROGRESS: at 27.32% examples, 795130 words/s, in_qsize 7, out_qsize 0\n",
      "2020-09-25 22:20:39,278 : INFO : EPOCH 17 - PROGRESS: at 54.74% examples, 795859 words/s, in_qsize 8, out_qsize 0\n",
      "2020-09-25 22:20:40,280 : INFO : EPOCH 17 - PROGRESS: at 82.06% examples, 798923 words/s, in_qsize 7, out_qsize 0\n",
      "2020-09-25 22:20:40,928 : INFO : worker thread finished; awaiting finish of 3 more threads\n",
      "2020-09-25 22:20:40,947 : INFO : worker thread finished; awaiting finish of 2 more threads\n",
      "2020-09-25 22:20:40,949 : INFO : worker thread finished; awaiting finish of 1 more threads\n",
      "2020-09-25 22:20:40,955 : INFO : worker thread finished; awaiting finish of 0 more threads\n",
      "2020-09-25 22:20:40,956 : INFO : EPOCH - 17 : training on 2995867 raw words (2963903 effective words) took 3.7s, 798934 effective words/s\n",
      "2020-09-25 22:20:41,982 : INFO : EPOCH 18 - PROGRESS: at 27.65% examples, 810165 words/s, in_qsize 8, out_qsize 0\n",
      "2020-09-25 22:20:42,989 : INFO : EPOCH 18 - PROGRESS: at 55.05% examples, 806846 words/s, in_qsize 7, out_qsize 0\n",
      "2020-09-25 22:20:43,994 : INFO : EPOCH 18 - PROGRESS: at 81.73% examples, 800817 words/s, in_qsize 7, out_qsize 0\n",
      "2020-09-25 22:20:44,629 : INFO : worker thread finished; awaiting finish of 3 more threads\n",
      "2020-09-25 22:20:44,635 : INFO : worker thread finished; awaiting finish of 2 more threads\n",
      "2020-09-25 22:20:44,654 : INFO : worker thread finished; awaiting finish of 1 more threads\n",
      "2020-09-25 22:20:44,666 : INFO : worker thread finished; awaiting finish of 0 more threads\n",
      "2020-09-25 22:20:44,667 : INFO : EPOCH - 18 : training on 2995867 raw words (2963903 effective words) took 3.7s, 801533 effective words/s\n",
      "2020-09-25 22:20:45,681 : INFO : EPOCH 19 - PROGRESS: at 24.99% examples, 737174 words/s, in_qsize 7, out_qsize 0\n",
      "2020-09-25 22:20:46,683 : INFO : EPOCH 19 - PROGRESS: at 52.35% examples, 771948 words/s, in_qsize 7, out_qsize 0\n",
      "2020-09-25 22:20:47,694 : INFO : EPOCH 19 - PROGRESS: at 79.46% examples, 780767 words/s, in_qsize 7, out_qsize 0\n",
      "2020-09-25 22:20:48,401 : INFO : worker thread finished; awaiting finish of 3 more threads\n",
      "2020-09-25 22:20:48,419 : INFO : worker thread finished; awaiting finish of 2 more threads\n",
      "2020-09-25 22:20:48,439 : INFO : worker thread finished; awaiting finish of 1 more threads\n",
      "2020-09-25 22:20:48,446 : INFO : worker thread finished; awaiting finish of 0 more threads\n",
      "2020-09-25 22:20:48,447 : INFO : EPOCH - 19 : training on 2995867 raw words (2963903 effective words) took 3.8s, 786756 effective words/s\n",
      "2020-09-25 22:20:49,465 : INFO : EPOCH 20 - PROGRESS: at 25.65% examples, 756618 words/s, in_qsize 7, out_qsize 0\n",
      "2020-09-25 22:20:50,466 : INFO : EPOCH 20 - PROGRESS: at 52.01% examples, 768084 words/s, in_qsize 7, out_qsize 0\n",
      "2020-09-25 22:20:51,468 : INFO : EPOCH 20 - PROGRESS: at 78.46% examples, 772239 words/s, in_qsize 7, out_qsize 0\n",
      "2020-09-25 22:20:52,187 : INFO : worker thread finished; awaiting finish of 3 more threads\n",
      "2020-09-25 22:20:52,202 : INFO : worker thread finished; awaiting finish of 2 more threads\n",
      "2020-09-25 22:20:52,208 : INFO : worker thread finished; awaiting finish of 1 more threads\n",
      "2020-09-25 22:20:52,213 : INFO : worker thread finished; awaiting finish of 0 more threads\n",
      "2020-09-25 22:20:52,214 : INFO : EPOCH - 20 : training on 2995867 raw words (2963903 effective words) took 3.8s, 789222 effective words/s\n",
      "2020-09-25 22:20:53,225 : INFO : EPOCH 21 - PROGRESS: at 26.29% examples, 778408 words/s, in_qsize 7, out_qsize 0\n",
      "2020-09-25 22:20:54,240 : INFO : EPOCH 21 - PROGRESS: at 54.70% examples, 805484 words/s, in_qsize 7, out_qsize 0\n",
      "2020-09-25 22:20:55,265 : INFO : EPOCH 21 - PROGRESS: at 82.06% examples, 800793 words/s, in_qsize 7, out_qsize 0\n",
      "2020-09-25 22:20:55,881 : INFO : worker thread finished; awaiting finish of 3 more threads\n",
      "2020-09-25 22:20:55,881 : INFO : worker thread finished; awaiting finish of 2 more threads\n",
      "2020-09-25 22:20:55,894 : INFO : worker thread finished; awaiting finish of 1 more threads\n",
      "2020-09-25 22:20:55,894 : INFO : worker thread finished; awaiting finish of 0 more threads\n",
      "2020-09-25 22:20:55,904 : INFO : EPOCH - 21 : training on 2995867 raw words (2963903 effective words) took 3.7s, 805925 effective words/s\n",
      "2020-09-25 22:20:56,915 : INFO : EPOCH 22 - PROGRESS: at 26.65% examples, 786659 words/s, in_qsize 7, out_qsize 0\n",
      "2020-09-25 22:20:57,916 : INFO : EPOCH 22 - PROGRESS: at 53.68% examples, 793572 words/s, in_qsize 7, out_qsize 0\n",
      "2020-09-25 22:20:58,933 : INFO : EPOCH 22 - PROGRESS: at 81.73% examples, 803144 words/s, in_qsize 7, out_qsize 0\n"
     ]
    },
    {
     "name": "stderr",
     "output_type": "stream",
     "text": [
      "2020-09-25 22:20:59,572 : INFO : worker thread finished; awaiting finish of 3 more threads\n",
      "2020-09-25 22:20:59,585 : INFO : worker thread finished; awaiting finish of 2 more threads\n",
      "2020-09-25 22:20:59,603 : INFO : worker thread finished; awaiting finish of 1 more threads\n",
      "2020-09-25 22:20:59,605 : INFO : worker thread finished; awaiting finish of 0 more threads\n",
      "2020-09-25 22:20:59,606 : INFO : EPOCH - 22 : training on 2995867 raw words (2963903 effective words) took 3.7s, 803656 effective words/s\n",
      "2020-09-25 22:21:00,621 : INFO : EPOCH 23 - PROGRESS: at 24.02% examples, 708076 words/s, in_qsize 8, out_qsize 0\n",
      "2020-09-25 22:21:01,629 : INFO : EPOCH 23 - PROGRESS: at 48.01% examples, 708166 words/s, in_qsize 7, out_qsize 0\n",
      "2020-09-25 22:21:02,632 : INFO : EPOCH 23 - PROGRESS: at 72.15% examples, 708361 words/s, in_qsize 7, out_qsize 0\n",
      "2020-09-25 22:21:03,634 : INFO : EPOCH 23 - PROGRESS: at 96.03% examples, 709115 words/s, in_qsize 6, out_qsize 1\n",
      "2020-09-25 22:21:03,745 : INFO : worker thread finished; awaiting finish of 3 more threads\n",
      "2020-09-25 22:21:03,762 : INFO : worker thread finished; awaiting finish of 2 more threads\n",
      "2020-09-25 22:21:03,766 : INFO : worker thread finished; awaiting finish of 1 more threads\n",
      "2020-09-25 22:21:03,768 : INFO : worker thread finished; awaiting finish of 0 more threads\n",
      "2020-09-25 22:21:03,769 : INFO : EPOCH - 23 : training on 2995867 raw words (2963903 effective words) took 4.2s, 714011 effective words/s\n",
      "2020-09-25 22:21:04,793 : INFO : EPOCH 24 - PROGRESS: at 24.33% examples, 711402 words/s, in_qsize 7, out_qsize 0\n",
      "2020-09-25 22:21:05,797 : INFO : EPOCH 24 - PROGRESS: at 52.02% examples, 764863 words/s, in_qsize 7, out_qsize 0\n",
      "2020-09-25 22:21:06,802 : INFO : EPOCH 24 - PROGRESS: at 79.45% examples, 778027 words/s, in_qsize 7, out_qsize 0\n",
      "2020-09-25 22:21:07,537 : INFO : worker thread finished; awaiting finish of 3 more threads\n",
      "2020-09-25 22:21:07,549 : INFO : worker thread finished; awaiting finish of 2 more threads\n",
      "2020-09-25 22:21:07,552 : INFO : worker thread finished; awaiting finish of 1 more threads\n",
      "2020-09-25 22:21:07,555 : INFO : worker thread finished; awaiting finish of 0 more threads\n",
      "2020-09-25 22:21:07,556 : INFO : EPOCH - 24 : training on 2995867 raw words (2963903 effective words) took 3.8s, 785024 effective words/s\n",
      "2020-09-25 22:21:08,572 : INFO : EPOCH 25 - PROGRESS: at 24.99% examples, 740542 words/s, in_qsize 7, out_qsize 0\n",
      "2020-09-25 22:21:09,580 : INFO : EPOCH 25 - PROGRESS: at 53.68% examples, 792098 words/s, in_qsize 7, out_qsize 0\n",
      "2020-09-25 22:21:10,574 : INFO : EPOCH 25 - PROGRESS: at 81.09% examples, 795996 words/s, in_qsize 7, out_qsize 0\n",
      "2020-09-25 22:21:11,238 : INFO : worker thread finished; awaiting finish of 3 more threads\n",
      "2020-09-25 22:21:11,265 : INFO : worker thread finished; awaiting finish of 2 more threads\n",
      "2020-09-25 22:21:11,280 : INFO : worker thread finished; awaiting finish of 1 more threads\n",
      "2020-09-25 22:21:11,290 : INFO : worker thread finished; awaiting finish of 0 more threads\n",
      "2020-09-25 22:21:11,291 : INFO : EPOCH - 25 : training on 2995867 raw words (2963903 effective words) took 3.7s, 796516 effective words/s\n",
      "2020-09-25 22:21:12,308 : INFO : EPOCH 26 - PROGRESS: at 25.97% examples, 762108 words/s, in_qsize 7, out_qsize 0\n",
      "2020-09-25 22:21:13,310 : INFO : EPOCH 26 - PROGRESS: at 53.68% examples, 787985 words/s, in_qsize 7, out_qsize 0\n",
      "2020-09-25 22:21:14,312 : INFO : EPOCH 26 - PROGRESS: at 80.11% examples, 785143 words/s, in_qsize 7, out_qsize 0\n",
      "2020-09-25 22:21:15,069 : INFO : worker thread finished; awaiting finish of 3 more threads\n",
      "2020-09-25 22:21:15,094 : INFO : worker thread finished; awaiting finish of 2 more threads\n",
      "2020-09-25 22:21:15,100 : INFO : worker thread finished; awaiting finish of 1 more threads\n",
      "2020-09-25 22:21:15,104 : INFO : worker thread finished; awaiting finish of 0 more threads\n",
      "2020-09-25 22:21:15,105 : INFO : EPOCH - 26 : training on 2995867 raw words (2963903 effective words) took 3.8s, 779526 effective words/s\n",
      "2020-09-25 22:21:16,131 : INFO : EPOCH 27 - PROGRESS: at 22.30% examples, 654328 words/s, in_qsize 7, out_qsize 0\n",
      "2020-09-25 22:21:17,130 : INFO : EPOCH 27 - PROGRESS: at 48.69% examples, 716736 words/s, in_qsize 7, out_qsize 0\n",
      "2020-09-25 22:21:18,141 : INFO : EPOCH 27 - PROGRESS: at 74.84% examples, 732742 words/s, in_qsize 7, out_qsize 0\n",
      "2020-09-25 22:21:19,068 : INFO : worker thread finished; awaiting finish of 3 more threads\n",
      "2020-09-25 22:21:19,091 : INFO : worker thread finished; awaiting finish of 2 more threads\n",
      "2020-09-25 22:21:19,098 : INFO : worker thread finished; awaiting finish of 1 more threads\n",
      "2020-09-25 22:21:19,112 : INFO : worker thread finished; awaiting finish of 0 more threads\n",
      "2020-09-25 22:21:19,113 : INFO : EPOCH - 27 : training on 2995867 raw words (2963903 effective words) took 4.0s, 742062 effective words/s\n",
      "2020-09-25 22:21:20,133 : INFO : EPOCH 28 - PROGRESS: at 25.97% examples, 766185 words/s, in_qsize 7, out_qsize 0\n",
      "2020-09-25 22:21:21,153 : INFO : EPOCH 28 - PROGRESS: at 50.35% examples, 736666 words/s, in_qsize 8, out_qsize 1\n",
      "2020-09-25 22:21:22,170 : INFO : EPOCH 28 - PROGRESS: at 77.50% examples, 753844 words/s, in_qsize 8, out_qsize 0\n",
      "2020-09-25 22:21:23,021 : INFO : worker thread finished; awaiting finish of 3 more threads\n",
      "2020-09-25 22:21:23,031 : INFO : worker thread finished; awaiting finish of 2 more threads\n",
      "2020-09-25 22:21:23,053 : INFO : worker thread finished; awaiting finish of 1 more threads\n",
      "2020-09-25 22:21:23,057 : INFO : worker thread finished; awaiting finish of 0 more threads\n",
      "2020-09-25 22:21:23,058 : INFO : EPOCH - 28 : training on 2995867 raw words (2963903 effective words) took 3.9s, 753869 effective words/s\n",
      "2020-09-25 22:21:24,078 : INFO : EPOCH 29 - PROGRESS: at 25.32% examples, 745025 words/s, in_qsize 8, out_qsize 0\n",
      "2020-09-25 22:21:25,094 : INFO : EPOCH 29 - PROGRESS: at 52.35% examples, 767038 words/s, in_qsize 7, out_qsize 0\n",
      "2020-09-25 22:21:26,101 : INFO : EPOCH 29 - PROGRESS: at 78.14% examples, 763492 words/s, in_qsize 7, out_qsize 0\n",
      "2020-09-25 22:21:26,859 : INFO : worker thread finished; awaiting finish of 3 more threads\n",
      "2020-09-25 22:21:26,896 : INFO : worker thread finished; awaiting finish of 2 more threads\n",
      "2020-09-25 22:21:26,896 : INFO : worker thread finished; awaiting finish of 1 more threads\n",
      "2020-09-25 22:21:26,904 : INFO : worker thread finished; awaiting finish of 0 more threads\n",
      "2020-09-25 22:21:26,911 : INFO : EPOCH - 29 : training on 2995867 raw words (2963903 effective words) took 3.8s, 771733 effective words/s\n",
      "2020-09-25 22:21:27,913 : INFO : EPOCH 30 - PROGRESS: at 23.65% examples, 701217 words/s, in_qsize 7, out_qsize 0\n",
      "2020-09-25 22:21:28,938 : INFO : EPOCH 30 - PROGRESS: at 50.02% examples, 736637 words/s, in_qsize 7, out_qsize 0\n",
      "2020-09-25 22:21:29,942 : INFO : EPOCH 30 - PROGRESS: at 75.51% examples, 740365 words/s, in_qsize 7, out_qsize 0\n",
      "2020-09-25 22:21:30,873 : INFO : worker thread finished; awaiting finish of 3 more threads\n",
      "2020-09-25 22:21:30,873 : INFO : worker thread finished; awaiting finish of 2 more threads\n",
      "2020-09-25 22:21:30,902 : INFO : worker thread finished; awaiting finish of 1 more threads\n",
      "2020-09-25 22:21:30,910 : INFO : worker thread finished; awaiting finish of 0 more threads\n",
      "2020-09-25 22:21:30,911 : INFO : EPOCH - 30 : training on 2995867 raw words (2963903 effective words) took 4.0s, 743457 effective words/s\n",
      "2020-09-25 22:21:31,932 : INFO : EPOCH 31 - PROGRESS: at 25.97% examples, 765478 words/s, in_qsize 7, out_qsize 0\n",
      "2020-09-25 22:21:32,938 : INFO : EPOCH 31 - PROGRESS: at 52.69% examples, 775026 words/s, in_qsize 7, out_qsize 0\n",
      "2020-09-25 22:21:33,956 : INFO : EPOCH 31 - PROGRESS: at 79.46% examples, 776255 words/s, in_qsize 7, out_qsize 0\n",
      "2020-09-25 22:21:34,711 : INFO : worker thread finished; awaiting finish of 3 more threads\n",
      "2020-09-25 22:21:34,723 : INFO : worker thread finished; awaiting finish of 2 more threads\n",
      "2020-09-25 22:21:34,727 : INFO : worker thread finished; awaiting finish of 1 more threads\n",
      "2020-09-25 22:21:34,742 : INFO : worker thread finished; awaiting finish of 0 more threads\n",
      "2020-09-25 22:21:34,743 : INFO : EPOCH - 31 : training on 2995867 raw words (2963903 effective words) took 3.8s, 776165 effective words/s\n"
     ]
    },
    {
     "name": "stderr",
     "output_type": "stream",
     "text": [
      "2020-09-25 22:21:35,762 : INFO : EPOCH 32 - PROGRESS: at 25.32% examples, 746841 words/s, in_qsize 7, out_qsize 0\n",
      "2020-09-25 22:21:36,763 : INFO : EPOCH 32 - PROGRESS: at 52.02% examples, 764146 words/s, in_qsize 7, out_qsize 0\n",
      "2020-09-25 22:21:37,798 : INFO : EPOCH 32 - PROGRESS: at 78.14% examples, 760532 words/s, in_qsize 8, out_qsize 0\n",
      "2020-09-25 22:21:38,626 : INFO : worker thread finished; awaiting finish of 3 more threads\n",
      "2020-09-25 22:21:38,657 : INFO : worker thread finished; awaiting finish of 2 more threads\n",
      "2020-09-25 22:21:38,659 : INFO : worker thread finished; awaiting finish of 1 more threads\n",
      "2020-09-25 22:21:38,672 : INFO : worker thread finished; awaiting finish of 0 more threads\n",
      "2020-09-25 22:21:38,674 : INFO : EPOCH - 32 : training on 2995867 raw words (2963903 effective words) took 3.9s, 756523 effective words/s\n",
      "2020-09-25 22:21:39,698 : INFO : EPOCH 33 - PROGRESS: at 24.65% examples, 723683 words/s, in_qsize 7, out_qsize 0\n",
      "2020-09-25 22:21:40,696 : INFO : EPOCH 33 - PROGRESS: at 51.01% examples, 750953 words/s, in_qsize 7, out_qsize 0\n",
      "2020-09-25 22:21:41,717 : INFO : EPOCH 33 - PROGRESS: at 77.18% examples, 753636 words/s, in_qsize 7, out_qsize 0\n",
      "2020-09-25 22:21:42,495 : INFO : worker thread finished; awaiting finish of 3 more threads\n",
      "2020-09-25 22:21:42,520 : INFO : worker thread finished; awaiting finish of 2 more threads\n",
      "2020-09-25 22:21:42,523 : INFO : worker thread finished; awaiting finish of 1 more threads\n",
      "2020-09-25 22:21:42,527 : INFO : worker thread finished; awaiting finish of 0 more threads\n",
      "2020-09-25 22:21:42,529 : INFO : EPOCH - 33 : training on 2995867 raw words (2963903 effective words) took 3.8s, 771437 effective words/s\n",
      "2020-09-25 22:21:43,535 : INFO : EPOCH 34 - PROGRESS: at 26.29% examples, 778440 words/s, in_qsize 7, out_qsize 0\n",
      "2020-09-25 22:21:44,545 : INFO : EPOCH 34 - PROGRESS: at 53.35% examples, 789489 words/s, in_qsize 8, out_qsize 0\n",
      "2020-09-25 22:21:45,550 : INFO : EPOCH 34 - PROGRESS: at 79.13% examples, 778744 words/s, in_qsize 7, out_qsize 0\n",
      "2020-09-25 22:21:46,293 : INFO : worker thread finished; awaiting finish of 3 more threads\n",
      "2020-09-25 22:21:46,304 : INFO : worker thread finished; awaiting finish of 2 more threads\n",
      "2020-09-25 22:21:46,309 : INFO : worker thread finished; awaiting finish of 1 more threads\n",
      "2020-09-25 22:21:46,313 : INFO : worker thread finished; awaiting finish of 0 more threads\n",
      "2020-09-25 22:21:46,315 : INFO : EPOCH - 34 : training on 2995867 raw words (2963903 effective words) took 3.8s, 785504 effective words/s\n",
      "2020-09-25 22:21:47,340 : INFO : EPOCH 35 - PROGRESS: at 25.65% examples, 748288 words/s, in_qsize 7, out_qsize 0\n",
      "2020-09-25 22:21:48,348 : INFO : EPOCH 35 - PROGRESS: at 52.69% examples, 773488 words/s, in_qsize 8, out_qsize 0\n",
      "2020-09-25 22:21:49,367 : INFO : EPOCH 35 - PROGRESS: at 78.14% examples, 761508 words/s, in_qsize 8, out_qsize 1\n",
      "2020-09-25 22:21:50,144 : INFO : worker thread finished; awaiting finish of 3 more threads\n",
      "2020-09-25 22:21:50,172 : INFO : worker thread finished; awaiting finish of 2 more threads\n",
      "2020-09-25 22:21:50,176 : INFO : worker thread finished; awaiting finish of 1 more threads\n",
      "2020-09-25 22:21:50,181 : INFO : worker thread finished; awaiting finish of 0 more threads\n",
      "2020-09-25 22:21:50,182 : INFO : EPOCH - 35 : training on 2995867 raw words (2963903 effective words) took 3.9s, 769115 effective words/s\n",
      "2020-09-25 22:21:51,199 : INFO : EPOCH 36 - PROGRESS: at 24.02% examples, 709481 words/s, in_qsize 7, out_qsize 0\n",
      "2020-09-25 22:21:52,212 : INFO : EPOCH 36 - PROGRESS: at 48.36% examples, 711014 words/s, in_qsize 8, out_qsize 1\n",
      "2020-09-25 22:21:53,213 : INFO : EPOCH 36 - PROGRESS: at 75.83% examples, 741599 words/s, in_qsize 7, out_qsize 0\n",
      "2020-09-25 22:21:54,042 : INFO : worker thread finished; awaiting finish of 3 more threads\n",
      "2020-09-25 22:21:54,044 : INFO : worker thread finished; awaiting finish of 2 more threads\n",
      "2020-09-25 22:21:54,052 : INFO : worker thread finished; awaiting finish of 1 more threads\n",
      "2020-09-25 22:21:54,067 : INFO : worker thread finished; awaiting finish of 0 more threads\n",
      "2020-09-25 22:21:54,068 : INFO : EPOCH - 36 : training on 2995867 raw words (2963903 effective words) took 3.9s, 765234 effective words/s\n",
      "2020-09-25 22:21:55,091 : INFO : EPOCH 37 - PROGRESS: at 25.97% examples, 763002 words/s, in_qsize 7, out_qsize 0\n",
      "2020-09-25 22:21:56,088 : INFO : EPOCH 37 - PROGRESS: at 52.35% examples, 771038 words/s, in_qsize 7, out_qsize 0\n",
      "2020-09-25 22:21:57,095 : INFO : EPOCH 37 - PROGRESS: at 79.45% examples, 780915 words/s, in_qsize 7, out_qsize 0\n",
      "2020-09-25 22:21:57,830 : INFO : worker thread finished; awaiting finish of 3 more threads\n",
      "2020-09-25 22:21:57,857 : INFO : worker thread finished; awaiting finish of 2 more threads\n",
      "2020-09-25 22:21:57,870 : INFO : worker thread finished; awaiting finish of 1 more threads\n",
      "2020-09-25 22:21:57,876 : INFO : worker thread finished; awaiting finish of 0 more threads\n",
      "2020-09-25 22:21:57,877 : INFO : EPOCH - 37 : training on 2995867 raw words (2963903 effective words) took 3.8s, 781024 effective words/s\n",
      "2020-09-25 22:21:58,891 : INFO : EPOCH 38 - PROGRESS: at 24.33% examples, 720596 words/s, in_qsize 8, out_qsize 0\n",
      "2020-09-25 22:21:59,892 : INFO : EPOCH 38 - PROGRESS: at 50.35% examples, 742466 words/s, in_qsize 8, out_qsize 0\n",
      "2020-09-25 22:22:00,897 : INFO : EPOCH 38 - PROGRESS: at 74.16% examples, 728583 words/s, in_qsize 8, out_qsize 0\n",
      "2020-09-25 22:22:01,904 : INFO : EPOCH 38 - PROGRESS: at 98.75% examples, 728989 words/s, in_qsize 4, out_qsize 0\n",
      "2020-09-25 22:22:01,909 : INFO : worker thread finished; awaiting finish of 3 more threads\n",
      "2020-09-25 22:22:01,915 : INFO : worker thread finished; awaiting finish of 2 more threads\n",
      "2020-09-25 22:22:01,931 : INFO : worker thread finished; awaiting finish of 1 more threads\n",
      "2020-09-25 22:22:01,942 : INFO : worker thread finished; awaiting finish of 0 more threads\n",
      "2020-09-25 22:22:01,944 : INFO : EPOCH - 38 : training on 2995867 raw words (2963903 effective words) took 4.1s, 731085 effective words/s\n",
      "2020-09-25 22:22:02,975 : INFO : EPOCH 39 - PROGRESS: at 22.64% examples, 658956 words/s, in_qsize 8, out_qsize 0\n",
      "2020-09-25 22:22:03,979 : INFO : EPOCH 39 - PROGRESS: at 45.36% examples, 664608 words/s, in_qsize 7, out_qsize 0\n",
      "2020-09-25 22:22:04,978 : INFO : EPOCH 39 - PROGRESS: at 69.06% examples, 675665 words/s, in_qsize 7, out_qsize 1\n",
      "2020-09-25 22:22:06,016 : INFO : EPOCH 39 - PROGRESS: at 95.35% examples, 695818 words/s, in_qsize 7, out_qsize 0\n",
      "2020-09-25 22:22:06,137 : INFO : worker thread finished; awaiting finish of 3 more threads\n",
      "2020-09-25 22:22:06,158 : INFO : worker thread finished; awaiting finish of 2 more threads\n",
      "2020-09-25 22:22:06,163 : INFO : worker thread finished; awaiting finish of 1 more threads\n",
      "2020-09-25 22:22:06,164 : INFO : worker thread finished; awaiting finish of 0 more threads\n",
      "2020-09-25 22:22:06,165 : INFO : EPOCH - 39 : training on 2995867 raw words (2963903 effective words) took 4.2s, 704071 effective words/s\n",
      "2020-09-25 22:22:07,182 : INFO : EPOCH 40 - PROGRESS: at 26.62% examples, 784858 words/s, in_qsize 7, out_qsize 0\n",
      "2020-09-25 22:22:08,189 : INFO : EPOCH 40 - PROGRESS: at 52.35% examples, 769131 words/s, in_qsize 7, out_qsize 0\n",
      "2020-09-25 22:22:09,199 : INFO : EPOCH 40 - PROGRESS: at 78.79% examples, 771763 words/s, in_qsize 7, out_qsize 0\n",
      "2020-09-25 22:22:09,946 : INFO : worker thread finished; awaiting finish of 3 more threads\n",
      "2020-09-25 22:22:09,964 : INFO : worker thread finished; awaiting finish of 2 more threads\n",
      "2020-09-25 22:22:09,974 : INFO : worker thread finished; awaiting finish of 1 more threads\n",
      "2020-09-25 22:22:09,976 : INFO : worker thread finished; awaiting finish of 0 more threads\n",
      "2020-09-25 22:22:09,976 : INFO : EPOCH - 40 : training on 2995867 raw words (2963903 effective words) took 3.8s, 779725 effective words/s\n",
      "2020-09-25 22:22:10,972 : INFO : EPOCH 41 - PROGRESS: at 25.97% examples, 770415 words/s, in_qsize 7, out_qsize 0\n",
      "2020-09-25 22:22:11,996 : INFO : EPOCH 41 - PROGRESS: at 52.69% examples, 775402 words/s, in_qsize 7, out_qsize 0\n",
      "2020-09-25 22:22:12,997 : INFO : EPOCH 41 - PROGRESS: at 78.46% examples, 768498 words/s, in_qsize 7, out_qsize 0\n",
      "2020-09-25 22:22:13,746 : INFO : worker thread finished; awaiting finish of 3 more threads\n"
     ]
    },
    {
     "name": "stderr",
     "output_type": "stream",
     "text": [
      "2020-09-25 22:22:13,779 : INFO : worker thread finished; awaiting finish of 2 more threads\n",
      "2020-09-25 22:22:13,784 : INFO : worker thread finished; awaiting finish of 1 more threads\n",
      "2020-09-25 22:22:13,786 : INFO : worker thread finished; awaiting finish of 0 more threads\n",
      "2020-09-25 22:22:13,787 : INFO : EPOCH - 41 : training on 2995867 raw words (2963903 effective words) took 3.8s, 778806 effective words/s\n",
      "2020-09-25 22:22:14,801 : INFO : EPOCH 42 - PROGRESS: at 24.99% examples, 737290 words/s, in_qsize 7, out_qsize 0\n",
      "2020-09-25 22:22:15,809 : INFO : EPOCH 42 - PROGRESS: at 52.69% examples, 777488 words/s, in_qsize 7, out_qsize 0\n",
      "2020-09-25 22:22:16,815 : INFO : EPOCH 42 - PROGRESS: at 79.13% examples, 777121 words/s, in_qsize 7, out_qsize 0\n",
      "2020-09-25 22:22:17,560 : INFO : worker thread finished; awaiting finish of 3 more threads\n",
      "2020-09-25 22:22:17,573 : INFO : worker thread finished; awaiting finish of 2 more threads\n",
      "2020-09-25 22:22:17,583 : INFO : worker thread finished; awaiting finish of 1 more threads\n",
      "2020-09-25 22:22:17,586 : INFO : worker thread finished; awaiting finish of 0 more threads\n",
      "2020-09-25 22:22:17,587 : INFO : EPOCH - 42 : training on 2995867 raw words (2963903 effective words) took 3.8s, 782474 effective words/s\n",
      "2020-09-25 22:22:18,600 : INFO : EPOCH 43 - PROGRESS: at 26.29% examples, 780783 words/s, in_qsize 7, out_qsize 0\n",
      "2020-09-25 22:22:19,602 : INFO : EPOCH 43 - PROGRESS: at 51.68% examples, 765461 words/s, in_qsize 7, out_qsize 0\n",
      "2020-09-25 22:22:20,614 : INFO : EPOCH 43 - PROGRESS: at 77.83% examples, 764233 words/s, in_qsize 8, out_qsize 0\n",
      "2020-09-25 22:22:21,434 : INFO : worker thread finished; awaiting finish of 3 more threads\n",
      "2020-09-25 22:22:21,436 : INFO : worker thread finished; awaiting finish of 2 more threads\n",
      "2020-09-25 22:22:21,453 : INFO : worker thread finished; awaiting finish of 1 more threads\n",
      "2020-09-25 22:22:21,460 : INFO : worker thread finished; awaiting finish of 0 more threads\n",
      "2020-09-25 22:22:21,462 : INFO : EPOCH - 43 : training on 2995867 raw words (2963903 effective words) took 3.9s, 767406 effective words/s\n",
      "2020-09-25 22:22:22,488 : INFO : EPOCH 44 - PROGRESS: at 24.99% examples, 733266 words/s, in_qsize 8, out_qsize 1\n",
      "2020-09-25 22:22:23,504 : INFO : EPOCH 44 - PROGRESS: at 50.02% examples, 731571 words/s, in_qsize 7, out_qsize 0\n",
      "2020-09-25 22:22:24,497 : INFO : EPOCH 44 - PROGRESS: at 75.83% examples, 740125 words/s, in_qsize 7, out_qsize 0\n",
      "2020-09-25 22:22:25,462 : INFO : worker thread finished; awaiting finish of 3 more threads\n",
      "2020-09-25 22:22:25,474 : INFO : worker thread finished; awaiting finish of 2 more threads\n",
      "2020-09-25 22:22:25,492 : INFO : worker thread finished; awaiting finish of 1 more threads\n",
      "2020-09-25 22:22:25,497 : INFO : worker thread finished; awaiting finish of 0 more threads\n",
      "2020-09-25 22:22:25,498 : INFO : EPOCH - 44 : training on 2995867 raw words (2963903 effective words) took 4.0s, 737007 effective words/s\n",
      "2020-09-25 22:22:26,513 : INFO : EPOCH 45 - PROGRESS: at 25.97% examples, 769410 words/s, in_qsize 7, out_qsize 0\n",
      "2020-09-25 22:22:27,519 : INFO : EPOCH 45 - PROGRESS: at 51.01% examples, 753476 words/s, in_qsize 8, out_qsize 0\n",
      "2020-09-25 22:22:28,520 : INFO : EPOCH 45 - PROGRESS: at 76.85% examples, 753431 words/s, in_qsize 7, out_qsize 0\n",
      "2020-09-25 22:22:29,368 : INFO : worker thread finished; awaiting finish of 3 more threads\n",
      "2020-09-25 22:22:29,390 : INFO : worker thread finished; awaiting finish of 2 more threads\n",
      "2020-09-25 22:22:29,398 : INFO : worker thread finished; awaiting finish of 1 more threads\n",
      "2020-09-25 22:22:29,400 : INFO : worker thread finished; awaiting finish of 0 more threads\n",
      "2020-09-25 22:22:29,401 : INFO : EPOCH - 45 : training on 2995867 raw words (2963903 effective words) took 3.9s, 761924 effective words/s\n",
      "2020-09-25 22:22:30,420 : INFO : EPOCH 46 - PROGRESS: at 24.02% examples, 706263 words/s, in_qsize 7, out_qsize 0\n",
      "2020-09-25 22:22:31,422 : INFO : EPOCH 46 - PROGRESS: at 49.37% examples, 728311 words/s, in_qsize 7, out_qsize 0\n",
      "2020-09-25 22:22:32,425 : INFO : EPOCH 46 - PROGRESS: at 75.83% examples, 745039 words/s, in_qsize 7, out_qsize 0\n",
      "2020-09-25 22:22:33,361 : INFO : worker thread finished; awaiting finish of 3 more threads\n",
      "2020-09-25 22:22:33,361 : INFO : worker thread finished; awaiting finish of 2 more threads\n",
      "2020-09-25 22:22:33,382 : INFO : worker thread finished; awaiting finish of 1 more threads\n",
      "2020-09-25 22:22:33,383 : INFO : worker thread finished; awaiting finish of 0 more threads\n",
      "2020-09-25 22:22:33,384 : INFO : EPOCH - 46 : training on 2995867 raw words (2963903 effective words) took 4.0s, 746364 effective words/s\n",
      "2020-09-25 22:22:34,441 : INFO : EPOCH 47 - PROGRESS: at 25.97% examples, 739462 words/s, in_qsize 5, out_qsize 2\n",
      "2020-09-25 22:22:35,447 : INFO : EPOCH 47 - PROGRESS: at 52.01% examples, 752800 words/s, in_qsize 7, out_qsize 0\n",
      "2020-09-25 22:22:36,450 : INFO : EPOCH 47 - PROGRESS: at 78.14% examples, 757998 words/s, in_qsize 7, out_qsize 0\n",
      "2020-09-25 22:22:37,250 : INFO : worker thread finished; awaiting finish of 3 more threads\n",
      "2020-09-25 22:22:37,250 : INFO : worker thread finished; awaiting finish of 2 more threads\n",
      "2020-09-25 22:22:37,267 : INFO : worker thread finished; awaiting finish of 1 more threads\n",
      "2020-09-25 22:22:37,279 : INFO : worker thread finished; awaiting finish of 0 more threads\n",
      "2020-09-25 22:22:37,280 : INFO : EPOCH - 47 : training on 2995867 raw words (2963903 effective words) took 3.9s, 763554 effective words/s\n",
      "2020-09-25 22:22:38,295 : INFO : EPOCH 48 - PROGRESS: at 21.64% examples, 641606 words/s, in_qsize 7, out_qsize 0\n",
      "2020-09-25 22:22:39,310 : INFO : EPOCH 48 - PROGRESS: at 46.00% examples, 676706 words/s, in_qsize 8, out_qsize 0\n",
      "2020-09-25 22:22:40,315 : INFO : EPOCH 48 - PROGRESS: at 72.48% examples, 709798 words/s, in_qsize 7, out_qsize 0\n",
      "2020-09-25 22:22:41,317 : INFO : EPOCH 48 - PROGRESS: at 95.03% examples, 699547 words/s, in_qsize 7, out_qsize 0\n",
      "2020-09-25 22:22:41,483 : INFO : worker thread finished; awaiting finish of 3 more threads\n",
      "2020-09-25 22:22:41,495 : INFO : worker thread finished; awaiting finish of 2 more threads\n",
      "2020-09-25 22:22:41,503 : INFO : worker thread finished; awaiting finish of 1 more threads\n",
      "2020-09-25 22:22:41,516 : INFO : worker thread finished; awaiting finish of 0 more threads\n",
      "2020-09-25 22:22:41,517 : INFO : EPOCH - 48 : training on 2995867 raw words (2963903 effective words) took 4.2s, 701779 effective words/s\n",
      "2020-09-25 22:22:42,519 : INFO : EPOCH 49 - PROGRESS: at 24.02% examples, 711404 words/s, in_qsize 7, out_qsize 0\n",
      "2020-09-25 22:22:43,534 : INFO : EPOCH 49 - PROGRESS: at 49.36% examples, 727704 words/s, in_qsize 7, out_qsize 0\n",
      "2020-09-25 22:22:44,545 : INFO : EPOCH 49 - PROGRESS: at 76.16% examples, 746277 words/s, in_qsize 7, out_qsize 0\n",
      "2020-09-25 22:22:45,409 : INFO : worker thread finished; awaiting finish of 3 more threads\n",
      "2020-09-25 22:22:45,409 : INFO : worker thread finished; awaiting finish of 2 more threads\n",
      "2020-09-25 22:22:45,419 : INFO : worker thread finished; awaiting finish of 1 more threads\n",
      "2020-09-25 22:22:45,419 : INFO : worker thread finished; awaiting finish of 0 more threads\n",
      "2020-09-25 22:22:45,419 : INFO : EPOCH - 49 : training on 2995867 raw words (2963903 effective words) took 3.9s, 761589 effective words/s\n",
      "2020-09-25 22:22:46,464 : INFO : EPOCH 50 - PROGRESS: at 26.62% examples, 773792 words/s, in_qsize 7, out_qsize 0\n",
      "2020-09-25 22:22:47,466 : INFO : EPOCH 50 - PROGRESS: at 54.70% examples, 799255 words/s, in_qsize 7, out_qsize 0\n",
      "2020-09-25 22:22:48,483 : INFO : EPOCH 50 - PROGRESS: at 82.77% examples, 806160 words/s, in_qsize 7, out_qsize 0\n",
      "2020-09-25 22:22:49,053 : INFO : worker thread finished; awaiting finish of 3 more threads\n",
      "2020-09-25 22:22:49,053 : INFO : worker thread finished; awaiting finish of 2 more threads\n",
      "2020-09-25 22:22:49,086 : INFO : worker thread finished; awaiting finish of 1 more threads\n",
      "2020-09-25 22:22:49,097 : INFO : worker thread finished; awaiting finish of 0 more threads\n",
      "2020-09-25 22:22:49,098 : INFO : EPOCH - 50 : training on 2995867 raw words (2963903 effective words) took 3.7s, 810757 effective words/s\n",
      "2020-09-25 22:22:50,111 : INFO : EPOCH 51 - PROGRESS: at 26.98% examples, 798546 words/s, in_qsize 7, out_qsize 0\n"
     ]
    },
    {
     "name": "stderr",
     "output_type": "stream",
     "text": [
      "2020-09-25 22:22:51,120 : INFO : EPOCH 51 - PROGRESS: at 53.35% examples, 784064 words/s, in_qsize 7, out_qsize 0\n",
      "2020-09-25 22:22:52,115 : INFO : EPOCH 51 - PROGRESS: at 79.45% examples, 778998 words/s, in_qsize 7, out_qsize 0\n",
      "2020-09-25 22:22:52,890 : INFO : worker thread finished; awaiting finish of 3 more threads\n",
      "2020-09-25 22:22:52,904 : INFO : worker thread finished; awaiting finish of 2 more threads\n",
      "2020-09-25 22:22:52,918 : INFO : worker thread finished; awaiting finish of 1 more threads\n",
      "2020-09-25 22:22:52,920 : INFO : worker thread finished; awaiting finish of 0 more threads\n",
      "2020-09-25 22:22:52,922 : INFO : EPOCH - 51 : training on 2995867 raw words (2963903 effective words) took 3.8s, 777355 effective words/s\n",
      "2020-09-25 22:22:53,938 : INFO : EPOCH 52 - PROGRESS: at 26.62% examples, 787890 words/s, in_qsize 7, out_qsize 0\n",
      "2020-09-25 22:22:54,953 : INFO : EPOCH 52 - PROGRESS: at 52.02% examples, 764328 words/s, in_qsize 8, out_qsize 0\n",
      "2020-09-25 22:22:55,964 : INFO : EPOCH 52 - PROGRESS: at 79.45% examples, 776934 words/s, in_qsize 8, out_qsize 0\n",
      "2020-09-25 22:22:56,704 : INFO : worker thread finished; awaiting finish of 3 more threads\n",
      "2020-09-25 22:22:56,732 : INFO : worker thread finished; awaiting finish of 2 more threads\n",
      "2020-09-25 22:22:56,736 : INFO : worker thread finished; awaiting finish of 1 more threads\n",
      "2020-09-25 22:22:56,737 : INFO : worker thread finished; awaiting finish of 0 more threads\n",
      "2020-09-25 22:22:56,738 : INFO : EPOCH - 52 : training on 2995867 raw words (2963903 effective words) took 3.8s, 779300 effective words/s\n",
      "2020-09-25 22:22:57,742 : INFO : EPOCH 53 - PROGRESS: at 25.32% examples, 747936 words/s, in_qsize 7, out_qsize 0\n",
      "2020-09-25 22:22:58,760 : INFO : EPOCH 53 - PROGRESS: at 51.01% examples, 753340 words/s, in_qsize 7, out_qsize 0\n",
      "2020-09-25 22:22:59,760 : INFO : EPOCH 53 - PROGRESS: at 77.83% examples, 765423 words/s, in_qsize 7, out_qsize 0\n",
      "2020-09-25 22:23:00,647 : INFO : worker thread finished; awaiting finish of 3 more threads\n",
      "2020-09-25 22:23:00,659 : INFO : worker thread finished; awaiting finish of 2 more threads\n",
      "2020-09-25 22:23:00,683 : INFO : worker thread finished; awaiting finish of 1 more threads\n",
      "2020-09-25 22:23:00,685 : INFO : worker thread finished; awaiting finish of 0 more threads\n",
      "2020-09-25 22:23:00,686 : INFO : EPOCH - 53 : training on 2995867 raw words (2963903 effective words) took 3.9s, 753193 effective words/s\n",
      "2020-09-25 22:23:01,706 : INFO : EPOCH 54 - PROGRESS: at 22.64% examples, 668628 words/s, in_qsize 8, out_qsize 0\n",
      "2020-09-25 22:23:02,715 : INFO : EPOCH 54 - PROGRESS: at 45.36% examples, 667595 words/s, in_qsize 7, out_qsize 0\n",
      "2020-09-25 22:23:03,731 : INFO : EPOCH 54 - PROGRESS: at 70.46% examples, 688366 words/s, in_qsize 7, out_qsize 0\n",
      "2020-09-25 22:23:04,741 : INFO : EPOCH 54 - PROGRESS: at 94.69% examples, 694544 words/s, in_qsize 7, out_qsize 0\n",
      "2020-09-25 22:23:04,890 : INFO : worker thread finished; awaiting finish of 3 more threads\n",
      "2020-09-25 22:23:04,904 : INFO : worker thread finished; awaiting finish of 2 more threads\n",
      "2020-09-25 22:23:04,911 : INFO : worker thread finished; awaiting finish of 1 more threads\n",
      "2020-09-25 22:23:04,924 : INFO : worker thread finished; awaiting finish of 0 more threads\n",
      "2020-09-25 22:23:04,926 : INFO : EPOCH - 54 : training on 2995867 raw words (2963903 effective words) took 4.2s, 701521 effective words/s\n",
      "2020-09-25 22:23:05,947 : INFO : EPOCH 55 - PROGRESS: at 23.65% examples, 695799 words/s, in_qsize 6, out_qsize 1\n",
      "2020-09-25 22:23:06,941 : INFO : EPOCH 55 - PROGRESS: at 49.04% examples, 720671 words/s, in_qsize 7, out_qsize 0\n",
      "2020-09-25 22:23:07,963 : INFO : EPOCH 55 - PROGRESS: at 72.48% examples, 709220 words/s, in_qsize 7, out_qsize 0\n",
      "2020-09-25 22:23:08,969 : INFO : EPOCH 55 - PROGRESS: at 95.68% examples, 703920 words/s, in_qsize 7, out_qsize 0\n",
      "2020-09-25 22:23:09,095 : INFO : worker thread finished; awaiting finish of 3 more threads\n",
      "2020-09-25 22:23:09,116 : INFO : worker thread finished; awaiting finish of 2 more threads\n",
      "2020-09-25 22:23:09,118 : INFO : worker thread finished; awaiting finish of 1 more threads\n",
      "2020-09-25 22:23:09,121 : INFO : worker thread finished; awaiting finish of 0 more threads\n",
      "2020-09-25 22:23:09,122 : INFO : EPOCH - 55 : training on 2995867 raw words (2963903 effective words) took 4.2s, 708326 effective words/s\n",
      "2020-09-25 22:23:10,137 : INFO : EPOCH 56 - PROGRESS: at 23.65% examples, 700203 words/s, in_qsize 7, out_qsize 0\n",
      "2020-09-25 22:23:11,142 : INFO : EPOCH 56 - PROGRESS: at 47.65% examples, 704312 words/s, in_qsize 7, out_qsize 0\n",
      "2020-09-25 22:23:12,147 : INFO : EPOCH 56 - PROGRESS: at 73.81% examples, 721795 words/s, in_qsize 7, out_qsize 0\n",
      "2020-09-25 22:23:13,111 : INFO : worker thread finished; awaiting finish of 3 more threads\n",
      "2020-09-25 22:23:13,130 : INFO : worker thread finished; awaiting finish of 2 more threads\n",
      "2020-09-25 22:23:13,144 : INFO : worker thread finished; awaiting finish of 1 more threads\n",
      "2020-09-25 22:23:13,147 : INFO : worker thread finished; awaiting finish of 0 more threads\n",
      "2020-09-25 22:23:13,148 : INFO : EPOCH - 56 : training on 2995867 raw words (2963903 effective words) took 4.0s, 738554 effective words/s\n",
      "2020-09-25 22:23:14,166 : INFO : EPOCH 57 - PROGRESS: at 24.98% examples, 732200 words/s, in_qsize 7, out_qsize 0\n",
      "2020-09-25 22:23:15,176 : INFO : EPOCH 57 - PROGRESS: at 51.68% examples, 760105 words/s, in_qsize 7, out_qsize 0\n",
      "2020-09-25 22:23:16,214 : INFO : EPOCH 57 - PROGRESS: at 74.49% examples, 721782 words/s, in_qsize 6, out_qsize 1\n",
      "2020-09-25 22:23:17,221 : INFO : EPOCH 57 - PROGRESS: at 96.71% examples, 705929 words/s, in_qsize 8, out_qsize 0\n",
      "2020-09-25 22:23:17,295 : INFO : worker thread finished; awaiting finish of 3 more threads\n",
      "2020-09-25 22:23:17,324 : INFO : worker thread finished; awaiting finish of 2 more threads\n",
      "2020-09-25 22:23:17,326 : INFO : worker thread finished; awaiting finish of 1 more threads\n",
      "2020-09-25 22:23:17,339 : INFO : worker thread finished; awaiting finish of 0 more threads\n",
      "2020-09-25 22:23:17,340 : INFO : EPOCH - 57 : training on 2995867 raw words (2963903 effective words) took 4.2s, 708980 effective words/s\n",
      "2020-09-25 22:23:18,362 : INFO : EPOCH 58 - PROGRESS: at 21.97% examples, 645158 words/s, in_qsize 8, out_qsize 1\n",
      "2020-09-25 22:23:19,366 : INFO : EPOCH 58 - PROGRESS: at 47.32% examples, 694043 words/s, in_qsize 7, out_qsize 0\n",
      "2020-09-25 22:23:20,373 : INFO : EPOCH 58 - PROGRESS: at 73.12% examples, 715609 words/s, in_qsize 7, out_qsize 0\n",
      "2020-09-25 22:23:21,372 : INFO : worker thread finished; awaiting finish of 3 more threads\n",
      "2020-09-25 22:23:21,383 : INFO : EPOCH 58 - PROGRESS: at 99.42% examples, 730721 words/s, in_qsize 2, out_qsize 1\n",
      "2020-09-25 22:23:21,385 : INFO : worker thread finished; awaiting finish of 2 more threads\n",
      "2020-09-25 22:23:21,405 : INFO : worker thread finished; awaiting finish of 1 more threads\n",
      "2020-09-25 22:23:21,407 : INFO : worker thread finished; awaiting finish of 0 more threads\n",
      "2020-09-25 22:23:21,407 : INFO : EPOCH - 58 : training on 2995867 raw words (2963903 effective words) took 4.1s, 730666 effective words/s\n",
      "2020-09-25 22:23:22,433 : INFO : EPOCH 59 - PROGRESS: at 25.32% examples, 742278 words/s, in_qsize 8, out_qsize 0\n",
      "2020-09-25 22:23:23,443 : INFO : EPOCH 59 - PROGRESS: at 50.67% examples, 743127 words/s, in_qsize 7, out_qsize 0\n",
      "2020-09-25 22:23:24,455 : INFO : EPOCH 59 - PROGRESS: at 76.85% examples, 749385 words/s, in_qsize 7, out_qsize 0\n",
      "2020-09-25 22:23:25,309 : INFO : worker thread finished; awaiting finish of 3 more threads\n",
      "2020-09-25 22:23:25,316 : INFO : worker thread finished; awaiting finish of 2 more threads\n",
      "2020-09-25 22:23:25,329 : INFO : worker thread finished; awaiting finish of 1 more threads\n",
      "2020-09-25 22:23:25,340 : INFO : worker thread finished; awaiting finish of 0 more threads\n",
      "2020-09-25 22:23:25,342 : INFO : EPOCH - 59 : training on 2995867 raw words (2963903 effective words) took 3.9s, 755789 effective words/s\n",
      "2020-09-25 22:23:26,360 : INFO : EPOCH 60 - PROGRESS: at 26.29% examples, 773399 words/s, in_qsize 7, out_qsize 0\n",
      "2020-09-25 22:23:27,373 : INFO : EPOCH 60 - PROGRESS: at 54.04% examples, 793977 words/s, in_qsize 7, out_qsize 0\n",
      "2020-09-25 22:23:28,376 : INFO : EPOCH 60 - PROGRESS: at 79.78% examples, 782357 words/s, in_qsize 7, out_qsize 0\n"
     ]
    },
    {
     "name": "stderr",
     "output_type": "stream",
     "text": [
      "2020-09-25 22:23:29,123 : INFO : worker thread finished; awaiting finish of 3 more threads\n",
      "2020-09-25 22:23:29,123 : INFO : worker thread finished; awaiting finish of 2 more threads\n",
      "2020-09-25 22:23:29,138 : INFO : worker thread finished; awaiting finish of 1 more threads\n",
      "2020-09-25 22:23:29,150 : INFO : worker thread finished; awaiting finish of 0 more threads\n",
      "2020-09-25 22:23:29,151 : INFO : EPOCH - 60 : training on 2995867 raw words (2963903 effective words) took 3.8s, 780718 effective words/s\n",
      "2020-09-25 22:23:30,195 : INFO : EPOCH 61 - PROGRESS: at 24.65% examples, 708962 words/s, in_qsize 6, out_qsize 1\n",
      "2020-09-25 22:23:31,230 : INFO : EPOCH 61 - PROGRESS: at 51.02% examples, 732026 words/s, in_qsize 6, out_qsize 1\n",
      "2020-09-25 22:23:32,232 : INFO : EPOCH 61 - PROGRESS: at 75.17% examples, 724791 words/s, in_qsize 7, out_qsize 0\n",
      "2020-09-25 22:23:33,143 : INFO : worker thread finished; awaiting finish of 3 more threads\n",
      "2020-09-25 22:23:33,143 : INFO : worker thread finished; awaiting finish of 2 more threads\n",
      "2020-09-25 22:23:33,178 : INFO : worker thread finished; awaiting finish of 1 more threads\n",
      "2020-09-25 22:23:33,183 : INFO : worker thread finished; awaiting finish of 0 more threads\n",
      "2020-09-25 22:23:33,186 : INFO : EPOCH - 61 : training on 2995867 raw words (2963903 effective words) took 4.0s, 736922 effective words/s\n",
      "2020-09-25 22:23:34,207 : INFO : EPOCH 62 - PROGRESS: at 25.32% examples, 745612 words/s, in_qsize 8, out_qsize 0\n",
      "2020-09-25 22:23:35,215 : INFO : EPOCH 62 - PROGRESS: at 51.34% examples, 753030 words/s, in_qsize 7, out_qsize 0\n",
      "2020-09-25 22:23:36,230 : INFO : EPOCH 62 - PROGRESS: at 76.84% examples, 750154 words/s, in_qsize 8, out_qsize 1\n",
      "2020-09-25 22:23:37,132 : INFO : worker thread finished; awaiting finish of 3 more threads\n",
      "2020-09-25 22:23:37,148 : INFO : worker thread finished; awaiting finish of 2 more threads\n",
      "2020-09-25 22:23:37,158 : INFO : worker thread finished; awaiting finish of 1 more threads\n",
      "2020-09-25 22:23:37,163 : INFO : worker thread finished; awaiting finish of 0 more threads\n",
      "2020-09-25 22:23:37,164 : INFO : EPOCH - 62 : training on 2995867 raw words (2963903 effective words) took 4.0s, 747584 effective words/s\n",
      "2020-09-25 22:23:38,189 : INFO : EPOCH 63 - PROGRESS: at 25.97% examples, 750775 words/s, in_qsize 7, out_qsize 0\n",
      "2020-09-25 22:23:39,206 : INFO : EPOCH 63 - PROGRESS: at 51.34% examples, 750248 words/s, in_qsize 7, out_qsize 0\n",
      "2020-09-25 22:23:40,207 : INFO : EPOCH 63 - PROGRESS: at 78.14% examples, 763288 words/s, in_qsize 8, out_qsize 0\n",
      "2020-09-25 22:23:41,046 : INFO : worker thread finished; awaiting finish of 3 more threads\n",
      "2020-09-25 22:23:41,079 : INFO : worker thread finished; awaiting finish of 2 more threads\n",
      "2020-09-25 22:23:41,084 : INFO : worker thread finished; awaiting finish of 1 more threads\n",
      "2020-09-25 22:23:41,086 : INFO : worker thread finished; awaiting finish of 0 more threads\n",
      "2020-09-25 22:23:41,088 : INFO : EPOCH - 63 : training on 2995867 raw words (2963903 effective words) took 3.9s, 757803 effective words/s\n",
      "2020-09-25 22:23:42,103 : INFO : EPOCH 64 - PROGRESS: at 21.97% examples, 650974 words/s, in_qsize 7, out_qsize 0\n",
      "2020-09-25 22:23:43,119 : INFO : EPOCH 64 - PROGRESS: at 44.67% examples, 656356 words/s, in_qsize 8, out_qsize 0\n",
      "2020-09-25 22:23:44,132 : INFO : EPOCH 64 - PROGRESS: at 69.75% examples, 681633 words/s, in_qsize 8, out_qsize 0\n",
      "2020-09-25 22:23:45,133 : INFO : EPOCH 64 - PROGRESS: at 94.03% examples, 691346 words/s, in_qsize 8, out_qsize 0\n",
      "2020-09-25 22:23:45,336 : INFO : worker thread finished; awaiting finish of 3 more threads\n",
      "2020-09-25 22:23:45,351 : INFO : worker thread finished; awaiting finish of 2 more threads\n",
      "2020-09-25 22:23:45,359 : INFO : worker thread finished; awaiting finish of 1 more threads\n",
      "2020-09-25 22:23:45,366 : INFO : worker thread finished; awaiting finish of 0 more threads\n",
      "2020-09-25 22:23:45,368 : INFO : EPOCH - 64 : training on 2995867 raw words (2963903 effective words) took 4.3s, 694526 effective words/s\n",
      "2020-09-25 22:23:46,388 : INFO : EPOCH 65 - PROGRESS: at 21.97% examples, 647813 words/s, in_qsize 7, out_qsize 0\n",
      "2020-09-25 22:23:47,390 : INFO : EPOCH 65 - PROGRESS: at 48.01% examples, 708115 words/s, in_qsize 7, out_qsize 0\n",
      "2020-09-25 22:23:48,399 : INFO : EPOCH 65 - PROGRESS: at 73.81% examples, 723696 words/s, in_qsize 7, out_qsize 0\n",
      "2020-09-25 22:23:49,343 : INFO : worker thread finished; awaiting finish of 3 more threads\n",
      "2020-09-25 22:23:49,359 : INFO : worker thread finished; awaiting finish of 2 more threads\n",
      "2020-09-25 22:23:49,377 : INFO : worker thread finished; awaiting finish of 1 more threads\n",
      "2020-09-25 22:23:49,382 : INFO : worker thread finished; awaiting finish of 0 more threads\n",
      "2020-09-25 22:23:49,383 : INFO : EPOCH - 65 : training on 2995867 raw words (2963903 effective words) took 4.0s, 740404 effective words/s\n",
      "2020-09-25 22:23:50,417 : INFO : EPOCH 66 - PROGRESS: at 27.32% examples, 794475 words/s, in_qsize 6, out_qsize 1\n",
      "2020-09-25 22:23:51,419 : INFO : EPOCH 66 - PROGRESS: at 55.05% examples, 807110 words/s, in_qsize 7, out_qsize 0\n",
      "2020-09-25 22:23:52,415 : INFO : EPOCH 66 - PROGRESS: at 82.06% examples, 803773 words/s, in_qsize 7, out_qsize 0\n",
      "2020-09-25 22:23:53,048 : INFO : worker thread finished; awaiting finish of 3 more threads\n",
      "2020-09-25 22:23:53,048 : INFO : worker thread finished; awaiting finish of 2 more threads\n",
      "2020-09-25 22:23:53,084 : INFO : worker thread finished; awaiting finish of 1 more threads\n",
      "2020-09-25 22:23:53,088 : INFO : worker thread finished; awaiting finish of 0 more threads\n",
      "2020-09-25 22:23:53,089 : INFO : EPOCH - 66 : training on 2995867 raw words (2963903 effective words) took 3.7s, 802729 effective words/s\n",
      "2020-09-25 22:23:54,097 : INFO : EPOCH 67 - PROGRESS: at 24.65% examples, 731153 words/s, in_qsize 7, out_qsize 0\n",
      "2020-09-25 22:23:55,099 : INFO : EPOCH 67 - PROGRESS: at 47.65% examples, 704398 words/s, in_qsize 7, out_qsize 0\n",
      "2020-09-25 22:23:56,122 : INFO : EPOCH 67 - PROGRESS: at 73.14% examples, 717250 words/s, in_qsize 7, out_qsize 0\n",
      "2020-09-25 22:23:57,133 : INFO : EPOCH 67 - PROGRESS: at 96.69% examples, 711515 words/s, in_qsize 6, out_qsize 1\n",
      "2020-09-25 22:23:57,197 : INFO : worker thread finished; awaiting finish of 3 more threads\n",
      "2020-09-25 22:23:57,234 : INFO : worker thread finished; awaiting finish of 2 more threads\n",
      "2020-09-25 22:23:57,240 : INFO : worker thread finished; awaiting finish of 1 more threads\n",
      "2020-09-25 22:23:57,244 : INFO : worker thread finished; awaiting finish of 0 more threads\n",
      "2020-09-25 22:23:57,246 : INFO : EPOCH - 67 : training on 2995867 raw words (2963903 effective words) took 4.1s, 715434 effective words/s\n",
      "2020-09-25 22:23:58,294 : INFO : EPOCH 68 - PROGRESS: at 24.65% examples, 705721 words/s, in_qsize 8, out_qsize 0\n",
      "2020-09-25 22:23:59,310 : INFO : EPOCH 68 - PROGRESS: at 52.35% examples, 752851 words/s, in_qsize 7, out_qsize 0\n",
      "2020-09-25 22:24:00,329 : INFO : EPOCH 68 - PROGRESS: at 78.79% examples, 759535 words/s, in_qsize 7, out_qsize 0\n",
      "2020-09-25 22:24:01,134 : INFO : worker thread finished; awaiting finish of 3 more threads\n",
      "2020-09-25 22:24:01,134 : INFO : worker thread finished; awaiting finish of 2 more threads\n",
      "2020-09-25 22:24:01,165 : INFO : worker thread finished; awaiting finish of 1 more threads\n",
      "2020-09-25 22:24:01,172 : INFO : worker thread finished; awaiting finish of 0 more threads\n",
      "2020-09-25 22:24:01,173 : INFO : EPOCH - 68 : training on 2995867 raw words (2963903 effective words) took 3.9s, 756846 effective words/s\n",
      "2020-09-25 22:24:02,200 : INFO : EPOCH 69 - PROGRESS: at 24.33% examples, 712150 words/s, in_qsize 7, out_qsize 0\n",
      "2020-09-25 22:24:03,203 : INFO : EPOCH 69 - PROGRESS: at 49.37% examples, 725580 words/s, in_qsize 8, out_qsize 0\n",
      "2020-09-25 22:24:04,202 : INFO : EPOCH 69 - PROGRESS: at 74.16% examples, 726773 words/s, in_qsize 7, out_qsize 0\n",
      "2020-09-25 22:24:05,190 : INFO : worker thread finished; awaiting finish of 3 more threads\n",
      "2020-09-25 22:24:05,210 : INFO : EPOCH 69 - PROGRESS: at 99.42% examples, 732281 words/s, in_qsize 2, out_qsize 1\n",
      "2020-09-25 22:24:05,211 : INFO : worker thread finished; awaiting finish of 2 more threads\n",
      "2020-09-25 22:24:05,227 : INFO : worker thread finished; awaiting finish of 1 more threads\n"
     ]
    },
    {
     "name": "stderr",
     "output_type": "stream",
     "text": [
      "2020-09-25 22:24:05,229 : INFO : worker thread finished; awaiting finish of 0 more threads\n",
      "2020-09-25 22:24:05,231 : INFO : EPOCH - 69 : training on 2995867 raw words (2963903 effective words) took 4.0s, 732813 effective words/s\n",
      "2020-09-25 22:24:06,251 : INFO : EPOCH 70 - PROGRESS: at 26.62% examples, 784828 words/s, in_qsize 8, out_qsize 0\n",
      "2020-09-25 22:24:07,258 : INFO : EPOCH 70 - PROGRESS: at 53.03% examples, 777782 words/s, in_qsize 7, out_qsize 0\n",
      "2020-09-25 22:24:08,277 : INFO : EPOCH 70 - PROGRESS: at 80.44% examples, 785309 words/s, in_qsize 7, out_qsize 0\n",
      "2020-09-25 22:24:08,947 : INFO : worker thread finished; awaiting finish of 3 more threads\n",
      "2020-09-25 22:24:08,974 : INFO : worker thread finished; awaiting finish of 2 more threads\n",
      "2020-09-25 22:24:08,975 : INFO : worker thread finished; awaiting finish of 1 more threads\n",
      "2020-09-25 22:24:08,976 : INFO : worker thread finished; awaiting finish of 0 more threads\n",
      "2020-09-25 22:24:08,977 : INFO : EPOCH - 70 : training on 2995867 raw words (2963903 effective words) took 3.7s, 793805 effective words/s\n",
      "2020-09-25 22:24:10,014 : INFO : EPOCH 71 - PROGRESS: at 26.29% examples, 761629 words/s, in_qsize 8, out_qsize 0\n",
      "2020-09-25 22:24:11,019 : INFO : EPOCH 71 - PROGRESS: at 53.02% examples, 774519 words/s, in_qsize 7, out_qsize 0\n",
      "2020-09-25 22:24:12,021 : INFO : EPOCH 71 - PROGRESS: at 78.79% examples, 767696 words/s, in_qsize 8, out_qsize 1\n",
      "2020-09-25 22:24:12,746 : INFO : worker thread finished; awaiting finish of 3 more threads\n",
      "2020-09-25 22:24:12,772 : INFO : worker thread finished; awaiting finish of 2 more threads\n",
      "2020-09-25 22:24:12,773 : INFO : worker thread finished; awaiting finish of 1 more threads\n",
      "2020-09-25 22:24:12,776 : INFO : worker thread finished; awaiting finish of 0 more threads\n",
      "2020-09-25 22:24:12,778 : INFO : EPOCH - 71 : training on 2995867 raw words (2963903 effective words) took 3.8s, 782215 effective words/s\n",
      "2020-09-25 22:24:13,793 : INFO : EPOCH 72 - PROGRESS: at 25.32% examples, 744068 words/s, in_qsize 7, out_qsize 0\n",
      "2020-09-25 22:24:14,810 : INFO : EPOCH 72 - PROGRESS: at 53.03% examples, 775893 words/s, in_qsize 8, out_qsize 0\n",
      "2020-09-25 22:24:15,838 : INFO : EPOCH 72 - PROGRESS: at 81.73% examples, 795073 words/s, in_qsize 7, out_qsize 0\n",
      "2020-09-25 22:24:16,465 : INFO : worker thread finished; awaiting finish of 3 more threads\n",
      "2020-09-25 22:24:16,465 : INFO : worker thread finished; awaiting finish of 2 more threads\n",
      "2020-09-25 22:24:16,487 : INFO : worker thread finished; awaiting finish of 1 more threads\n",
      "2020-09-25 22:24:16,496 : INFO : worker thread finished; awaiting finish of 0 more threads\n",
      "2020-09-25 22:24:16,497 : INFO : EPOCH - 72 : training on 2995867 raw words (2963903 effective words) took 3.7s, 799702 effective words/s\n",
      "2020-09-25 22:24:17,513 : INFO : EPOCH 73 - PROGRESS: at 25.97% examples, 761544 words/s, in_qsize 7, out_qsize 0\n",
      "2020-09-25 22:24:18,533 : INFO : EPOCH 73 - PROGRESS: at 53.35% examples, 782964 words/s, in_qsize 7, out_qsize 0\n",
      "2020-09-25 22:24:19,536 : INFO : EPOCH 73 - PROGRESS: at 81.08% examples, 794135 words/s, in_qsize 7, out_qsize 0\n",
      "2020-09-25 22:24:20,143 : INFO : worker thread finished; awaiting finish of 3 more threads\n",
      "2020-09-25 22:24:20,154 : INFO : worker thread finished; awaiting finish of 2 more threads\n",
      "2020-09-25 22:24:20,160 : INFO : worker thread finished; awaiting finish of 1 more threads\n",
      "2020-09-25 22:24:20,165 : INFO : worker thread finished; awaiting finish of 0 more threads\n",
      "2020-09-25 22:24:20,166 : INFO : EPOCH - 73 : training on 2995867 raw words (2963903 effective words) took 3.7s, 811039 effective words/s\n",
      "2020-09-25 22:24:21,175 : INFO : EPOCH 74 - PROGRESS: at 24.99% examples, 737310 words/s, in_qsize 8, out_qsize 0\n",
      "2020-09-25 22:24:22,187 : INFO : EPOCH 74 - PROGRESS: at 51.34% examples, 755765 words/s, in_qsize 7, out_qsize 0\n",
      "2020-09-25 22:24:23,211 : INFO : EPOCH 74 - PROGRESS: at 78.15% examples, 762976 words/s, in_qsize 7, out_qsize 0\n",
      "2020-09-25 22:24:23,956 : INFO : worker thread finished; awaiting finish of 3 more threads\n",
      "2020-09-25 22:24:23,976 : INFO : worker thread finished; awaiting finish of 2 more threads\n",
      "2020-09-25 22:24:23,990 : INFO : worker thread finished; awaiting finish of 1 more threads\n",
      "2020-09-25 22:24:23,995 : INFO : worker thread finished; awaiting finish of 0 more threads\n",
      "2020-09-25 22:24:23,996 : INFO : EPOCH - 74 : training on 2995867 raw words (2963903 effective words) took 3.8s, 776368 effective words/s\n",
      "2020-09-25 22:24:25,009 : INFO : EPOCH 75 - PROGRESS: at 25.97% examples, 768078 words/s, in_qsize 6, out_qsize 0\n",
      "2020-09-25 22:24:26,017 : INFO : EPOCH 75 - PROGRESS: at 52.69% examples, 774816 words/s, in_qsize 7, out_qsize 0\n",
      "2020-09-25 22:24:27,018 : INFO : EPOCH 75 - PROGRESS: at 79.45% examples, 778914 words/s, in_qsize 7, out_qsize 0\n",
      "2020-09-25 22:24:27,748 : INFO : worker thread finished; awaiting finish of 3 more threads\n",
      "2020-09-25 22:24:27,761 : INFO : worker thread finished; awaiting finish of 2 more threads\n",
      "2020-09-25 22:24:27,781 : INFO : worker thread finished; awaiting finish of 1 more threads\n",
      "2020-09-25 22:24:27,786 : INFO : worker thread finished; awaiting finish of 0 more threads\n",
      "2020-09-25 22:24:27,787 : INFO : EPOCH - 75 : training on 2995867 raw words (2963903 effective words) took 3.8s, 784496 effective words/s\n",
      "2020-09-25 22:24:28,808 : INFO : EPOCH 76 - PROGRESS: at 26.62% examples, 784914 words/s, in_qsize 8, out_qsize 0\n",
      "2020-09-25 22:24:29,813 : INFO : EPOCH 76 - PROGRESS: at 54.70% examples, 805552 words/s, in_qsize 7, out_qsize 0\n",
      "2020-09-25 22:24:30,819 : INFO : EPOCH 76 - PROGRESS: at 82.77% examples, 811020 words/s, in_qsize 7, out_qsize 0\n",
      "2020-09-25 22:24:31,392 : INFO : worker thread finished; awaiting finish of 3 more threads\n",
      "2020-09-25 22:24:31,407 : INFO : worker thread finished; awaiting finish of 2 more threads\n",
      "2020-09-25 22:24:31,420 : INFO : worker thread finished; awaiting finish of 1 more threads\n",
      "2020-09-25 22:24:31,425 : INFO : worker thread finished; awaiting finish of 0 more threads\n",
      "2020-09-25 22:24:31,426 : INFO : EPOCH - 76 : training on 2995867 raw words (2963903 effective words) took 3.6s, 817437 effective words/s\n",
      "2020-09-25 22:24:32,431 : INFO : EPOCH 77 - PROGRESS: at 25.32% examples, 749120 words/s, in_qsize 7, out_qsize 0\n",
      "2020-09-25 22:24:33,455 : INFO : EPOCH 77 - PROGRESS: at 51.68% examples, 759495 words/s, in_qsize 8, out_qsize 1\n",
      "2020-09-25 22:24:34,457 : INFO : EPOCH 77 - PROGRESS: at 80.10% examples, 786000 words/s, in_qsize 7, out_qsize 0\n",
      "2020-09-25 22:24:35,125 : INFO : worker thread finished; awaiting finish of 3 more threads\n",
      "2020-09-25 22:24:35,125 : INFO : worker thread finished; awaiting finish of 2 more threads\n",
      "2020-09-25 22:24:35,154 : INFO : worker thread finished; awaiting finish of 1 more threads\n",
      "2020-09-25 22:24:35,164 : INFO : worker thread finished; awaiting finish of 0 more threads\n",
      "2020-09-25 22:24:35,165 : INFO : EPOCH - 77 : training on 2995867 raw words (2963903 effective words) took 3.7s, 795246 effective words/s\n",
      "2020-09-25 22:24:36,185 : INFO : EPOCH 78 - PROGRESS: at 27.97% examples, 823571 words/s, in_qsize 6, out_qsize 1\n",
      "2020-09-25 22:24:37,192 : INFO : EPOCH 78 - PROGRESS: at 54.39% examples, 800181 words/s, in_qsize 7, out_qsize 0\n",
      "2020-09-25 22:24:38,202 : INFO : EPOCH 78 - PROGRESS: at 79.78% examples, 781045 words/s, in_qsize 8, out_qsize 0\n",
      "2020-09-25 22:24:38,883 : INFO : worker thread finished; awaiting finish of 3 more threads\n",
      "2020-09-25 22:24:38,883 : INFO : worker thread finished; awaiting finish of 2 more threads\n",
      "2020-09-25 22:24:38,906 : INFO : worker thread finished; awaiting finish of 1 more threads\n",
      "2020-09-25 22:24:38,913 : INFO : worker thread finished; awaiting finish of 0 more threads\n",
      "2020-09-25 22:24:38,914 : INFO : EPOCH - 78 : training on 2995867 raw words (2963903 effective words) took 3.7s, 793147 effective words/s\n",
      "2020-09-25 22:24:39,919 : INFO : EPOCH 79 - PROGRESS: at 25.65% examples, 757762 words/s, in_qsize 7, out_qsize 0\n",
      "2020-09-25 22:24:40,936 : INFO : EPOCH 79 - PROGRESS: at 52.02% examples, 768068 words/s, in_qsize 7, out_qsize 0\n",
      "2020-09-25 22:24:41,945 : INFO : EPOCH 79 - PROGRESS: at 78.79% examples, 773345 words/s, in_qsize 7, out_qsize 0\n",
      "2020-09-25 22:24:42,690 : INFO : worker thread finished; awaiting finish of 3 more threads\n"
     ]
    },
    {
     "name": "stderr",
     "output_type": "stream",
     "text": [
      "2020-09-25 22:24:42,708 : INFO : worker thread finished; awaiting finish of 2 more threads\n",
      "2020-09-25 22:24:42,710 : INFO : worker thread finished; awaiting finish of 1 more threads\n",
      "2020-09-25 22:24:42,718 : INFO : worker thread finished; awaiting finish of 0 more threads\n",
      "2020-09-25 22:24:42,719 : INFO : EPOCH - 79 : training on 2995867 raw words (2963903 effective words) took 3.8s, 781668 effective words/s\n",
      "2020-09-25 22:24:43,739 : INFO : EPOCH 80 - PROGRESS: at 26.29% examples, 776800 words/s, in_qsize 7, out_qsize 0\n",
      "2020-09-25 22:24:44,726 : INFO : EPOCH 80 - PROGRESS: at 55.05% examples, 812572 words/s, in_qsize 7, out_qsize 0\n",
      "2020-09-25 22:24:45,754 : INFO : EPOCH 80 - PROGRESS: at 82.77% examples, 811539 words/s, in_qsize 8, out_qsize 0\n",
      "2020-09-25 22:24:46,338 : INFO : worker thread finished; awaiting finish of 3 more threads\n",
      "2020-09-25 22:24:46,351 : INFO : worker thread finished; awaiting finish of 2 more threads\n",
      "2020-09-25 22:24:46,355 : INFO : worker thread finished; awaiting finish of 1 more threads\n",
      "2020-09-25 22:24:46,367 : INFO : worker thread finished; awaiting finish of 0 more threads\n",
      "2020-09-25 22:24:46,369 : INFO : EPOCH - 80 : training on 2995867 raw words (2963903 effective words) took 3.6s, 815265 effective words/s\n",
      "2020-09-25 22:24:47,377 : INFO : EPOCH 81 - PROGRESS: at 26.29% examples, 779711 words/s, in_qsize 7, out_qsize 0\n",
      "2020-09-25 22:24:48,397 : INFO : EPOCH 81 - PROGRESS: at 53.68% examples, 790431 words/s, in_qsize 8, out_qsize 0\n",
      "2020-09-25 22:24:49,407 : INFO : EPOCH 81 - PROGRESS: at 81.41% examples, 797784 words/s, in_qsize 8, out_qsize 0\n",
      "2020-09-25 22:24:50,071 : INFO : worker thread finished; awaiting finish of 3 more threads\n",
      "2020-09-25 22:24:50,087 : INFO : worker thread finished; awaiting finish of 2 more threads\n",
      "2020-09-25 22:24:50,108 : INFO : worker thread finished; awaiting finish of 1 more threads\n",
      "2020-09-25 22:24:50,119 : INFO : worker thread finished; awaiting finish of 0 more threads\n",
      "2020-09-25 22:24:50,120 : INFO : EPOCH - 81 : training on 2995867 raw words (2963903 effective words) took 3.7s, 793003 effective words/s\n",
      "2020-09-25 22:24:51,135 : INFO : EPOCH 82 - PROGRESS: at 26.29% examples, 778589 words/s, in_qsize 7, out_qsize 0\n",
      "2020-09-25 22:24:52,139 : INFO : EPOCH 82 - PROGRESS: at 54.04% examples, 794245 words/s, in_qsize 7, out_qsize 0\n",
      "2020-09-25 22:24:53,141 : INFO : EPOCH 82 - PROGRESS: at 81.08% examples, 795382 words/s, in_qsize 7, out_qsize 0\n",
      "2020-09-25 22:24:53,849 : INFO : worker thread finished; awaiting finish of 3 more threads\n",
      "2020-09-25 22:24:53,854 : INFO : worker thread finished; awaiting finish of 2 more threads\n",
      "2020-09-25 22:24:53,855 : INFO : worker thread finished; awaiting finish of 1 more threads\n",
      "2020-09-25 22:24:53,857 : INFO : worker thread finished; awaiting finish of 0 more threads\n",
      "2020-09-25 22:24:53,858 : INFO : EPOCH - 82 : training on 2995867 raw words (2963903 effective words) took 3.7s, 795565 effective words/s\n",
      "2020-09-25 22:24:54,875 : INFO : EPOCH 83 - PROGRESS: at 25.97% examples, 768126 words/s, in_qsize 7, out_qsize 0\n",
      "2020-09-25 22:24:55,877 : INFO : EPOCH 83 - PROGRESS: at 53.35% examples, 786866 words/s, in_qsize 8, out_qsize 0\n",
      "2020-09-25 22:24:56,882 : INFO : EPOCH 83 - PROGRESS: at 81.73% examples, 804396 words/s, in_qsize 7, out_qsize 0\n",
      "2020-09-25 22:24:57,520 : INFO : worker thread finished; awaiting finish of 3 more threads\n",
      "2020-09-25 22:24:57,536 : INFO : worker thread finished; awaiting finish of 2 more threads\n",
      "2020-09-25 22:24:57,537 : INFO : worker thread finished; awaiting finish of 1 more threads\n",
      "2020-09-25 22:24:57,550 : INFO : worker thread finished; awaiting finish of 0 more threads\n",
      "2020-09-25 22:24:57,551 : INFO : EPOCH - 83 : training on 2995867 raw words (2963903 effective words) took 3.7s, 805301 effective words/s\n",
      "2020-09-25 22:24:58,566 : INFO : EPOCH 84 - PROGRESS: at 26.62% examples, 787077 words/s, in_qsize 7, out_qsize 0\n",
      "2020-09-25 22:24:59,583 : INFO : EPOCH 84 - PROGRESS: at 53.36% examples, 781752 words/s, in_qsize 7, out_qsize 0\n",
      "2020-09-25 22:25:00,604 : INFO : EPOCH 84 - PROGRESS: at 78.14% examples, 761042 words/s, in_qsize 7, out_qsize 0\n",
      "2020-09-25 22:25:01,448 : INFO : worker thread finished; awaiting finish of 3 more threads\n",
      "2020-09-25 22:25:01,451 : INFO : worker thread finished; awaiting finish of 2 more threads\n",
      "2020-09-25 22:25:01,469 : INFO : worker thread finished; awaiting finish of 1 more threads\n",
      "2020-09-25 22:25:01,477 : INFO : worker thread finished; awaiting finish of 0 more threads\n",
      "2020-09-25 22:25:01,478 : INFO : EPOCH - 84 : training on 2995867 raw words (2963903 effective words) took 3.9s, 757106 effective words/s\n",
      "2020-09-25 22:25:02,518 : INFO : EPOCH 85 - PROGRESS: at 23.33% examples, 674347 words/s, in_qsize 6, out_qsize 1\n",
      "2020-09-25 22:25:03,513 : INFO : EPOCH 85 - PROGRESS: at 48.01% examples, 700769 words/s, in_qsize 7, out_qsize 0\n",
      "2020-09-25 22:25:04,524 : INFO : EPOCH 85 - PROGRESS: at 72.15% examples, 702958 words/s, in_qsize 8, out_qsize 0\n",
      "2020-09-25 22:25:05,531 : INFO : EPOCH 85 - PROGRESS: at 98.39% examples, 721219 words/s, in_qsize 5, out_qsize 0\n",
      "2020-09-25 22:25:05,552 : INFO : worker thread finished; awaiting finish of 3 more threads\n",
      "2020-09-25 22:25:05,562 : INFO : worker thread finished; awaiting finish of 2 more threads\n",
      "2020-09-25 22:25:05,575 : INFO : worker thread finished; awaiting finish of 1 more threads\n",
      "2020-09-25 22:25:05,577 : INFO : worker thread finished; awaiting finish of 0 more threads\n",
      "2020-09-25 22:25:05,578 : INFO : EPOCH - 85 : training on 2995867 raw words (2963903 effective words) took 4.1s, 725333 effective words/s\n",
      "2020-09-25 22:25:06,591 : INFO : EPOCH 86 - PROGRESS: at 26.29% examples, 769650 words/s, in_qsize 7, out_qsize 0\n",
      "2020-09-25 22:25:07,611 : INFO : EPOCH 86 - PROGRESS: at 53.35% examples, 782955 words/s, in_qsize 8, out_qsize 0\n",
      "2020-09-25 22:25:08,609 : INFO : EPOCH 86 - PROGRESS: at 81.41% examples, 796839 words/s, in_qsize 7, out_qsize 0\n",
      "2020-09-25 22:25:09,257 : INFO : worker thread finished; awaiting finish of 3 more threads\n",
      "2020-09-25 22:25:09,257 : INFO : worker thread finished; awaiting finish of 2 more threads\n",
      "2020-09-25 22:25:09,288 : INFO : worker thread finished; awaiting finish of 1 more threads\n",
      "2020-09-25 22:25:09,290 : INFO : worker thread finished; awaiting finish of 0 more threads\n",
      "2020-09-25 22:25:09,291 : INFO : EPOCH - 86 : training on 2995867 raw words (2963903 effective words) took 3.7s, 800894 effective words/s\n",
      "2020-09-25 22:25:10,310 : INFO : EPOCH 87 - PROGRESS: at 25.97% examples, 767451 words/s, in_qsize 8, out_qsize 0\n",
      "2020-09-25 22:25:11,316 : INFO : EPOCH 87 - PROGRESS: at 52.35% examples, 771833 words/s, in_qsize 8, out_qsize 0\n",
      "2020-09-25 22:25:12,321 : INFO : EPOCH 87 - PROGRESS: at 78.79% examples, 773688 words/s, in_qsize 7, out_qsize 0\n",
      "2020-09-25 22:25:13,098 : INFO : worker thread finished; awaiting finish of 3 more threads\n",
      "2020-09-25 22:25:13,104 : INFO : worker thread finished; awaiting finish of 2 more threads\n",
      "2020-09-25 22:25:13,104 : INFO : worker thread finished; awaiting finish of 1 more threads\n",
      "2020-09-25 22:25:13,120 : INFO : worker thread finished; awaiting finish of 0 more threads\n",
      "2020-09-25 22:25:13,120 : INFO : EPOCH - 87 : training on 2995867 raw words (2963903 effective words) took 3.8s, 775481 effective words/s\n",
      "2020-09-25 22:25:14,139 : INFO : EPOCH 88 - PROGRESS: at 27.32% examples, 810565 words/s, in_qsize 7, out_qsize 0\n",
      "2020-09-25 22:25:15,134 : INFO : EPOCH 88 - PROGRESS: at 53.68% examples, 793253 words/s, in_qsize 7, out_qsize 0\n",
      "2020-09-25 22:25:16,161 : INFO : EPOCH 88 - PROGRESS: at 82.06% examples, 804830 words/s, in_qsize 8, out_qsize 0\n",
      "2020-09-25 22:25:16,770 : INFO : worker thread finished; awaiting finish of 3 more threads\n",
      "2020-09-25 22:25:16,792 : INFO : worker thread finished; awaiting finish of 2 more threads\n",
      "2020-09-25 22:25:16,808 : INFO : worker thread finished; awaiting finish of 1 more threads\n",
      "2020-09-25 22:25:16,819 : INFO : worker thread finished; awaiting finish of 0 more threads\n",
      "2020-09-25 22:25:16,820 : INFO : EPOCH - 88 : training on 2995867 raw words (2963903 effective words) took 3.7s, 805069 effective words/s\n",
      "2020-09-25 22:25:17,831 : INFO : EPOCH 89 - PROGRESS: at 25.32% examples, 748870 words/s, in_qsize 8, out_qsize 0\n"
     ]
    },
    {
     "name": "stderr",
     "output_type": "stream",
     "text": [
      "2020-09-25 22:25:18,839 : INFO : EPOCH 89 - PROGRESS: at 53.35% examples, 789019 words/s, in_qsize 7, out_qsize 0\n",
      "2020-09-25 22:25:19,844 : INFO : EPOCH 89 - PROGRESS: at 80.76% examples, 792805 words/s, in_qsize 7, out_qsize 0\n",
      "2020-09-25 22:25:20,544 : INFO : worker thread finished; awaiting finish of 3 more threads\n",
      "2020-09-25 22:25:20,560 : INFO : worker thread finished; awaiting finish of 2 more threads\n",
      "2020-09-25 22:25:20,584 : INFO : worker thread finished; awaiting finish of 1 more threads\n",
      "2020-09-25 22:25:20,586 : INFO : worker thread finished; awaiting finish of 0 more threads\n",
      "2020-09-25 22:25:20,587 : INFO : EPOCH - 89 : training on 2995867 raw words (2963903 effective words) took 3.8s, 789751 effective words/s\n",
      "2020-09-25 22:25:21,605 : INFO : EPOCH 90 - PROGRESS: at 24.98% examples, 735345 words/s, in_qsize 7, out_qsize 0\n",
      "2020-09-25 22:25:22,615 : INFO : EPOCH 90 - PROGRESS: at 52.35% examples, 769398 words/s, in_qsize 7, out_qsize 0\n",
      "2020-09-25 22:25:23,617 : INFO : EPOCH 90 - PROGRESS: at 77.18% examples, 754882 words/s, in_qsize 7, out_qsize 0\n",
      "2020-09-25 22:25:24,427 : INFO : worker thread finished; awaiting finish of 3 more threads\n",
      "2020-09-25 22:25:24,436 : INFO : worker thread finished; awaiting finish of 2 more threads\n",
      "2020-09-25 22:25:24,451 : INFO : worker thread finished; awaiting finish of 1 more threads\n",
      "2020-09-25 22:25:24,454 : INFO : worker thread finished; awaiting finish of 0 more threads\n",
      "2020-09-25 22:25:24,455 : INFO : EPOCH - 90 : training on 2995867 raw words (2963903 effective words) took 3.9s, 768908 effective words/s\n",
      "2020-09-25 22:25:25,466 : INFO : EPOCH 91 - PROGRESS: at 24.99% examples, 735290 words/s, in_qsize 7, out_qsize 0\n",
      "2020-09-25 22:25:26,484 : INFO : EPOCH 91 - PROGRESS: at 51.34% examples, 755213 words/s, in_qsize 8, out_qsize 0\n",
      "2020-09-25 22:25:27,500 : INFO : EPOCH 91 - PROGRESS: at 74.84% examples, 730574 words/s, in_qsize 8, out_qsize 0\n",
      "2020-09-25 22:25:28,418 : INFO : worker thread finished; awaiting finish of 3 more threads\n",
      "2020-09-25 22:25:28,433 : INFO : worker thread finished; awaiting finish of 2 more threads\n",
      "2020-09-25 22:25:28,443 : INFO : worker thread finished; awaiting finish of 1 more threads\n",
      "2020-09-25 22:25:28,454 : INFO : worker thread finished; awaiting finish of 0 more threads\n",
      "2020-09-25 22:25:28,456 : INFO : EPOCH - 91 : training on 2995867 raw words (2963903 effective words) took 4.0s, 743240 effective words/s\n",
      "2020-09-25 22:25:29,486 : INFO : EPOCH 92 - PROGRESS: at 23.65% examples, 683710 words/s, in_qsize 8, out_qsize 1\n",
      "2020-09-25 22:25:30,506 : INFO : EPOCH 92 - PROGRESS: at 50.68% examples, 737840 words/s, in_qsize 7, out_qsize 0\n",
      "2020-09-25 22:25:31,515 : INFO : EPOCH 92 - PROGRESS: at 75.51% examples, 733624 words/s, in_qsize 8, out_qsize 0\n",
      "2020-09-25 22:25:32,513 : INFO : EPOCH 92 - PROGRESS: at 98.75% examples, 721941 words/s, in_qsize 4, out_qsize 0\n",
      "2020-09-25 22:25:32,513 : INFO : worker thread finished; awaiting finish of 3 more threads\n",
      "2020-09-25 22:25:32,540 : INFO : worker thread finished; awaiting finish of 2 more threads\n",
      "2020-09-25 22:25:32,546 : INFO : worker thread finished; awaiting finish of 1 more threads\n",
      "2020-09-25 22:25:32,557 : INFO : worker thread finished; awaiting finish of 0 more threads\n",
      "2020-09-25 22:25:32,558 : INFO : EPOCH - 92 : training on 2995867 raw words (2963903 effective words) took 4.1s, 724856 effective words/s\n",
      "2020-09-25 22:25:33,579 : INFO : EPOCH 93 - PROGRESS: at 26.29% examples, 769240 words/s, in_qsize 7, out_qsize 0\n",
      "2020-09-25 22:25:34,605 : INFO : EPOCH 93 - PROGRESS: at 53.68% examples, 781323 words/s, in_qsize 8, out_qsize 2\n",
      "2020-09-25 22:25:35,615 : INFO : EPOCH 93 - PROGRESS: at 82.06% examples, 797909 words/s, in_qsize 8, out_qsize 0\n",
      "2020-09-25 22:25:36,336 : INFO : worker thread finished; awaiting finish of 3 more threads\n",
      "2020-09-25 22:25:36,349 : INFO : worker thread finished; awaiting finish of 2 more threads\n",
      "2020-09-25 22:25:36,369 : INFO : worker thread finished; awaiting finish of 1 more threads\n",
      "2020-09-25 22:25:36,375 : INFO : worker thread finished; awaiting finish of 0 more threads\n",
      "2020-09-25 22:25:36,376 : INFO : EPOCH - 93 : training on 2995867 raw words (2963903 effective words) took 3.8s, 778175 effective words/s\n",
      "2020-09-25 22:25:37,396 : INFO : EPOCH 94 - PROGRESS: at 23.65% examples, 696102 words/s, in_qsize 7, out_qsize 0\n",
      "2020-09-25 22:25:38,391 : INFO : EPOCH 94 - PROGRESS: at 50.35% examples, 739851 words/s, in_qsize 7, out_qsize 0\n",
      "2020-09-25 22:25:39,393 : INFO : EPOCH 94 - PROGRESS: at 77.83% examples, 763254 words/s, in_qsize 7, out_qsize 0\n",
      "2020-09-25 22:25:40,195 : INFO : worker thread finished; awaiting finish of 3 more threads\n",
      "2020-09-25 22:25:40,210 : INFO : worker thread finished; awaiting finish of 2 more threads\n",
      "2020-09-25 22:25:40,231 : INFO : worker thread finished; awaiting finish of 1 more threads\n",
      "2020-09-25 22:25:40,233 : INFO : worker thread finished; awaiting finish of 0 more threads\n",
      "2020-09-25 22:25:40,234 : INFO : EPOCH - 94 : training on 2995867 raw words (2963903 effective words) took 3.8s, 770541 effective words/s\n",
      "2020-09-25 22:25:41,259 : INFO : EPOCH 95 - PROGRESS: at 26.29% examples, 771571 words/s, in_qsize 8, out_qsize 0\n",
      "2020-09-25 22:25:42,266 : INFO : EPOCH 95 - PROGRESS: at 52.69% examples, 771168 words/s, in_qsize 7, out_qsize 0\n",
      "2020-09-25 22:25:43,284 : INFO : EPOCH 95 - PROGRESS: at 78.79% examples, 767389 words/s, in_qsize 7, out_qsize 0\n",
      "2020-09-25 22:25:44,043 : INFO : worker thread finished; awaiting finish of 3 more threads\n",
      "2020-09-25 22:25:44,043 : INFO : worker thread finished; awaiting finish of 2 more threads\n",
      "2020-09-25 22:25:44,078 : INFO : worker thread finished; awaiting finish of 1 more threads\n",
      "2020-09-25 22:25:44,080 : INFO : worker thread finished; awaiting finish of 0 more threads\n",
      "2020-09-25 22:25:44,081 : INFO : EPOCH - 95 : training on 2995867 raw words (2963903 effective words) took 3.8s, 772848 effective words/s\n",
      "2020-09-25 22:25:45,097 : INFO : EPOCH 96 - PROGRESS: at 24.65% examples, 729959 words/s, in_qsize 8, out_qsize 0\n",
      "2020-09-25 22:25:46,105 : INFO : EPOCH 96 - PROGRESS: at 51.68% examples, 762014 words/s, in_qsize 7, out_qsize 0\n",
      "2020-09-25 22:25:47,100 : INFO : EPOCH 96 - PROGRESS: at 79.13% examples, 777810 words/s, in_qsize 7, out_qsize 0\n",
      "2020-09-25 22:25:47,833 : INFO : worker thread finished; awaiting finish of 3 more threads\n",
      "2020-09-25 22:25:47,866 : INFO : worker thread finished; awaiting finish of 2 more threads\n",
      "2020-09-25 22:25:47,870 : INFO : worker thread finished; awaiting finish of 1 more threads\n",
      "2020-09-25 22:25:47,871 : INFO : worker thread finished; awaiting finish of 0 more threads\n",
      "2020-09-25 22:25:47,872 : INFO : EPOCH - 96 : training on 2995867 raw words (2963903 effective words) took 3.8s, 784694 effective words/s\n",
      "2020-09-25 22:25:48,883 : INFO : EPOCH 97 - PROGRESS: at 26.98% examples, 795546 words/s, in_qsize 7, out_qsize 0\n",
      "2020-09-25 22:25:49,884 : INFO : EPOCH 97 - PROGRESS: at 54.03% examples, 797175 words/s, in_qsize 7, out_qsize 0\n",
      "2020-09-25 22:25:50,900 : INFO : EPOCH 97 - PROGRESS: at 82.77% examples, 812914 words/s, in_qsize 7, out_qsize 0\n",
      "2020-09-25 22:25:51,482 : INFO : worker thread finished; awaiting finish of 3 more threads\n",
      "2020-09-25 22:25:51,510 : INFO : worker thread finished; awaiting finish of 2 more threads\n",
      "2020-09-25 22:25:51,513 : INFO : worker thread finished; awaiting finish of 1 more threads\n",
      "2020-09-25 22:25:51,515 : INFO : worker thread finished; awaiting finish of 0 more threads\n",
      "2020-09-25 22:25:51,517 : INFO : EPOCH - 97 : training on 2995867 raw words (2963903 effective words) took 3.6s, 815857 effective words/s\n",
      "2020-09-25 22:25:52,525 : INFO : EPOCH 98 - PROGRESS: at 26.29% examples, 773855 words/s, in_qsize 7, out_qsize 0\n",
      "2020-09-25 22:25:53,538 : INFO : EPOCH 98 - PROGRESS: at 53.68% examples, 790103 words/s, in_qsize 7, out_qsize 0\n",
      "2020-09-25 22:25:54,551 : INFO : EPOCH 98 - PROGRESS: at 80.76% examples, 791483 words/s, in_qsize 7, out_qsize 0\n",
      "2020-09-25 22:25:55,195 : INFO : worker thread finished; awaiting finish of 3 more threads\n",
      "2020-09-25 22:25:55,211 : INFO : worker thread finished; awaiting finish of 2 more threads\n",
      "2020-09-25 22:25:55,222 : INFO : worker thread finished; awaiting finish of 1 more threads\n"
     ]
    },
    {
     "name": "stderr",
     "output_type": "stream",
     "text": [
      "2020-09-25 22:25:55,228 : INFO : worker thread finished; awaiting finish of 0 more threads\n",
      "2020-09-25 22:25:55,229 : INFO : EPOCH - 98 : training on 2995867 raw words (2963903 effective words) took 3.7s, 800760 effective words/s\n",
      "2020-09-25 22:25:56,242 : INFO : EPOCH 99 - PROGRESS: at 24.65% examples, 731031 words/s, in_qsize 7, out_qsize 0\n",
      "2020-09-25 22:25:57,245 : INFO : EPOCH 99 - PROGRESS: at 51.01% examples, 753591 words/s, in_qsize 7, out_qsize 0\n",
      "2020-09-25 22:25:58,257 : INFO : EPOCH 99 - PROGRESS: at 79.78% examples, 783386 words/s, in_qsize 8, out_qsize 0\n",
      "2020-09-25 22:25:58,962 : INFO : worker thread finished; awaiting finish of 3 more threads\n",
      "2020-09-25 22:25:58,977 : INFO : worker thread finished; awaiting finish of 2 more threads\n",
      "2020-09-25 22:25:58,995 : INFO : worker thread finished; awaiting finish of 1 more threads\n",
      "2020-09-25 22:25:59,002 : INFO : worker thread finished; awaiting finish of 0 more threads\n",
      "2020-09-25 22:25:59,003 : INFO : EPOCH - 99 : training on 2995867 raw words (2963903 effective words) took 3.8s, 787787 effective words/s\n",
      "2020-09-25 22:26:00,025 : INFO : EPOCH 100 - PROGRESS: at 27.32% examples, 802522 words/s, in_qsize 8, out_qsize 0\n",
      "2020-09-25 22:26:01,027 : INFO : EPOCH 100 - PROGRESS: at 51.68% examples, 760378 words/s, in_qsize 7, out_qsize 0\n",
      "2020-09-25 22:26:02,025 : INFO : EPOCH 100 - PROGRESS: at 76.16% examples, 747269 words/s, in_qsize 7, out_qsize 0\n",
      "2020-09-25 22:26:02,930 : INFO : worker thread finished; awaiting finish of 3 more threads\n",
      "2020-09-25 22:26:02,937 : INFO : worker thread finished; awaiting finish of 2 more threads\n",
      "2020-09-25 22:26:02,941 : INFO : worker thread finished; awaiting finish of 1 more threads\n",
      "2020-09-25 22:26:02,942 : INFO : worker thread finished; awaiting finish of 0 more threads\n",
      "2020-09-25 22:26:02,944 : INFO : EPOCH - 100 : training on 2995867 raw words (2963903 effective words) took 3.9s, 754356 effective words/s\n",
      "2020-09-25 22:26:02,944 : INFO : training on a 299586700 raw words (296390300 effective words) took 388.8s, 762247 effective words/s\n"
     ]
    }
   ],
   "source": [
    "# sg - skip gram |  window = size of the window | size = vector dimension\n",
    "size = 100\n",
    "window_size = 2 \n",
    "epochs = 100\n",
    "min_count = 2\n",
    "workers = 4\n",
    "model = Word2Vec(corpus, sg=1,window=window_size,size=size,\n",
    "                 min_count=min_count,workers=workers,iter=epochs,sample=0.01)"
   ]
  },
  {
   "cell_type": "code",
   "execution_count": 100,
   "metadata": {},
   "outputs": [
    {
     "name": "stderr",
     "output_type": "stream",
     "text": [
      "2020-09-25 22:30:52,804 : INFO : saving Word2Vec object under w2v_model, separately None\n",
      "2020-09-25 22:30:52,805 : INFO : not storing attribute vectors_norm\n",
      "2020-09-25 22:30:52,806 : INFO : not storing attribute cum_table\n",
      "2020-09-25 22:30:53,045 : INFO : saved w2v_model\n"
     ]
    }
   ],
   "source": [
    "model.save('w2v_model')"
   ]
  },
  {
   "cell_type": "code",
   "execution_count": 101,
   "metadata": {},
   "outputs": [
    {
     "name": "stderr",
     "output_type": "stream",
     "text": [
      "2020-09-25 22:31:00,342 : INFO : loading Word2Vec object from w2v_model\n",
      "2020-09-25 22:31:00,568 : INFO : loading wv recursively from w2v_model.wv.* with mmap=None\n",
      "2020-09-25 22:31:00,569 : INFO : setting ignored attribute vectors_norm to None\n",
      "2020-09-25 22:31:00,570 : INFO : loading vocabulary recursively from w2v_model.vocabulary.* with mmap=None\n",
      "2020-09-25 22:31:00,571 : INFO : loading trainables recursively from w2v_model.trainables.* with mmap=None\n",
      "2020-09-25 22:31:00,573 : INFO : setting ignored attribute cum_table to None\n",
      "2020-09-25 22:31:00,574 : INFO : loaded w2v_model\n"
     ]
    }
   ],
   "source": [
    "model = Word2Vec.load('w2v_model')"
   ]
  },
  {
   "cell_type": "markdown",
   "metadata": {},
   "source": [
    "## Prueba de Modelo TOP 3"
   ]
  },
  {
   "cell_type": "code",
   "execution_count": 102,
   "metadata": {
    "scrolled": true
   },
   "outputs": [
    {
     "name": "stderr",
     "output_type": "stream",
     "text": [
      "2020-09-25 22:31:06,280 : INFO : precomputing L2-norms of word weight vectors\n"
     ]
    },
    {
     "data": {
      "text/plain": [
       "[('king', 0.6565696001052856),\n",
       " ('king_size', 0.5799823999404907),\n",
       " ('king_sized', 0.5737249851226807)]"
      ]
     },
     "execution_count": 102,
     "metadata": {},
     "output_type": "execute_result"
    }
   ],
   "source": [
    "model.wv.most_similar(positive=['man', 'queen'], negative=['women'], topn=3)"
   ]
  },
  {
   "cell_type": "code",
   "execution_count": 103,
   "metadata": {},
   "outputs": [
    {
     "data": {
      "text/plain": [
       "[('property', 0.4965765178203583),\n",
       " ('accommodation', 0.4946577250957489),\n",
       " ('newlyrenovated', 0.45262718200683594)]"
      ]
     },
     "execution_count": 103,
     "metadata": {},
     "output_type": "execute_result"
    }
   ],
   "source": [
    "model.wv.most_similar(positive=['hotel', 'room'], negative=['cafe'], topn=3)"
   ]
  },
  {
   "cell_type": "code",
   "execution_count": 104,
   "metadata": {},
   "outputs": [
    {
     "data": {
      "text/plain": [
       "[('excited', 0.5196446180343628),\n",
       " ('pleased', 0.5049136877059937),\n",
       " ('disappointed', 0.44200944900512695)]"
      ]
     },
     "execution_count": 104,
     "metadata": {},
     "output_type": "execute_result"
    }
   ],
   "source": [
    "model.wv.most_similar(positive=['happy', 'sad'], negative=['annoy'], topn=3)"
   ]
  },
  {
   "cell_type": "markdown",
   "metadata": {},
   "source": [
    "### Resultados por Palabra clave"
   ]
  },
  {
   "cell_type": "code",
   "execution_count": 107,
   "metadata": {},
   "outputs": [
    {
     "data": {
      "text/plain": [
       "'hotel'"
      ]
     },
     "execution_count": 107,
     "metadata": {},
     "output_type": "execute_result"
    }
   ],
   "source": [
    "model.wv.doesnt_match('hotel nice clean'.split())"
   ]
  },
  {
   "cell_type": "code",
   "execution_count": 108,
   "metadata": {},
   "outputs": [
    {
     "data": {
      "text/plain": [
       "'continental'"
      ]
     },
     "execution_count": 108,
     "metadata": {},
     "output_type": "execute_result"
    }
   ],
   "source": [
    "model.wv.doesnt_match('breakfast dinner continental lunch'.split())"
   ]
  },
  {
   "cell_type": "code",
   "execution_count": 109,
   "metadata": {},
   "outputs": [
    {
     "data": {
      "text/plain": [
       "0.76888686"
      ]
     },
     "execution_count": 109,
     "metadata": {},
     "output_type": "execute_result"
    }
   ],
   "source": [
    "model.wv.similarity('dinner','lunch')"
   ]
  },
  {
   "cell_type": "code",
   "execution_count": 110,
   "metadata": {},
   "outputs": [
    {
     "data": {
      "text/plain": [
       "0.21856992"
      ]
     },
     "execution_count": 110,
     "metadata": {},
     "output_type": "execute_result"
    }
   ],
   "source": [
    "model.wv.similarity('hotel','clean')"
   ]
  },
  {
   "cell_type": "code",
   "execution_count": 111,
   "metadata": {},
   "outputs": [
    {
     "data": {
      "text/plain": [
       "[('ideal', 0.7670559883117676),\n",
       " ('great', 0.6741278767585754),\n",
       " ('brilliant', 0.6500482559204102),\n",
       " ('excellent', 0.6226468086242676),\n",
       " ('wonderful', 0.6188117265701294),\n",
       " ('roomnice', 0.6086671948432922),\n",
       " ('superb', 0.6061738729476929),\n",
       " ('terrific', 0.6009649038314819),\n",
       " ('fantastic', 0.599994957447052),\n",
       " ('accessability', 0.5985549688339233)]"
      ]
     },
     "execution_count": 111,
     "metadata": {},
     "output_type": "execute_result"
    }
   ],
   "source": [
    "model.wv.most_similar('perfect')"
   ]
  },
  {
   "cell_type": "code",
   "execution_count": 112,
   "metadata": {},
   "outputs": [
    {
     "data": {
      "text/plain": [
       "[('roomy', 0.7971757054328918),\n",
       " ('large', 0.7285640239715576),\n",
       " ('well_appointed', 0.7206459641456604),\n",
       " ('spacous', 0.7116336822509766),\n",
       " ('roombath', 0.7101600766181946),\n",
       " ('goodsize', 0.6990399360656738),\n",
       " ('cleam', 0.6947033405303955),\n",
       " ('incredable', 0.6911747455596924),\n",
       " ('confy', 0.6879125237464905),\n",
       " ('apportioned', 0.6848894357681274)]"
      ]
     },
     "execution_count": 112,
     "metadata": {},
     "output_type": "execute_result"
    }
   ],
   "source": [
    "model.wv.most_similar('spacious')"
   ]
  },
  {
   "cell_type": "code",
   "execution_count": 113,
   "metadata": {},
   "outputs": [
    {
     "data": {
      "text/plain": [
       "[('highly_recommend', 0.8238503336906433),\n",
       " ('recomend', 0.8000187873840332),\n",
       " ('reccomend', 0.7726543545722961),\n",
       " ('recommed', 0.7598069310188293),\n",
       " ('reccommend', 0.7544780969619751),\n",
       " ('suggest', 0.7491920590400696),\n",
       " ('recommned', 0.6948679685592651),\n",
       " ('edited', 0.6572692394256592),\n",
       " ('recoomend', 0.6539791226387024),\n",
       " ('hesistate', 0.6516320109367371)]"
      ]
     },
     "execution_count": 113,
     "metadata": {},
     "output_type": "execute_result"
    }
   ],
   "source": [
    "model.wv.most_similar('recommend')"
   ]
  },
  {
   "cell_type": "code",
   "execution_count": 114,
   "metadata": {},
   "outputs": [
    {
     "data": {
      "text/plain": [
       "[('sciences', 0.5128594636917114),\n",
       " ('specialities', 0.49903154373168945),\n",
       " ('sutro', 0.4851619303226471),\n",
       " ('croquet', 0.48510968685150146),\n",
       " ('yadda', 0.46553629636764526),\n",
       " ('coldhot', 0.45534175634384155),\n",
       " ('winged', 0.4542667865753174),\n",
       " ('panoramic', 0.451122522354126),\n",
       " ('fruit_salad', 0.4467257559299469),\n",
       " ('grammy', 0.4463244080543518)]"
      ]
     },
     "execution_count": 114,
     "metadata": {},
     "output_type": "execute_result"
    }
   ],
   "source": [
    "model.wv.most_similar('natural')"
   ]
  },
  {
   "cell_type": "code",
   "execution_count": 115,
   "metadata": {
    "scrolled": true
   },
   "outputs": [
    {
     "data": {
      "text/plain": [
       "[('loved', 0.7054936289787292),\n",
       " ('liked', 0.5951526761054993),\n",
       " ('adore', 0.5891929864883423),\n",
       " ('kimption', 0.5746123790740967),\n",
       " ('enjoyed', 0.5512884259223938),\n",
       " ('enjoy', 0.5295683145523071),\n",
       " ('overdrive', 0.5241472721099854),\n",
       " ('implore', 0.5185259580612183),\n",
       " ('awesome', 0.5178641080856323),\n",
       " ('hearbeat', 0.4972344934940338)]"
      ]
     },
     "execution_count": 115,
     "metadata": {},
     "output_type": "execute_result"
    }
   ],
   "source": [
    "model.wv.most_similar('love')"
   ]
  },
  {
   "cell_type": "code",
   "execution_count": 116,
   "metadata": {},
   "outputs": [
    {
     "data": {
      "text/plain": [
       "[('husband', 0.9216257333755493),\n",
       " ('daughter', 0.7049850225448608),\n",
       " ('boyfriend', 0.6844373941421509),\n",
       " ('son', 0.6691243648529053),\n",
       " ('partner', 0.661523163318634),\n",
       " ('fiance', 0.6566592454910278),\n",
       " ('girlfriend', 0.6499475836753845),\n",
       " ('friend', 0.638625979423523),\n",
       " ('mother', 0.624932587146759),\n",
       " ('mom', 0.6126346588134766)]"
      ]
     },
     "execution_count": 116,
     "metadata": {},
     "output_type": "execute_result"
    }
   ],
   "source": [
    "model.wv.most_similar('wife')"
   ]
  },
  {
   "cell_type": "code",
   "execution_count": 117,
   "metadata": {},
   "outputs": [
    {
     "data": {
      "text/plain": [
       "[('brand_new', 0.6232224702835083),\n",
       " ('updated', 0.5446164011955261),\n",
       " ('newer', 0.5306969881057739),\n",
       " ('renovated', 0.5237247943878174),\n",
       " ('newly', 0.5162885785102844),\n",
       " ('shiny', 0.5022820234298706),\n",
       " ('newly_remodeled', 0.4964227080345154),\n",
       " ('refurbished', 0.49325621128082275),\n",
       " ('wplenty', 0.49053195118904114),\n",
       " ('spanking', 0.4861977696418762)]"
      ]
     },
     "execution_count": 117,
     "metadata": {},
     "output_type": "execute_result"
    }
   ],
   "source": [
    "model.wv.most_similar('new')"
   ]
  },
  {
   "cell_type": "markdown",
   "metadata": {},
   "source": [
    "- Responder:\n",
    "    - ¿Su modelo da buenos resultados? ¿Por qué sí o por qué no?\n",
    "    \n",
    "    Los resutados me parecen aceptables, porque al buscar la relacion de palabras los resultados son acertados.\n",
    "    \n",
    "    \n",
    "    \n",
    "    - ¿Qué problemas encontró al realizar este taller?\n",
    "    \n",
    "    Intente con varias Datas mas grades y creo que para este tipo de Modelos es necesario contar con una buena maquina, ya que al ver el el procesamiento  de maquina consume muchos recursos, y pues si voy a trabajar con volumnes grandes de informacion, ya me tocaria apuntar a servers o nube."
   ]
  },
  {
   "attachments": {
    "Rendimiento%20Taller6.PNG": {
     "image/png": "[encoded data removed]"
    }
   },
   "cell_type": "markdown",
   "metadata": {},
   "source": [
    "![Rendimiento%20Taller6.PNG](attachment:Rendimiento%20Taller6.PNG)"
   ]
  },
  {
   "attachments": {
    "Rendimiento%20Taller6-2.PNG": {
     "image/png": "[encoded data removed]"
    }
   },
   "cell_type": "markdown",
   "metadata": {},
   "source": [
    "![Rendimiento%20Taller6-2.PNG](attachment:Rendimiento%20Taller6-2.PNG)"
   ]
  },
  {
   "cell_type": "code",
   "execution_count": null,
   "metadata": {},
   "outputs": [],
   "source": []
  }
 ],
 "metadata": {
  "kernelspec": {
   "display_name": "Python 3",
   "language": "python",
   "name": "python3"
  },
  "language_info": {
   "codemirror_mode": {
    "name": "ipython",
    "version": 3
   },
   "file_extension": ".py",
   "mimetype": "text/x-python",
   "name": "python",
   "nbconvert_exporter": "python",
   "pygments_lexer": "ipython3",
   "version": "3.8.3"
  }
 },
 "nbformat": 4,
 "nbformat_minor": 1
}
